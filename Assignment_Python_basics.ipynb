{
 "cells": [
  {
   "cell_type": "markdown",
   "id": "21eff5ac-dd4d-455c-bf60-016cac0569f2",
   "metadata": {},
   "source": [
    "# Assignent_Python_Basics"
   ]
  },
  {
   "cell_type": "code",
   "execution_count": 3,
   "id": "718b8b30-1f53-4990-a8a6-71c89b252d9e",
   "metadata": {},
   "outputs": [
    {
     "name": "stdin",
     "output_type": "stream",
     "text": [
      " Welcome to Python programming.\n"
     ]
    },
    {
     "data": {
      "text/plain": [
       "30"
      ]
     },
     "execution_count": 3,
     "metadata": {},
     "output_type": "execute_result"
    }
   ],
   "source": [
    "# 1. Write a Python program that takes a string as input and prints the length of the string.\n",
    "\n",
    "string3 = input()  # To take input from the user which will be stored in string3\n",
    "len(string3)       # This function gives the length of the string given as input by the user and stored inside string3."
   ]
  },
  {
   "cell_type": "code",
   "execution_count": 4,
   "id": "44747f40-2070-45fe-8996-cf32746e7efb",
   "metadata": {},
   "outputs": [
    {
     "name": "stdin",
     "output_type": "stream",
     "text": [
      " within an instance\n"
     ]
    },
    {
     "name": "stdout",
     "output_type": "stream",
     "text": [
      "6\n"
     ]
    }
   ],
   "source": [
    "# 2. Create a program that takes a sentence from the user and counts the number of vowels (a, e, i, o, u) in the string.\n",
    "\n",
    "Phrase = input()          # To take input from the user which will be stored in Phrase\n",
    "vowels = \"aeiouAEIOU\"     # To declare the vowels.\n",
    "count = sum(Phrase.count(vowel) for vowel in vowels)  # To calculate the number of occurence of the vowels are in the input.\n",
    "print(count)              # To print the number of the vowels in the input given by user and stored in Phrase."
   ]
  },
  {
   "cell_type": "code",
   "execution_count": 5,
   "id": "2d3b643b-2dd3-43c3-aba3-49fbab815cda",
   "metadata": {},
   "outputs": [
    {
     "name": "stdin",
     "output_type": "stream",
     "text": [
      " Wonderland\n"
     ]
    },
    {
     "name": "stdout",
     "output_type": "stream",
     "text": [
      "dnalrednoW\n"
     ]
    }
   ],
   "source": [
    "# 3. Given a string, reverse the order of characters using string slicing and print the reversed string.\n",
    "\n",
    "string1 = input()         # To take input from the user which can be stored in string1.\n",
    "string2 = string1[::-1]   # To reverse the order of characters of string1\n",
    "print(string2)"
   ]
  },
  {
   "cell_type": "code",
   "execution_count": 7,
   "id": "28fdf589-edfe-41e4-b545-3f291b3c8d66",
   "metadata": {},
   "outputs": [
    {
     "name": "stdin",
     "output_type": "stream",
     "text": [
      " Who\n"
     ]
    },
    {
     "name": "stdout",
     "output_type": "stream",
     "text": [
      "Sorry, It is not a palindrome.\n"
     ]
    }
   ],
   "source": [
    "# 4. Write a program that takes a string as input and checks if it is a palindrome.\n",
    "\n",
    "string3 = input()         # To take input from the user which can be stored in string3.\n",
    "string4 = string3[::-1]   # To reverse the order of characters of string3 \n",
    "if string3 == string4:  # To check whether the string1 and the reversed string of string3 which is string4 are same or not.\n",
    "    print(\"It is a palindrome!\")   # If string3 and string4 are same then program prints this.\n",
    "else:\n",
    "    print(\"Sorry, It is not a palindrome.\")   # if string3 and string4 are not same then program prints this."
   ]
  },
  {
   "cell_type": "code",
   "execution_count": 9,
   "id": "5f13e855-6f04-4a52-b089-a52842923ec4",
   "metadata": {},
   "outputs": [
    {
     "name": "stdin",
     "output_type": "stream",
     "text": [
      " We the people of India\n"
     ]
    },
    {
     "name": "stdout",
     "output_type": "stream",
     "text": [
      "WethepeopleofIndia\n"
     ]
    }
   ],
   "source": [
    "# 5. Create a program that takes a string as input and removes all the spaces from it. Print the modified string without spaces.\n",
    "\n",
    "string5 = input()              # To take input from the user which can be stored in string5.\n",
    "print(string5.replace(\" \",\"\")) # This will print the input stored in string5 while replacing spaces with no space between characters."
   ]
  },
  {
   "cell_type": "code",
   "execution_count": null,
   "id": "550d11e4-b347-4b77-9378-90bcae914af8",
   "metadata": {},
   "outputs": [],
   "source": []
  }
 ],
 "metadata": {
  "kernelspec": {
   "display_name": "Python 3 (ipykernel)",
   "language": "python",
   "name": "python3"
  },
  "language_info": {
   "codemirror_mode": {
    "name": "ipython",
    "version": 3
   },
   "file_extension": ".py",
   "mimetype": "text/x-python",
   "name": "python",
   "nbconvert_exporter": "python",
   "pygments_lexer": "ipython3",
   "version": "3.10.8"
  }
 },
 "nbformat": 4,
 "nbformat_minor": 5
}
