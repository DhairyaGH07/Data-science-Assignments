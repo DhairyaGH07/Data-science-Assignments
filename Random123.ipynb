{
 "cells": [
  {
   "cell_type": "code",
   "execution_count": 21,
   "id": "e71b6e87-bf3b-4813-b95a-170a6915c3d2",
   "metadata": {},
   "outputs": [
    {
     "name": "stdout",
     "output_type": "stream",
     "text": [
      "The car is Mercedese AMG \n",
      "It has a V6 engine and it has 5 doors\n"
     ]
    }
   ],
   "source": [
    "Car='Mercedese AMG'\n",
    "engine='V6'\n",
    "Doors=5\n",
    "print(f'The car is {Car} \\nIt has a {engine} engine and it has {Doors} doors')"
   ]
  },
  {
   "cell_type": "markdown",
   "id": "f62a34b0-d6c0-4e62-8601-466f0c4facfa",
   "metadata": {},
   "source": [
    "## password creation"
   ]
  },
  {
   "cell_type": "code",
   "execution_count": 86,
   "id": "93e80722-9692-4bde-a6dd-be268a5e16b0",
   "metadata": {},
   "outputs": [
    {
     "name": "stdin",
     "output_type": "stream",
     "text": [
      "Enter your name: dhairya\n",
      "Enter your DOB: 24061994\n",
      "Enter your Password here: dhai2406\n"
     ]
    },
    {
     "name": "stdout",
     "output_type": "stream",
     "text": [
      "Welcome to the Community\n"
     ]
    }
   ],
   "source": [
    "Name=str(input(\"Enter your name:\"))\n",
    "password_part_Name=Name[0:4]\n",
    "DOB=str(input(\"Enter your DOB:\"))\n",
    "password_part_DOB=DOB[0:4]\n",
    "Password=input(\"Enter your Password here:\")\n",
    "if Password ==password_part_Name+password_part_DOB:\n",
    "    print(\"Welcome to the Community\")\n",
    "else:\n",
    "    print(\"Enter the correct password\")\n",
    "\n"
   ]
  },
  {
   "cell_type": "markdown",
   "id": "43fd953f-1d1e-4851-9dab-ec4704e07ca6",
   "metadata": {},
   "source": [
    "##### "
   ]
  },
  {
   "cell_type": "code",
   "execution_count": 15,
   "id": "0771515e-5e0f-408c-be71-b71291fa1a12",
   "metadata": {},
   "outputs": [
    {
     "name": "stdin",
     "output_type": "stream",
     "text": [
      "Enter your age: 22\n"
     ]
    },
    {
     "name": "stdout",
     "output_type": "stream",
     "text": [
      "Yoy are young blood\n"
     ]
    }
   ],
   "source": [
    "age=int(input('Enter your age:'))\n",
    "if age>=18 and age<=45:\n",
    "    print(\"Yoy are young blood\")"
   ]
  },
  {
   "cell_type": "code",
   "execution_count": 34,
   "id": "a642115b-98ef-4690-a183-197ba43e39d5",
   "metadata": {},
   "outputs": [
    {
     "name": "stdin",
     "output_type": "stream",
     "text": [
      "Enter an amount: 5000\n"
     ]
    },
    {
     "name": "stdout",
     "output_type": "stream",
     "text": [
      "Conratulations! You will have 20% discount. You need to pay Rs.4000/- at the counter.\n"
     ]
    }
   ],
   "source": [
    "PrPrice=int(input(\"Enter an amount:\"))\n",
    "\n",
    "if PrPrice> 1000:\n",
    "    print(f\"Conratulations! You will have 20% discount. You need to pay Rs.{int(PrPrice-(PrPrice*20/100))}/- at the counter.\")\n",
    "else:\n",
    "    print(f\"Conratulations! You will have 20% discount. You need to pay Rs.{int(PrPrice-(PrPrice*30/100))}/- at the counter.\")"
   ]
  },
  {
   "cell_type": "code",
   "execution_count": null,
   "id": "7cf46b8e-0b94-47ed-b27d-1c03e1f46cbe",
   "metadata": {},
   "outputs": [],
   "source": [
    "PrPrice=int(input(\"Enter an amount:\"))\n",
    "\n",
    "if PrPrice>3000:\n",
    "    print(f\"Conratulations! You will have 20% discount. You need to pay Rs.{int(PrPrice-(PrPrice*20/100))}/-.\")\n",
    "if PrPrice<=3000 and PrPrice>=2000:\n",
    "    print(f\"Conratulations! You will have 30% discount. You need to pay Rs.{int(PrPrice-(PrPrice*30/100))}/-.\")\n",
    "    "
   ]
  },
  {
   "cell_type": "code",
   "execution_count": 87,
   "id": "823a7b3b-2962-4434-92d1-ddf5be81c1c7",
   "metadata": {},
   "outputs": [
    {
     "name": "stdin",
     "output_type": "stream",
     "text": [
      "Enter an amount: 5000\n"
     ]
    },
    {
     "name": "stdout",
     "output_type": "stream",
     "text": [
      "Conratulations! You will have 20% discount. You need to pay Rs.4000/-.\n"
     ]
    }
   ],
   "source": [
    "PrPrice=int(input(\"Enter an amount:\"))\n",
    "\n",
    "if PrPrice>3000:\n",
    "    print(f\"Conratulations! You will have 20% discount. You need to pay Rs.{int(PrPrice-(PrPrice*20/100))}/-.\")\n",
    "elif PrPrice<=3000 and PrPrice>=2000:\n",
    "    print(f\"Conratulations! You will have 30% discount. You need to pay Rs.{int(PrPrice-(PrPrice*30/100))}/-.\")\n",
    "elif PrPrice>1000 and PrPrice<2000:\n",
    "    print(f\"Conratulations! You will have 40% discount. You need to pay Rs.{int(PrPrice-(PrPrice*40/100))}/-.\")\n",
    "else:\n",
    "    print(f\"Better luck next time. No discount on this amount. You need to pay {PrPrice}/-.\")"
   ]
  },
  {
   "cell_type": "code",
   "execution_count": 51,
   "id": "12d0e8e2-9373-47e8-bf58-03749324cf08",
   "metadata": {},
   "outputs": [
    {
     "name": "stdin",
     "output_type": "stream",
     "text": [
      "Enter an amount: 500\n"
     ]
    },
    {
     "name": "stdout",
     "output_type": "stream",
     "text": [
      "Better luck next time. No discount on this amount. You need to pay 500/-.\n"
     ]
    }
   ],
   "source": [
    "PrPrice=int(input(\"Enter an amount:\"))\n",
    "\n",
    "if PrPrice>3000:\n",
    "    print(f\"Conratulations! You will have 20% discount. You need to pay Rs.{int(PrPrice-(PrPrice*20/100))}/-.\")\n",
    "elif PrPrice<=3000 and PrPrice>=2000:\n",
    "    print(f\"Conratulations! You will have 30% discount. You need to pay Rs.{int(PrPrice-(PrPrice*30/100))}/-.\")\n",
    "elif PrPrice>1000 and PrPrice<2000:\n",
    "    print(f\"Conratulations! You will have 40% discount. You need to pay Rs.{int(PrPrice-(PrPrice*40/100))}/-.\")\n",
    "else:\n",
    "    print(f\"Better luck next time. No discount on this amount. You need to pay {PrPrice}/-.\")    "
   ]
  },
  {
   "cell_type": "code",
   "execution_count": null,
   "id": "83e2f755-d1d2-4cb2-a798-7de8a1c1212c",
   "metadata": {},
   "outputs": [],
   "source": []
  }
 ],
 "metadata": {
  "kernelspec": {
   "display_name": "Python 3 (ipykernel)",
   "language": "python",
   "name": "python3"
  },
  "language_info": {
   "codemirror_mode": {
    "name": "ipython",
    "version": 3
   },
   "file_extension": ".py",
   "mimetype": "text/x-python",
   "name": "python",
   "nbconvert_exporter": "python",
   "pygments_lexer": "ipython3",
   "version": "3.10.8"
  }
 },
 "nbformat": 4,
 "nbformat_minor": 5
}
