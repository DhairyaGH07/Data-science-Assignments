{
 "cells": [
  {
   "cell_type": "code",
   "execution_count": 17,
   "id": "7179454f-ca30-4548-a730-009fe2fd9f0c",
   "metadata": {},
   "outputs": [
    {
     "name": "stdout",
     "output_type": "stream",
     "text": [
      "[1, 2, 3, 4, 5, 6, 7, 8, 9, 10]\n"
     ]
    }
   ],
   "source": [
    "# 1. Write a Python program to print the numbers from 1 to 10 using a `for` loop.\n",
    "lst1 = []\n",
    "i = 0\n",
    "for i in range(0,10):\n",
    "    i += 1\n",
    "    lst1.append(i)\n",
    "print(lst1)"
   ]
  },
  {
   "cell_type": "code",
   "execution_count": 33,
   "id": "70cb88b8-406d-4b30-a430-406d4a1ef7c3",
   "metadata": {},
   "outputs": [
    {
     "name": "stdout",
     "output_type": "stream",
     "text": [
      "15\n"
     ]
    }
   ],
   "source": [
    "# 2. Create a program that calculates the sum of all numbers in a list using a `for` loop\n",
    "\n",
    "lst2 = [1,2,3,4,5]\n",
    "total = 0\n",
    "for i in range(0, len(lst2)):\n",
    "    total = total + lst2[i]\n",
    "print(total)\n",
    "    "
   ]
  },
  {
   "cell_type": "code",
   "execution_count": 45,
   "id": "6f72068e-4242-48ca-bffa-0beec0ae2cb5",
   "metadata": {},
   "outputs": [
    {
     "name": "stdout",
     "output_type": "stream",
     "text": [
      "!dlroW olleH\n"
     ]
    }
   ],
   "source": [
    "# 3. Write a program to print the characters of a string in reverse order using a `for` loop\n",
    "\n",
    "string1 = \"Hello World!\"\n",
    "string2 = \"\"\n",
    "for i in string1:\n",
    "    string2 = i + string2\n",
    "print(string2)"
   ]
  },
  {
   "cell_type": "code",
   "execution_count": 61,
   "id": "6ce87192-d083-4636-b3ae-f662f30f2c35",
   "metadata": {},
   "outputs": [
    {
     "name": "stdin",
     "output_type": "stream",
     "text": [
      "Enter a positive number:  5\n"
     ]
    },
    {
     "name": "stdout",
     "output_type": "stream",
     "text": [
      "Factorial value for [5] is: 120\n"
     ]
    }
   ],
   "source": [
    "# 4. Develop a program that finds the factorial of a given number using a `for` loop.\n",
    "\n",
    "number = int(input(\"Enter a positive number: \"))\n",
    "fact=1\n",
    "for i in range(2,number+1):\n",
    "        fact *= i\n",
    "print(\"Factorial value for [{}] is:\".format(number), fact)"
   ]
  },
  {
   "cell_type": "code",
   "execution_count": 68,
   "id": "cf04d09c-6324-41e5-ab99-b7aff6cd06dc",
   "metadata": {},
   "outputs": [
    {
     "name": "stdin",
     "output_type": "stream",
     "text": [
      "Enter a number: 4\n"
     ]
    },
    {
     "name": "stdout",
     "output_type": "stream",
     "text": [
      "4 X 1 =  4\n",
      "4 X 2 =  8\n",
      "4 X 3 =  12\n",
      "4 X 4 =  16\n",
      "4 X 5 =  20\n",
      "4 X 6 =  24\n",
      "4 X 7 =  28\n",
      "4 X 8 =  32\n",
      "4 X 9 =  36\n",
      "4 X 10 =  40\n"
     ]
    }
   ],
   "source": [
    "# 5. Create a program to print the multiplication table of a given number using a `for` loop.\n",
    "number = int(input(\"Enter a number:\"))\n",
    "for i in range(1, 11):\n",
    "    print(\"{} X {} = \".format(number,i),number*i)\n",
    "    i +=1\n",
    "    "
   ]
  },
  {
   "cell_type": "code",
   "execution_count": 72,
   "id": "47a2c7e1-3e25-45a9-a7db-e4d4354344ac",
   "metadata": {},
   "outputs": [
    {
     "name": "stdout",
     "output_type": "stream",
     "text": [
      "even_sum = 14\n",
      "odd_sum = 22\n"
     ]
    }
   ],
   "source": [
    "# 6. Write a program that counts the number of even and odd numbers in a list using a `for` loop\n",
    "\n",
    "lst3 = [1,2,4,5,7,8,9]\n",
    "even_sum = 0\n",
    "odd_sum =0\n",
    "for i in lst3:\n",
    "    if i%2 == 0:\n",
    "        even_sum = even_sum + i\n",
    "        i += 1\n",
    "    else:\n",
    "        odd_sum = odd_sum + i    \n",
    "print(\"even_sum =\",even_sum)\n",
    "print(\"odd_sum =\",odd_sum)"
   ]
  },
  {
   "cell_type": "code",
   "execution_count": 75,
   "id": "ca6d6cd5-38f5-495c-9699-bfe3358e4f8b",
   "metadata": {},
   "outputs": [
    {
     "name": "stdout",
     "output_type": "stream",
     "text": [
      "1\n",
      "4\n",
      "9\n",
      "16\n",
      "25\n"
     ]
    }
   ],
   "source": [
    "# 7. Develop a program that prints the squares of numbers from 1 to 5 using a `for` loop.\n",
    "for i in range(1,6):\n",
    "    i = i**2\n",
    "    print(i)"
   ]
  },
  {
   "cell_type": "code",
   "execution_count": 80,
   "id": "d9080881-2526-4078-abb5-c9e4ccb993e2",
   "metadata": {},
   "outputs": [
    {
     "name": "stdout",
     "output_type": "stream",
     "text": [
      "35\n"
     ]
    },
    {
     "data": {
      "text/plain": [
       "35"
      ]
     },
     "execution_count": 80,
     "metadata": {},
     "output_type": "execute_result"
    }
   ],
   "source": [
    "# 8. Create a program to find the length of a string without using the `len()` function.\n",
    "\n",
    "st_length = \"Welcome to the Data Science domain.\"\n",
    "res =0\n",
    "for i in st_length:\n",
    "    res += 1\n",
    "print(res)\n",
    "len(st_length)"
   ]
  },
  {
   "cell_type": "code",
   "execution_count": 87,
   "id": "2efe0304-afb8-4616-bf9a-76af801c477d",
   "metadata": {},
   "outputs": [
    {
     "name": "stdout",
     "output_type": "stream",
     "text": [
      "5.8\n"
     ]
    }
   ],
   "source": [
    "# 9. Write a program that calculates the average of a list of numbers using a `for` loop\n",
    "\n",
    "lst_avg = [10,2,3,4,10]\n",
    "lst_avg = sorted(lst_avg)\n",
    "avg=0\n",
    "sum_lst = 0\n",
    "for i in range(len(lst_avg)):\n",
    "    sum_lst += lst_avg[i]\n",
    "    avg = sum_lst/len(lst_avg)\n",
    "print(avg)"
   ]
  },
  {
   "cell_type": "code",
   "execution_count": 110,
   "id": "eb6bbdd4-b974-4ae2-85df-689ecdc249ab",
   "metadata": {},
   "outputs": [
    {
     "name": "stdin",
     "output_type": "stream",
     "text": [
      "Enter a number(>=2) 10\n"
     ]
    },
    {
     "name": "stdout",
     "output_type": "stream",
     "text": [
      "[0, 1, 1, 2, 3, 5, 8, 13, 21, 34, 55]\n"
     ]
    }
   ],
   "source": [
    "# 10. Develop a program that prints the first `n` Fibonacci numbers using a `for` loop.\n",
    "fibonacci_series=[0,1]\n",
    "n = int(input(\"Enter a number(>=2)\"))\n",
    "for i in range(2,n+1):\n",
    "    nextElement = fibonacci_series[i-1] + fibonacci_series[i-2]\n",
    "    fibonacci_series.append(nextElement)\n",
    "print(fibonacci_series)"
   ]
  },
  {
   "cell_type": "code",
   "execution_count": 46,
   "id": "689fb575-479b-409f-8f20-0d4d8801235b",
   "metadata": {},
   "outputs": [
    {
     "name": "stdin",
     "output_type": "stream",
     "text": [
      " 1,1,2,3,4,5,5,6\n"
     ]
    },
    {
     "name": "stdout",
     "output_type": "stream",
     "text": [
      "The number/s which repeats in the list is/are :  {1, 5}\n"
     ]
    }
   ],
   "source": [
    "# 11. Write a program to check if a given list contains any duplicates using a `for` loop.\n",
    "lst_or = list(input().split(\",\"))\n",
    "lst_new = [eval(i) for i in lst_or]\n",
    "lst_ver =[]\n",
    "set_ver = set()\n",
    "i = 0\n",
    "for i in range(0, len(lst_new)):\n",
    "    if lst_new[i] not in lst_ver:\n",
    "        lst_ver.append(lst_new[i])\n",
    "    else:\n",
    "        set_ver.add(lst_new[i])\n",
    "        i += 1\n",
    "print(\"The number/s which repeats in the list is/are : \", set_ver)"
   ]
  },
  {
   "cell_type": "code",
   "execution_count": 18,
   "id": "c1899294-fd21-414d-9c84-c1cf50453453",
   "metadata": {},
   "outputs": [
    {
     "name": "stdin",
     "output_type": "stream",
     "text": [
      "Please enter initial range value:  1\n",
      "Please enter terminating range value:  80\n"
     ]
    },
    {
     "name": "stdout",
     "output_type": "stream",
     "text": [
      "2 3 5 7 11 13 17 19 23 29 31 37 41 43 47 53 59 61 67 71 73 79 "
     ]
    }
   ],
   "source": [
    "# 12. Create a program that prints the prime numbers in a given range using a `for` loop.\n",
    "init_value = int(input(\"Please enter initial range value: \"))\n",
    "term_value = int(input(\"Please enter terminating range value: \"))\n",
    "for number in range (init_value, term_value + 1):  \n",
    "    if number > 1:  \n",
    "        for i in range (2, number):  \n",
    "            if (number % i) == 0:  \n",
    "                break  \n",
    "        else:  \n",
    "            print (number, end = \" \")  \n",
    "    \n",
    "        "
   ]
  },
  {
   "cell_type": "code",
   "execution_count": 43,
   "id": "158341ca-1053-47d0-90c4-0babf57df42f",
   "metadata": {},
   "outputs": [
    {
     "name": "stdin",
     "output_type": "stream",
     "text": [
      "Enter a phrase:  there are three boys\n"
     ]
    },
    {
     "name": "stdout",
     "output_type": "stream",
     "text": [
      "No. of vowels :  7\n"
     ]
    }
   ],
   "source": [
    "# 13. Develop a program that counts the number of vowels in a string using a `for` loop.\n",
    "\n",
    "def vowel_count(st_vow):\n",
    "    count = 0\n",
    "    vowel = set(\"AaEeIiOoUu\")\n",
    "    for alphabet in st_vow:\n",
    "        if alphabet in vowel:\n",
    "            count = count + 1\n",
    "    print(\"No. of vowels : \", count)\n",
    "    \n",
    "vowel_count(input(\"Enter a phrase: \"))\n"
   ]
  },
  {
   "cell_type": "code",
   "execution_count": 11,
   "id": "52a00ad0-89dd-4d96-af07-412ee55bfb75",
   "metadata": {},
   "outputs": [
    {
     "name": "stdout",
     "output_type": "stream",
     "text": [
      "Max. element value is:  1000000\n"
     ]
    }
   ],
   "source": [
    "# 14. Write a program to find the maximum element in a 2D list using a nested `for` loop.\n",
    "a = [[10, 13, 45,59,70,94,2645,1000000,5768, 66, 44], [10, 8, 7, 23],[100000]]\n",
    "lis = []\n",
    "max_lis = []\n",
    "\n",
    "for i in a:\n",
    "    lis.append(max(i))\n",
    "max_lis = max(lis)\n",
    "print(\"Max. element value is: \", max_lis)"
   ]
  },
  {
   "cell_type": "code",
   "execution_count": null,
   "id": "4d821e01-8075-4565-aff9-86f7b34294a9",
   "metadata": {},
   "outputs": [],
   "source": []
  },
  {
   "cell_type": "code",
   "execution_count": 39,
   "id": "ffab35cc-2b8c-46a4-8caf-294d3edc98ab",
   "metadata": {},
   "outputs": [
    {
     "name": "stdin",
     "output_type": "stream",
     "text": [
      "enter the element to be removed: 3\n"
     ]
    },
    {
     "name": "stdout",
     "output_type": "stream",
     "text": [
      "[1, 2, 2, 4, 5, 6, 9, 7, 6, 5, 4, 4, 2, 1, 1, 9, 4, 5, 6, 7]\n"
     ]
    }
   ],
   "source": [
    "# 15. Create a program that removes all occurrences of a specific element from a list using a `for` loop.\n",
    "\n",
    "input_list = [1,2,2,3,4,5,6,9,7,6,5,4,4,3,2,1,1,3,9,4,5,6,7]\n",
    "element_remove = int(input(\"enter the element to be removed:\"))\n",
    "other_elements = []\n",
    "for i in input_list:\n",
    "    if i != element_remove:\n",
    "        other_elements.append(i)\n",
    "        i += 1\n",
    "print(other_elements)"
   ]
  },
  {
   "cell_type": "code",
   "execution_count": 37,
   "id": "8d4d64ad-993b-45a4-9a3c-bdc4893dd4be",
   "metadata": {},
   "outputs": [
    {
     "name": "stdout",
     "output_type": "stream",
     "text": [
      "multiplication table for 1:\n",
      "1 X 1 =  1\n",
      "1 X 2 =  2\n",
      "1 X 3 =  3\n",
      "1 X 4 =  4\n",
      "1 X 5 =  5\n",
      "1 X 6 =  6\n",
      "1 X 7 =  7\n",
      "1 X 8 =  8\n",
      "1 X 9 =  9\n",
      "1 X 10 =  10\n",
      "multiplication table for 2:\n",
      "2 X 1 =  2\n",
      "2 X 2 =  4\n",
      "2 X 3 =  6\n",
      "2 X 4 =  8\n",
      "2 X 5 =  10\n",
      "2 X 6 =  12\n",
      "2 X 7 =  14\n",
      "2 X 8 =  16\n",
      "2 X 9 =  18\n",
      "2 X 10 =  20\n",
      "multiplication table for 3:\n",
      "3 X 1 =  3\n",
      "3 X 2 =  6\n",
      "3 X 3 =  9\n",
      "3 X 4 =  12\n",
      "3 X 5 =  15\n",
      "3 X 6 =  18\n",
      "3 X 7 =  21\n",
      "3 X 8 =  24\n",
      "3 X 9 =  27\n",
      "3 X 10 =  30\n",
      "multiplication table for 4:\n",
      "4 X 1 =  4\n",
      "4 X 2 =  8\n",
      "4 X 3 =  12\n",
      "4 X 4 =  16\n",
      "4 X 5 =  20\n",
      "4 X 6 =  24\n",
      "4 X 7 =  28\n",
      "4 X 8 =  32\n",
      "4 X 9 =  36\n",
      "4 X 10 =  40\n",
      "multiplication table for 5:\n",
      "5 X 1 =  5\n",
      "5 X 2 =  10\n",
      "5 X 3 =  15\n",
      "5 X 4 =  20\n",
      "5 X 5 =  25\n",
      "5 X 6 =  30\n",
      "5 X 7 =  35\n",
      "5 X 8 =  40\n",
      "5 X 9 =  45\n",
      "5 X 10 =  50\n"
     ]
    }
   ],
   "source": [
    "# 16. Develop a program that generates a multiplication table for numbers from 1 to 5 using a nested `for` loop.\n",
    "number = [1,2,3,4,5]\n",
    "k = 0\n",
    "for k in range(0, len(number)):\n",
    "    print(\"multiplication table for {}:\".format(k+1))\n",
    "    for i in range(1, 11):\n",
    "        print(\"{} X {} = \".format(number[k],i), number[k]*i)\n",
    "        i +=1\n",
    "    k +=1"
   ]
  },
  {
   "cell_type": "code",
   "execution_count": 39,
   "id": "75b2b276-6684-4ce3-9832-9536283ae4fc",
   "metadata": {},
   "outputs": [
    {
     "name": "stdin",
     "output_type": "stream",
     "text": [
      "Enter values:  12,25,32\n"
     ]
    },
    {
     "name": "stdout",
     "output_type": "stream",
     "text": [
      "[-11.11111111111111, -3.888888888888889, 0.0]\n"
     ]
    }
   ],
   "source": [
    "# 17. Write a program that converts a list of Fahrenheit temperatures to Celsius using a `for` loop.\n",
    "lis_fer = list(input(\"Enter values: \").split(\",\"))\n",
    "list_fer_1 = [eval(i) for i in lis_fer]\n",
    "list_cel = []\n",
    "c = 0\n",
    "for i in list_fer_1:\n",
    "    c = (i-32)*5/9\n",
    "    list_cel.append(c)\n",
    "print(list_cel)"
   ]
  },
  {
   "cell_type": "code",
   "execution_count": 6,
   "id": "349b1c14-a2c7-4a30-a377-6d28534be2d6",
   "metadata": {},
   "outputs": [
    {
     "name": "stdin",
     "output_type": "stream",
     "text": [
      "Enter first list: 1,2,3,4,5\n",
      "Enter second list: 4,5,6,7,8\n"
     ]
    },
    {
     "name": "stdout",
     "output_type": "stream",
     "text": [
      "The common elements in both these lists : [4, 5]\n"
     ]
    }
   ],
   "source": [
    "# 18. Create a program to print the common elements from two lists using a `for` loop.\n",
    "def common_ele(a, b):\n",
    "    common_dict = {}\n",
    "    for i in a:\n",
    "        if i in common_dict:\n",
    "            common_dict[i] += 1\n",
    "        else:\n",
    "            common_dict[i] = 1\n",
    "    for i in b:\n",
    "        if i in common_dict:\n",
    "            common_dict[i] += 1\n",
    "        else:\n",
    "            common_dict[i] = 1\n",
    "    common = [i for i in common_dict if common_dict[i] == 2]\n",
    "    if len(common)>0:\n",
    "        return common\n",
    "    else:\n",
    "        print(\"No common element\")\n",
    "        \n",
    "l_1 = list(input(\"Enter first list:\").split(\",\"))\n",
    "l_2 = list(input(\"Enter second list:\").split(\",\"))\n",
    "a = [eval(i) for i in l_1]\n",
    "b = [eval(i) for i in l_2]\n",
    "print(\"The common elements in both these lists :\", common_ele(a, b))"
   ]
  },
  {
   "cell_type": "code",
   "execution_count": 11,
   "id": "d568f7c0-bcd4-4655-904c-45bbf0250a46",
   "metadata": {},
   "outputs": [
    {
     "name": "stdin",
     "output_type": "stream",
     "text": [
      "enter the maximum number: 5\n"
     ]
    },
    {
     "name": "stdout",
     "output_type": "stream",
     "text": [
      "\n",
      "* \n",
      "* * \n",
      "* * * \n",
      "* * * * \n",
      "* * * * * \n"
     ]
    }
   ],
   "source": [
    "# 19. Develop a program that prints the pattern of right-angled triangles using a `for` loop. Use ‘*’ to draw the pattern\n",
    "max_num = int(input(\"enter the maximum number:\"))\n",
    "i = 0\n",
    "for i in range(0,max_num+1):\n",
    "    print(\"* \"*i)\n",
    "    i += 1\n"
   ]
  },
  {
   "cell_type": "code",
   "execution_count": 18,
   "id": "df96bc74-7e8f-4763-90df-6ef4d12d974e",
   "metadata": {},
   "outputs": [
    {
     "name": "stdin",
     "output_type": "stream",
     "text": [
      "Enter the first number: 84\n",
      "Enter the second number: 96\n"
     ]
    },
    {
     "name": "stdout",
     "output_type": "stream",
     "text": [
      "GCD of 84 and 96 is: 12\n"
     ]
    }
   ],
   "source": [
    "# 20. Write a program to find the greatest common divisor (GCD) of two numbers using a `for` loop.\n",
    "def GCD(a, b):\n",
    "    if a > b:\n",
    "        a, b = b, a\n",
    "    for i in range(1,a+1):\n",
    "        if a%i == 0 and b%i == 0:\n",
    "            gcd = i\n",
    "    print(\"GCD of\", a, \"and\", b, \"is:\", gcd)\n",
    "        \n",
    "a = int(input(\"Enter the first number:\"))\n",
    "b = int(input(\"Enter the second number:\"))\n",
    "GCD(a, b)"
   ]
  },
  {
   "cell_type": "markdown",
   "id": "4cfe7f53-f44c-4bee-bce7-fc18604ba5c1",
   "metadata": {},
   "source": [
    "## Advanced Level\n"
   ]
  },
  {
   "cell_type": "code",
   "execution_count": 25,
   "id": "c14ea3a9-71c8-42b1-b2d2-7dbee1dc76dd",
   "metadata": {},
   "outputs": [
    {
     "name": "stdin",
     "output_type": "stream",
     "text": [
      "Enter the numbers 12,54\n"
     ]
    },
    {
     "name": "stdout",
     "output_type": "stream",
     "text": [
      "The list of integer sumation is : [3, 9]\n"
     ]
    }
   ],
   "source": [
    "# 21. Create a program that calculates the sum of the digits of numbers in a list using a list comprehension.\n",
    "list_i = list(input(\"Enter the numbers\").split(\",\"))\n",
    "list_add = [eval(i) for i in list_i]\n",
    "\n",
    "Total = list(map(lambda ele: sum(int(sub) for sub in str(ele)), list_add))\n",
    "print(\"The list of integer sumation is :\",Total)"
   ]
  },
  {
   "cell_type": "code",
   "execution_count": 7,
   "id": "0841b024-6ff1-4ae9-8902-b1f5ca40d6a5",
   "metadata": {},
   "outputs": [
    {
     "name": "stdin",
     "output_type": "stream",
     "text": [
      " 123548\n"
     ]
    },
    {
     "name": "stdout",
     "output_type": "stream",
     "text": [
      "2 2 67 461 "
     ]
    }
   ],
   "source": [
    "# 22. Write a program to find the prime factors of a given number using a `for` loop and list comprehension.\n",
    "\n",
    "def prime_factors(n):\n",
    "    spf = [0 for i in range(n+1)]\n",
    "    spf[1] = 1\n",
    "    for i in range(2, n+1):\n",
    "        spf[i] = i\n",
    "    for i in range(4, n+1, 2):\n",
    "        spf[i] = 2\n",
    "  \n",
    "    for i in range(3, int(n**0.5)+1):\n",
    "        if spf[i] == i:\n",
    "            for j in range(i*i, n+1, i):\n",
    "                if spf[j] == j:\n",
    "                    spf[j] = i\n",
    "                      \n",
    "    while n != 1:\n",
    "        print(spf[n], end=\" \")\n",
    "        n = n // spf[n]\n",
    "n = int(input())\n",
    "prime_factors(n)"
   ]
  },
  {
   "cell_type": "code",
   "execution_count": 1,
   "id": "92a0af44-d5da-4d00-8a70-26784b3edfb1",
   "metadata": {},
   "outputs": [
    {
     "name": "stdin",
     "output_type": "stream",
     "text": [
      "Enter the elements 12,12,12,13,31,15,14,13,14,15\n"
     ]
    },
    {
     "data": {
      "text/plain": [
       "[[12, 13, 14, 15, 31]]"
      ]
     },
     "execution_count": 1,
     "metadata": {},
     "output_type": "execute_result"
    }
   ],
   "source": [
    "# 23. Develop a program that extracts unique elements from a list and stores them in a new list using a list comprehension.\n",
    "\n",
    "lst_1_1 = list(input(\"Enter the elements\").split(\",\"))\n",
    "lst_1_2 = [eval(i) for i in lst_1_1]\n",
    "lst_2 = list(set(lst_1_2))\n",
    "lst_2\n",
    "\n"
   ]
  },
  {
   "cell_type": "code",
   "execution_count": 20,
   "id": "c46b21c6-ebf2-4b35-8f2e-41183990cb9c",
   "metadata": {},
   "outputs": [
    {
     "name": "stdin",
     "output_type": "stream",
     "text": [
      "Enter a number: 1000\n"
     ]
    },
    {
     "name": "stdout",
     "output_type": "stream",
     "text": [
      "[11, 22, 33, 44, 55, 66, 77, 88, 99, 101, 111, 121, 131, 141, 151, 161, 171, 181, 191, 202, 212, 222, 232, 242, 252, 262, 272, 282, 292, 303, 313, 323, 333, 343, 353, 363, 373, 383, 393, 404, 414, 424, 434, 444, 454, 464, 474, 484, 494, 505, 515, 525, 535, 545, 555, 565, 575, 585, 595, 606, 616, 626, 636, 646, 656, 666, 676, 686, 696, 707, 717, 727, 737, 747, 757, 767, 777, 787, 797, 808, 818, 828, 838, 848, 858, 868, 878, 888, 898, 909, 919, 929, 939, 949, 959, 969, 979, 989, 999]\n"
     ]
    }
   ],
   "source": [
    "# 24. Create a program that generates a list of all palindromic numbers up to a specified limit using a list comprehension.\n",
    "\n",
    "pall = int(input(\"Enter a number:\"))\n",
    "list_pall = [i for i in range(10, pall) if str(i) == str(i)[::-1]]\n",
    "print(list_pall)"
   ]
  },
  {
   "cell_type": "code",
   "execution_count": 21,
   "id": "a546f3d8-7954-4be0-9007-2b3224fadcec",
   "metadata": {},
   "outputs": [
    {
     "name": "stdout",
     "output_type": "stream",
     "text": [
      "[1, 2, 3, 4, 5, 6, 7, 8, 9]\n"
     ]
    }
   ],
   "source": [
    "# 25. Write a program to flatten a nested list using list comprehension.\n",
    "nested_list = [[1, 2, 3], [4, 5], [6, 7, 8, 9]]\n",
    "\n",
    "flattened_list = [element for sublist in nested_list for element in sublist]\n",
    "\n",
    "print(flattened_list)"
   ]
  },
  {
   "cell_type": "code",
   "execution_count": 30,
   "id": "96234dd1-5570-4b95-9c39-c527624e8c12",
   "metadata": {},
   "outputs": [
    {
     "name": "stdout",
     "output_type": "stream",
     "text": [
      "summation of even elemens from list:  20\n",
      "summation of odd elemens from list:  25\n"
     ]
    }
   ],
   "source": [
    "# 26. Develop a program that computes the sum of even and odd numbers in a list separately using list comprehension.\n",
    "\n",
    "list_odd_even = [1,2,3,4,5,6,7,8,9]\n",
    "summation_even = sum(i for i in list_odd_even if i%2 == 0)\n",
    "summation_odd = sum(i for i in list_odd_even if i%2 != 0)\n",
    "print(\"summation of even elemens from list: \",summation_even)\n",
    "print(\"summation of odd elemens from list: \",summation_odd)"
   ]
  },
  {
   "cell_type": "code",
   "execution_count": 34,
   "id": "a6ee8ac5-e171-4ab5-aa65-3a731e08ba03",
   "metadata": {},
   "outputs": [
    {
     "name": "stdout",
     "output_type": "stream",
     "text": [
      "[1, 9, 25, 49, 81]\n"
     ]
    }
   ],
   "source": [
    "# 27. Create a program that generates a list of squares of odd numbers between 1 and 10 using list comprehension.\n",
    "list_square_odd = [i**2 for i in range(1,11) if i%2!=0]\n",
    "print(list_square_odd)"
   ]
  },
  {
   "cell_type": "code",
   "execution_count": 36,
   "id": "71196add-6aca-4f4e-9901-f374a8c29b69",
   "metadata": {},
   "outputs": [
    {
     "name": "stdout",
     "output_type": "stream",
     "text": [
      "{'a': 'banana', 'b': 'mango', 'c': 'apple', 'd': 'grapes'}\n"
     ]
    }
   ],
   "source": [
    "# 28. Write a program that combines two lists into a dictionary using list comprehension.\n",
    "keys = ['a', 'b', 'c', 'd']\n",
    "values = [\"banana\",\"mango\",\"apple\",\"grapes\"]\n",
    "\n",
    "combined_dict = {key: value for key, value in zip(keys, values)}\n",
    "\n",
    "print(combined_dict)"
   ]
  },
  {
   "cell_type": "code",
   "execution_count": 41,
   "id": "5a2ea6b6-a438-46a0-baeb-9e4c8df4a869",
   "metadata": {},
   "outputs": [
    {
     "name": "stdin",
     "output_type": "stream",
     "text": [
      "Enter the phrase there are many kids\n"
     ]
    },
    {
     "name": "stdout",
     "output_type": "stream",
     "text": [
      "['e', 'e', 'a', 'e', 'a', 'i']\n"
     ]
    }
   ],
   "source": [
    "# 29. Develop a program that extracts the vowels from a string and stores them in a list using list comprehension.\n",
    "phrase = input(\"Enter the phrase\")\n",
    "vowels = (\"AEIOUaeiou\")\n",
    "vowels_list = [i for i in phrase if i in vowels]\n",
    "print(vowels_list)"
   ]
  },
  {
   "cell_type": "code",
   "execution_count": 15,
   "id": "cba0c0b3-b04a-4c86-a86e-d87e15a4daab",
   "metadata": {},
   "outputs": [
    {
     "name": "stdin",
     "output_type": "stream",
     "text": [
      "Enter a statement:  21ed\n"
     ]
    },
    {
     "name": "stdout",
     "output_type": "stream",
     "text": [
      "['21']\n"
     ]
    }
   ],
   "source": [
    "# 30. Create a program that removes all non-numeric characters from a list of strings using list comprehension.\n",
    "phrase_num = list(input(\"Enter a statement: \").split(\",\"))\n",
    "list_num = [''.join(i for i in string if i.isdigit()) for string in phrase_num]\n",
    "print(list_num)"
   ]
  },
  {
   "cell_type": "code",
   "execution_count": 12,
   "id": "bfd4feb2-ac31-4dc1-844a-3d5e7706cc15",
   "metadata": {},
   "outputs": [
    {
     "name": "stdin",
     "output_type": "stream",
     "text": [
      "Enter a number: 10\n"
     ]
    },
    {
     "name": "stdout",
     "output_type": "stream",
     "text": [
      "Following are the prime numbers smallerthan or equal to 10\n",
      "2 3 5 7 "
     ]
    }
   ],
   "source": [
    "# 31. Write a program to generate a list of prime numbers using the Sieve of Eratosthenes algorithm and list comprehension.\n",
    "def SieveOfEratosthenes(n):   \n",
    "    prime = [True for i in range(n+1)]\n",
    "    p = 2\n",
    "    while (p * p <= n):\n",
    "        if (prime[p] == True):\n",
    "            for i in range(p * p, n+1, p):\n",
    "                prime[i] = False\n",
    "        p += 1\n",
    "    for p in range(2, n+1):\n",
    "        if prime[p]:\n",
    "            print(p, end=\" \")\n",
    "            \n",
    "n = int(input(\"Enter a number:\"))\n",
    "print(\"Following are the prime numbers smallerthan or equal to\", n),\n",
    "SieveOfEratosthenes(n)"
   ]
  },
  {
   "cell_type": "code",
   "execution_count": 14,
   "id": "36aca5bf-f3ed-4a49-8fa7-97d675294b2c",
   "metadata": {},
   "outputs": [
    {
     "name": "stdin",
     "output_type": "stream",
     "text": [
      "Enter the limit for generating Pythagorean triplets:  20\n"
     ]
    },
    {
     "name": "stdout",
     "output_type": "stream",
     "text": [
      "Pythagorean triplets up to 20 are:\n",
      "(3, 4, 5) (5, 12, 13) (6, 8, 10) (8, 15, 17) (9, 12, 15) (12, 16, 20) "
     ]
    }
   ],
   "source": [
    "# 32. Create a program that generates a list of all Pythagorean triplets up to a specified limit using list comprehension.\n",
    "\n",
    "def pyth_trip(limit):\n",
    "    triplets = [(a,b,c) for a in range(1, 1+limit) for b in range(a,1+limit) for c in range(b, 1+limit) if a**2+b**2 == c**2]\n",
    "    return triplets\n",
    "\n",
    "limit = int(input(\"Enter the limit for generating Pythagorean triplets: \"))\n",
    "pythagorean_triplets = pyth_trip(limit)\n",
    "print(\"Pythagorean triplets up to\", limit, \"are:\")\n",
    "for triplet in pythagorean_triplets:\n",
    "    print(triplet, end=\" \")"
   ]
  },
  {
   "cell_type": "code",
   "execution_count": 15,
   "id": "e80501a2-f458-4998-a8df-d53d9c87084a",
   "metadata": {},
   "outputs": [
    {
     "name": "stdout",
     "output_type": "stream",
     "text": [
      "All possible combinations:\n",
      "[(1, 'a'), (1, 'b'), (2, 'a'), (2, 'b'), (3, 'a'), (3, 'b')]\n"
     ]
    }
   ],
   "source": [
    "# 33. Develop a program that generates a list of all possible combinations of two lists using list comprehension.\n",
    "list_1 = [1, 2, 3]\n",
    "list_2 = ['a', 'b']\n",
    "\n",
    "unique_combinations = [(x, y) for x in list_1 for y in list_2]\n",
    "\n",
    "print(\"All possible combinations:\")\n",
    "print(unique_combinations)"
   ]
  },
  {
   "cell_type": "code",
   "execution_count": 16,
   "id": "aab1be8b-4172-4a66-a779-c3a819502d57",
   "metadata": {},
   "outputs": [
    {
     "name": "stdout",
     "output_type": "stream",
     "text": [
      "List of Numbers: [1, 2, 3, 4, 5, 5, 6, 6, 7, 8, 9, 9]\n",
      "Mean: 5.416666666666667\n",
      "Median: 5.5\n",
      "Mode: [5, 6, 9]\n"
     ]
    }
   ],
   "source": [
    "# 34. Write a program that calculates the mean, median, and mode of a list of numbers using list comprehension.\n",
    "# Input list of numbers\n",
    "numbers = [1, 2, 3, 4, 5, 5, 6, 6, 7, 8, 9, 9]\n",
    "\n",
    "# Calculate the mean using list comprehension\n",
    "mean = sum(numbers) / len(numbers)\n",
    "\n",
    "# Calculate the median\n",
    "sorted_numbers = sorted(numbers)\n",
    "n = len(sorted_numbers)\n",
    "if n % 2 == 0:\n",
    "    median = (sorted_numbers[n // 2 - 1] + sorted_numbers[n // 2]) / 2\n",
    "else:\n",
    "    median = sorted_numbers[n // 2]\n",
    "\n",
    "# Calculate the mode\n",
    "number_count = {}\n",
    "for num in numbers:\n",
    "    number_count[num] = number_count.get(num, 0) + 1\n",
    "\n",
    "max_count = max(number_count.values())\n",
    "mode = [num for num, count in number_count.items() if count == max_count]\n",
    "\n",
    "# Print the results\n",
    "print(\"List of Numbers:\", numbers)\n",
    "print(\"Mean:\", mean)\n",
    "print(\"Median:\", median)\n",
    "print(\"Mode:\", mode)"
   ]
  },
  {
   "cell_type": "code",
   "execution_count": 23,
   "id": "29c8447a-02ca-4fba-bc9c-06ca400db0e9",
   "metadata": {},
   "outputs": [
    {
     "name": "stdin",
     "output_type": "stream",
     "text": [
      "Enter a number: 5\n"
     ]
    },
    {
     "name": "stdout",
     "output_type": "stream",
     "text": [
      "      1\n",
      "     1 1\n",
      "    1 2 1\n",
      "   1 3 3 1\n",
      "  1 4 6 4 1\n"
     ]
    }
   ],
   "source": [
    "# 35. Create a program that generates Pascal's triangle up to a specified number of rows using list comprehension.\n",
    "n = int(input(\"Enter a number:\"))\n",
    " \n",
    "for i in range(1, n+1):\n",
    "    for j in range(0, n-i+1):\n",
    "        print(' ', end='')\n",
    " \n",
    "    # first element is always 1\n",
    "    C = 1\n",
    "    for j in range(1, i+1):\n",
    " \n",
    "        # first value in a line is always 1\n",
    "        print(' ', C, sep='', end='')\n",
    " \n",
    "        # using Binomial Coefficient\n",
    "        C = C * (i - j) // j\n",
    "    print()"
   ]
  },
  {
   "cell_type": "code",
   "execution_count": 24,
   "id": "d40a252f-5f6a-4769-a244-1640ad1b7b16",
   "metadata": {},
   "outputs": [
    {
     "name": "stdout",
     "output_type": "stream",
     "text": [
      "Factorial of 1 has a digit sum of 1\n",
      "Factorial of 2 has a digit sum of 2\n",
      "Factorial of 3 has a digit sum of 6\n",
      "Factorial of 4 has a digit sum of 6\n",
      "Factorial of 5 has a digit sum of 3\n"
     ]
    }
   ],
   "source": [
    "# 36. Develop a program that calculates the sum of the digits of a factorial of numbers from 1 to 5 using list comprehension.\n",
    "def factorial(n):\n",
    "    if n == 0:\n",
    "        return 1\n",
    "    else:\n",
    "        return n * factorial(n - 1)\n",
    "results = [sum(int(digit) for digit in str(factorial(n))) for n in range(1, 6)]\n",
    "for n, result in enumerate(results, start=1):\n",
    "    print(f\"Factorial of {n} has a digit sum of {result}\")"
   ]
  },
  {
   "cell_type": "code",
   "execution_count": 25,
   "id": "d21fab52-572e-4f8b-af96-7bc2e273a8b6",
   "metadata": {},
   "outputs": [
    {
     "name": "stdin",
     "output_type": "stream",
     "text": [
      "Enter a sentence:  there are one hundred motorcycles in that garrage\n"
     ]
    },
    {
     "name": "stdout",
     "output_type": "stream",
     "text": [
      "The longest word in the sentence is: motorcycles\n"
     ]
    }
   ],
   "source": [
    "# 37. Write a program that finds the longest word in a sentence using list comprehension.\n",
    "sentence = input(\"Enter a sentence: \")\n",
    "\n",
    "words = sentence.split()\n",
    "\n",
    "longest_word = max(words, key=len)\n",
    "\n",
    "print(\"The longest word in the sentence is:\", longest_word)"
   ]
  },
  {
   "cell_type": "code",
   "execution_count": 31,
   "id": "6c82a264-63e2-4420-9146-c4c87e4ffa42",
   "metadata": {},
   "outputs": [
    {
     "name": "stdout",
     "output_type": "stream",
     "text": [
      "String with three or more than three vowels: \n",
      "amazing\n",
      "powerfull\n",
      "magnificent\n"
     ]
    }
   ],
   "source": [
    "# 38. Create a program that filters a list of strings to include only those with more than three vowels using list comprehension.\n",
    "def count_vowels(list_st):\n",
    "    vowels = 'AEIOUaeiou'\n",
    "    return sum(1 for i in list_st if i in vowels)\n",
    "\n",
    "list_st = [\"record\",\"edward\",\"tall\",\"amazing\",\"powerfull\",\"magnificent\",\"three\"]\n",
    "three_vowels = [i for i in list_st if count_vowels(i) > 3 ]\n",
    "print(\"String with more than three vowels: \")\n",
    "for i in three_vowels:\n",
    "    print(i)"
   ]
  },
  {
   "cell_type": "code",
   "execution_count": 34,
   "id": "93f0dd78-b602-4e93-ad13-f18267b6e8e8",
   "metadata": {},
   "outputs": [
    {
     "name": "stdout",
     "output_type": "stream",
     "text": [
      "THe sum of digits from 1 to 1000 is: 13501\n"
     ]
    }
   ],
   "source": [
    "# 39. Develop a program that calculates the sum of the digits of numbers from 1 to 1000 using list comprehension.\n",
    "numbers = list(range(1, 1001))\n",
    "\n",
    "def sum_of_numbers(number):\n",
    "    return sum(int(i) for i in str(number))\n",
    "\n",
    "summation = [sum_of_numbers(number) for number in numbers]\n",
    "total_sum = sum(summation)\n",
    "print(\"THe sum of digits from 1 to 1000 is:\", total_sum)"
   ]
  },
  {
   "cell_type": "code",
   "execution_count": 36,
   "id": "2fefedec-4936-4c1a-846d-1c6fbe67a62d",
   "metadata": {},
   "outputs": [
    {
     "name": "stdout",
     "output_type": "stream",
     "text": [
      "Prime Palindromic Numbers up to 1000:\n",
      "[2, 3, 5, 7, 11, 101, 131, 151, 181, 191, 313, 353, 373, 383, 727, 757, 787, 797, 919, 929]\n"
     ]
    }
   ],
   "source": [
    "# 40. Write a program that generates a list of prime palindromic numbers using list comprehension.\n",
    "def is_prime(num):\n",
    "    if num < 2:\n",
    "        return False\n",
    "    for i in range(2, int(num**0.5) + 1):\n",
    "        if num % i == 0:\n",
    "            return False\n",
    "    return True\n",
    "\n",
    "def is_palindrome(num):\n",
    "    return str(num) == str(num)[::-1]\n",
    "\n",
    "prime_palindromes = [num for num in range(1, 1000) if is_prime(num) and is_palindrome(num)]\n",
    "print(\"Prime Palindromic Numbers up to 1000:\")\n",
    "print(prime_palindromes)"
   ]
  },
  {
   "cell_type": "code",
   "execution_count": null,
   "id": "420e887d-1902-47e5-bae0-3fdcebc5c814",
   "metadata": {},
   "outputs": [],
   "source": []
  },
  {
   "cell_type": "code",
   "execution_count": null,
   "id": "514f1d8f-be87-4db1-b7a4-c09240e17beb",
   "metadata": {},
   "outputs": [],
   "source": []
  },
  {
   "cell_type": "code",
   "execution_count": null,
   "id": "b7672455-b0f9-4e15-b73b-ba4d47eea95e",
   "metadata": {},
   "outputs": [],
   "source": []
  },
  {
   "cell_type": "code",
   "execution_count": null,
   "id": "512ecc9d-f416-46ab-bca8-e44c2d2d08b1",
   "metadata": {},
   "outputs": [],
   "source": []
  }
 ],
 "metadata": {
  "kernelspec": {
   "display_name": "Python 3 (ipykernel)",
   "language": "python",
   "name": "python3"
  },
  "language_info": {
   "codemirror_mode": {
    "name": "ipython",
    "version": 3
   },
   "file_extension": ".py",
   "mimetype": "text/x-python",
   "name": "python",
   "nbconvert_exporter": "python",
   "pygments_lexer": "ipython3",
   "version": "3.9.12"
  }
 },
 "nbformat": 4,
 "nbformat_minor": 5
}
