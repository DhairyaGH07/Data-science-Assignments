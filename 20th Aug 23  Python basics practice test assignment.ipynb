{
 "cells": [
  {
   "cell_type": "markdown",
   "id": "aea496d6-8fa2-4ac1-9a2a-685ec316f9af",
   "metadata": {},
   "source": [
    "# 1. String Based Practice Questions"
   ]
  },
  {
   "cell_type": "code",
   "execution_count": 1,
   "id": "7c73ad05-1b4c-4a16-9e75-dde04815c962",
   "metadata": {},
   "outputs": [
    {
     "name": "stdin",
     "output_type": "stream",
     "text": [
      "Enter a phrase: there\n"
     ]
    },
    {
     "data": {
      "text/plain": [
       "'ereht'"
      ]
     },
     "execution_count": 1,
     "metadata": {},
     "output_type": "execute_result"
    }
   ],
   "source": [
    "# 1. Write a program to reverse a string.\n",
    "\n",
    "string_1 = input(\"Enter a phrase:\")\n",
    "string_rev = string_1[::-1]\n",
    "string_rev"
   ]
  },
  {
   "cell_type": "code",
   "execution_count": 4,
   "id": "4a2b3ace-c998-44a2-a0d1-ba2c03695d43",
   "metadata": {},
   "outputs": [
    {
     "name": "stdin",
     "output_type": "stream",
     "text": [
      "Enter a phrase: 123\n"
     ]
    },
    {
     "name": "stdout",
     "output_type": "stream",
     "text": [
      "The string is not a pallindrome\n"
     ]
    }
   ],
   "source": [
    "# 2. Check if a string is a palindrome.\n",
    "string_pall = input(\"Enter a phrase:\")\n",
    "if string_pall == string_pall[::-1]:\n",
    "    print(\"The string is a pallindrome\")\n",
    "else:\n",
    "    print(\"The string is not a pallindrome\")"
   ]
  },
  {
   "cell_type": "code",
   "execution_count": 5,
   "id": "5b17374f-387c-45b9-ba9c-58eb8a82b515",
   "metadata": {},
   "outputs": [
    {
     "name": "stdin",
     "output_type": "stream",
     "text": [
      "Enter a phrase: there\n"
     ]
    },
    {
     "name": "stdout",
     "output_type": "stream",
     "text": [
      "THERE\n"
     ]
    }
   ],
   "source": [
    "# 3. Convert a string to uppercase.\n",
    "string_2 = input(\"Enter a phrase:\")\n",
    "print(string_2.upper())"
   ]
  },
  {
   "cell_type": "code",
   "execution_count": 6,
   "id": "47f2e0ef-e203-4d55-93ad-44ff737db2d6",
   "metadata": {},
   "outputs": [
    {
     "name": "stdin",
     "output_type": "stream",
     "text": [
      "Enter a phrase: THERE\n"
     ]
    },
    {
     "name": "stdout",
     "output_type": "stream",
     "text": [
      "there\n"
     ]
    }
   ],
   "source": [
    "# 4. Convert a string to lowercase.\n",
    "string_3 = input(\"Enter a phrase:\")\n",
    "print(string_3.lower())"
   ]
  },
  {
   "cell_type": "code",
   "execution_count": 10,
   "id": "cf17e6e0-fdd3-4ca5-9e5e-0db37ac25555",
   "metadata": {},
   "outputs": [
    {
     "name": "stdin",
     "output_type": "stream",
     "text": [
      "Enter a phrase: Enter a phrase: THERE\n"
     ]
    },
    {
     "name": "stdout",
     "output_type": "stream",
     "text": [
      "The number of vowels in the phrase is : 7\n"
     ]
    }
   ],
   "source": [
    "# 5. Count the number of vowels in a string.\n",
    "string_4 = input(\"Enter a phrase:\")\n",
    "count = 0\n",
    "vowels = \"AEIOUaeiou\"\n",
    "for i in string_4:\n",
    "    if i in vowels:\n",
    "        count += 1\n",
    "    else:\n",
    "        pass\n",
    "print(\"The number of vowels in the phrase is :\", count)"
   ]
  },
  {
   "cell_type": "code",
   "execution_count": 18,
   "id": "20e44cb5-9a07-4131-8c9f-cf123b560964",
   "metadata": {},
   "outputs": [
    {
     "name": "stdin",
     "output_type": "stream",
     "text": [
      "Enter a phrase: .\n"
     ]
    },
    {
     "name": "stdout",
     "output_type": "stream",
     "text": [
      "The number of vowels in the phrase is : 1\n"
     ]
    }
   ],
   "source": [
    "# 6. Count the number of consonants in a string.\n",
    "string_5 = input(\"Enter a phrase:\").replace(\" \", '')\n",
    "count = 0\n",
    "vowels = \"AEIOUaeiou\"\n",
    "for i in string_5:\n",
    "    if i not in vowels:\n",
    "        count += 1\n",
    "    else:\n",
    "        pass\n",
    "print(\"The number of vowels in the phrase is :\", count)"
   ]
  },
  {
   "cell_type": "code",
   "execution_count": 19,
   "id": "8316a438-dcca-4435-aa9d-3e96eedf0a13",
   "metadata": {},
   "outputs": [
    {
     "name": "stdin",
     "output_type": "stream",
     "text": [
      "Enter a phrase: there are many kids in the school\n"
     ]
    },
    {
     "name": "stdout",
     "output_type": "stream",
     "text": [
      "therearemanykidsintheschool\n"
     ]
    }
   ],
   "source": [
    "# 7. Remove all whitespaces from a string.\n",
    "string_6 = input(\"Enter a phrase:\").replace(\" \", '')\n",
    "print(string_6)"
   ]
  },
  {
   "cell_type": "code",
   "execution_count": 24,
   "id": "d80ae945-e24a-47b2-82aa-5d9d983c55ee",
   "metadata": {},
   "outputs": [
    {
     "name": "stdin",
     "output_type": "stream",
     "text": [
      "Enter a phrase: there are kids\n"
     ]
    },
    {
     "name": "stdout",
     "output_type": "stream",
     "text": [
      "14\n"
     ]
    }
   ],
   "source": [
    "# 8. Find the length of a string without using the `len()` function.\n",
    "st_len = list(input(\"Enter a phrase:\"))\n",
    "count = 0 \n",
    "for i in st_len:\n",
    "    count += 1\n",
    "print(count)"
   ]
  },
  {
   "cell_type": "code",
   "execution_count": 28,
   "id": "f0e608b9-f631-4836-917e-6bef8f1e68c7",
   "metadata": {},
   "outputs": [
    {
     "name": "stdin",
     "output_type": "stream",
     "text": [
      "Enter a phrase: there are four cars in the parking\n",
      "The word to be found: cars\n"
     ]
    },
    {
     "name": "stdout",
     "output_type": "stream",
     "text": [
      "The string contains 'cars'\n"
     ]
    }
   ],
   "source": [
    "# 9. Check if a string contains a specific word.\n",
    "st_word = (input(\"Enter a phrase:\"))\n",
    "word = input(\"The word to be found:\")\n",
    "if word in st_word:\n",
    "    print(\"The string contains '{}'\".format(word))\n",
    "else:\n",
    "    print(\"The string does not contains '{}'\".format(word))"
   ]
  },
  {
   "cell_type": "code",
   "execution_count": 3,
   "id": "6fb23a13-068e-4f6f-89ab-5a46f0495120",
   "metadata": {},
   "outputs": [
    {
     "name": "stdin",
     "output_type": "stream",
     "text": [
      "Enter a phrase: there are three buses\n",
      "word to replace: three\n",
      "the word to insert: four\n"
     ]
    },
    {
     "name": "stdout",
     "output_type": "stream",
     "text": [
      "there are four buses\n"
     ]
    }
   ],
   "source": [
    "# 10. Replace a word in a string with another word.\n",
    "st_ori = input(\"Enter a phrase:\")\n",
    "st_replace = input(\"word to replace:\")\n",
    "st_insert = input(\"the word to insert:\")\n",
    "st_new = st_ori.replace(st_replace, st_insert)\n",
    "print(st_new)"
   ]
  },
  {
   "cell_type": "code",
   "execution_count": 12,
   "id": "425dbf44-ac70-4c35-a790-bf6eaca49a82",
   "metadata": {},
   "outputs": [
    {
     "name": "stdin",
     "output_type": "stream",
     "text": [
      "Enter a phrase: Find the first occurrence of a word in a string.\n",
      "Word to search: a\n"
     ]
    },
    {
     "name": "stdout",
     "output_type": "stream",
     "text": [
      "Count of ther word 'a' in the phrase is : 2\n"
     ]
    }
   ],
   "source": [
    "# 11. Count the occurrences of a word in a string.\n",
    "st_occ = list(input(\"Enter a phrase:\").split(\" \"))\n",
    "st_occ_1 = input(\"Word to search:\")\n",
    "count = 0\n",
    "for i in range(0, len(st_occ)):\n",
    "    if st_occ_1 == st_occ[i]:\n",
    "        count += 1\n",
    "print(\"Count of ther word '{}' in the phrase is :\".format(st_occ_1), count)"
   ]
  },
  {
   "cell_type": "code",
   "execution_count": 16,
   "id": "437fa5e9-9d35-4e06-b236-0b5bf5fdbaaa",
   "metadata": {},
   "outputs": [
    {
     "name": "stdin",
     "output_type": "stream",
     "text": [
      "Enter a phrase: there are more than five kids who are good at maths\n",
      "Word to search: are\n"
     ]
    },
    {
     "name": "stdout",
     "output_type": "stream",
     "text": [
      "First occurance of the word 'are' is at the index: 6\n"
     ]
    }
   ],
   "source": [
    "# 12. Find the first occurrence of a word in a string.\n",
    "st_a = input(\"Enter a phrase:\")\n",
    "first_w = input(\"Word to search:\")\n",
    "\n",
    "print(\"First occurance of the word '{}' is at the index:\".format(first_w), st_a.find(first_w))"
   ]
  },
  {
   "cell_type": "code",
   "execution_count": 18,
   "id": "1aaafcce-4004-4a0b-8aad-c4b33bc3cb67",
   "metadata": {},
   "outputs": [
    {
     "name": "stdin",
     "output_type": "stream",
     "text": [
      "Enter a phrase: there are more than five kids who are good at maths\n",
      "Word to search: are\n"
     ]
    },
    {
     "name": "stdout",
     "output_type": "stream",
     "text": [
      "last occurance of the word 'are' is at the index: 34\n"
     ]
    }
   ],
   "source": [
    "# 13. Find the last occurrence of a word in a string.\n",
    "st_b = input(\"Enter a phrase:\")\n",
    "last_w = input(\"Word to search:\")\n",
    "\n",
    "print(\"last occurance of the word '{}' is at the index:\".format(last_w), st_b.rfind(last_w))"
   ]
  },
  {
   "cell_type": "code",
   "execution_count": 20,
   "id": "43b80f5e-b709-4b14-acb5-7f79b6fb2c6f",
   "metadata": {},
   "outputs": [
    {
     "name": "stdin",
     "output_type": "stream",
     "text": [
      "Enter a phrase: there are kids\n"
     ]
    },
    {
     "name": "stdout",
     "output_type": "stream",
     "text": [
      "['there', 'are', 'kids']\n"
     ]
    }
   ],
   "source": [
    "# 14. Split a string into a list of words.\n",
    "st_c = list(input(\"Enter a phrase:\").split(\" \"))\n",
    "print(st_c)"
   ]
  },
  {
   "cell_type": "code",
   "execution_count": 23,
   "id": "5f192b7f-a656-4e8a-80ef-6ae015ed616f",
   "metadata": {},
   "outputs": [
    {
     "name": "stdout",
     "output_type": "stream",
     "text": [
      "Kids are playing in the park.\n"
     ]
    }
   ],
   "source": [
    "# 15. Join a list of words into a string.\n",
    "list_words = [\"Kids\", \"are\", \"playing\", \"in\",\"the\",\"park.\"]\n",
    "print(\" \".join(list_words))"
   ]
  },
  {
   "cell_type": "code",
   "execution_count": 1,
   "id": "869f484f-6644-435e-ad53-e317af868b11",
   "metadata": {},
   "outputs": [
    {
     "name": "stdin",
     "output_type": "stream",
     "text": [
      "Enter a phrase: there are bears and wolves\n"
     ]
    },
    {
     "name": "stdout",
     "output_type": "stream",
     "text": [
      "there_are_bears_and_wolves\n"
     ]
    }
   ],
   "source": [
    "# 16. Convert a string where words are separated by spaces to one where words are separated by underscores.\n",
    "st_space = input(\"Enter a phrase:\")\n",
    "st_uscore = st_space.replace(\" \", \"_\")\n",
    "print(st_uscore)"
   ]
  },
  {
   "cell_type": "code",
   "execution_count": 3,
   "id": "84c2c560-dd2d-4685-9042-f51de37a1d42",
   "metadata": {},
   "outputs": [
    {
     "name": "stdin",
     "output_type": "stream",
     "text": [
      "Enter a phrase: balloons are high up in the sky\n",
      "Enter the word to be checked: balloon\n"
     ]
    },
    {
     "name": "stdout",
     "output_type": "stream",
     "text": [
      "Yes the phrase starts with 'balloon'\n"
     ]
    }
   ],
   "source": [
    "# 17. Check if a string starts with a specific word or phrase.\n",
    "st_s_check = input(\"Enter a phrase:\")\n",
    "st_w_check = input(\"Enter the word to be checked:\")\n",
    "if st_s_check.startswith(st_w_check):\n",
    "    print(\"Yes the phrase starts with '{}'\".format(st_w_check))\n",
    "else:\n",
    "    print(\"No the phrase does not starts with '{}'\".format(st_w_check))"
   ]
  },
  {
   "cell_type": "code",
   "execution_count": 5,
   "id": "2eff3d2b-94e7-419c-9260-f12d39174501",
   "metadata": {},
   "outputs": [
    {
     "name": "stdin",
     "output_type": "stream",
     "text": [
      "Enter a phrase: cycle helmet books\n",
      "Enter the word to be checked: helmet\n"
     ]
    },
    {
     "name": "stdout",
     "output_type": "stream",
     "text": [
      "No the phrase does not endds with 'helmet'\n"
     ]
    }
   ],
   "source": [
    "# 18. Check if a string ends with a specific word or phrase.\n",
    "st_s_check = input(\"Enter a phrase:\")\n",
    "st_w_check = input(\"Enter the word to be checked:\")\n",
    "if st_s_check.endswith(st_w_check):\n",
    "    print(\"Yes the phrase ends with '{}'\".format(st_w_check))\n",
    "else:\n",
    "    print(\"No the phrase does not endds with '{}'\".format(st_w_check))"
   ]
  },
  {
   "cell_type": "code",
   "execution_count": 6,
   "id": "c5766123-384b-4689-bad0-eace37df23af",
   "metadata": {},
   "outputs": [
    {
     "name": "stdin",
     "output_type": "stream",
     "text": [
      "Enter a phrase: three hundred\n"
     ]
    },
    {
     "name": "stdout",
     "output_type": "stream",
     "text": [
      "Three Hundred\n"
     ]
    }
   ],
   "source": [
    "# 19. Convert a string to title case (e.g., \"hello world\" to \"Hello World\").\n",
    "st_normal = input(\"Enter a phrase:\")\n",
    "st_title = print(st_normal.title())"
   ]
  },
  {
   "cell_type": "code",
   "execution_count": 10,
   "id": "37bb5b85-3c7d-49f3-8b16-e9988c8aae1f",
   "metadata": {},
   "outputs": [
    {
     "name": "stdin",
     "output_type": "stream",
     "text": [
      "Enter a phrase: barbarous magnificent articulative departmentalize\n"
     ]
    },
    {
     "name": "stdout",
     "output_type": "stream",
     "text": [
      "departmentalize\n"
     ]
    }
   ],
   "source": [
    "# 20. Find the longest word in a string.\n",
    "st_string = sorted(list(input(\"Enter a phrase:\").split(\" \")))\n",
    "st_longest = max(st_string, key = len)\n",
    "print(st_longest)"
   ]
  },
  {
   "cell_type": "code",
   "execution_count": 13,
   "id": "c6185790-6a08-4537-9f52-fd3d70fcf2f9",
   "metadata": {},
   "outputs": [
    {
     "name": "stdin",
     "output_type": "stream",
     "text": [
      "Enter a phrase: art is not for everyone\n"
     ]
    },
    {
     "name": "stdout",
     "output_type": "stream",
     "text": [
      "is\n"
     ]
    }
   ],
   "source": [
    "# 21. Find the shortest word in a string.\n",
    "st_string1 = sorted(list(input(\"Enter a phrase:\").split(\" \")))\n",
    "st_shortest = min(st_string1, key = len)\n",
    "print(st_shortest)"
   ]
  },
  {
   "cell_type": "code",
   "execution_count": 19,
   "id": "0d76e7df-f312-4a5c-b976-282a4959235f",
   "metadata": {},
   "outputs": [
    {
     "name": "stdin",
     "output_type": "stream",
     "text": [
      "Enter a phrase: three and four\n"
     ]
    },
    {
     "name": "stdout",
     "output_type": "stream",
     "text": [
      "four and three\n"
     ]
    }
   ],
   "source": [
    "# 22. Reverse the order of words in a string.\n",
    "st_st1 = (input(\"Enter a phrase:\").split(\" \"))\n",
    "st_rev = st_st1[::-1]\n",
    "print(\" \".join(st_rev))"
   ]
  },
  {
   "cell_type": "code",
   "execution_count": 31,
   "id": "f609d91c-ae69-4634-8717-d606898886c4",
   "metadata": {},
   "outputs": [
    {
     "name": "stdin",
     "output_type": "stream",
     "text": [
      "Enter the phrase: string_123\n"
     ]
    },
    {
     "name": "stdout",
     "output_type": "stream",
     "text": [
      "No the string is not alphanumeric\n"
     ]
    }
   ],
   "source": [
    "# 23. Check if a string is alphanumeric.\n",
    "st_aln = input(\"Enter the phrase:\")\n",
    "if (st_aln.isalnum()) == True:\n",
    "    print(\"Yes the string is alphanumeric\")\n",
    "else:\n",
    "    print(\"No the string is not alphanumeric\")"
   ]
  },
  {
   "cell_type": "code",
   "execution_count": 42,
   "id": "879aba1e-c4e4-4e19-9f85-764db07d7522",
   "metadata": {},
   "outputs": [
    {
     "name": "stdin",
     "output_type": "stream",
     "text": [
      "Enter the phrase: three3four4\n"
     ]
    },
    {
     "name": "stdout",
     "output_type": "stream",
     "text": [
      "[3, 4]\n"
     ]
    }
   ],
   "source": [
    "# 24. Extract all digits from a string.\n",
    "st_dig = input(\"Enter the phrase:\")\n",
    "l_dig = []\n",
    "i = 0\n",
    "for i in st_dig:\n",
    "    if i.isdigit() == True:\n",
    "        l_dig.append(int(i))\n",
    "print(l_dig)"
   ]
  },
  {
   "cell_type": "code",
   "execution_count": 1,
   "id": "d23c7461-6f3d-4105-86c5-29d57f5c3dfb",
   "metadata": {},
   "outputs": [
    {
     "name": "stdin",
     "output_type": "stream",
     "text": [
      "Enter the phrase: thre3are4\n"
     ]
    },
    {
     "name": "stdout",
     "output_type": "stream",
     "text": [
      "['t', 'h', 'r', 'e', 'a', 'r', 'e']\n"
     ]
    }
   ],
   "source": [
    "# 25. Extract all alphabets from a string.\n",
    "st_alp = input(\"Enter the phrase:\")\n",
    "l_alp = []\n",
    "i = 0\n",
    "for i in st_alp:\n",
    "    if i.isalpha() == True:\n",
    "        l_alp.append(i)\n",
    "print(l_alp)"
   ]
  },
  {
   "cell_type": "code",
   "execution_count": 5,
   "id": "6f7df3ee-b700-4f3f-817c-f557d8e4a022",
   "metadata": {},
   "outputs": [
    {
     "name": "stdin",
     "output_type": "stream",
     "text": [
      "Enter the phrase: Three FOur Five\n"
     ]
    },
    {
     "name": "stdout",
     "output_type": "stream",
     "text": [
      "Number of uppercase letters in the string: 4\n"
     ]
    }
   ],
   "source": [
    "# 26. Count the number of uppercase letters in a string.\n",
    "st_upper = input(\"Enter the phrase:\")\n",
    "count = 0\n",
    "for i in st_upper:\n",
    "    if i.isupper() == True:\n",
    "        count += 1\n",
    "print(\"Number of uppercase letters in the string:\", count) "
   ]
  },
  {
   "cell_type": "code",
   "execution_count": 7,
   "id": "28fa1d17-3910-44b2-a58a-ad43b7316492",
   "metadata": {},
   "outputs": [
    {
     "name": "stdin",
     "output_type": "stream",
     "text": [
      "Enter the phrase: One Hundred\n"
     ]
    },
    {
     "name": "stdout",
     "output_type": "stream",
     "text": [
      "Number of lowercase letters in the string: 8\n"
     ]
    }
   ],
   "source": [
    "# 27. Count the number of lowercase letters in a string.\n",
    "st_lower = input(\"Enter the phrase:\")\n",
    "count = 0\n",
    "for i in st_lower:\n",
    "    if i.islower() == True:\n",
    "        count += 1\n",
    "print(\"Number of lowercase letters in the string:\", count) "
   ]
  },
  {
   "cell_type": "code",
   "execution_count": 11,
   "id": "34721e48-6f70-41df-8c8c-4fd8be929d14",
   "metadata": {},
   "outputs": [
    {
     "name": "stdin",
     "output_type": "stream",
     "text": [
      "Enter the phrase: Three\n"
     ]
    },
    {
     "name": "stdout",
     "output_type": "stream",
     "text": [
      "tHREE\n"
     ]
    }
   ],
   "source": [
    "# 28. Swap the case of each character in a string.\n",
    "st_swap = input(\"Enter the phrase:\")\n",
    "print(st_swap.swapcase())"
   ]
  },
  {
   "cell_type": "code",
   "execution_count": 13,
   "id": "9565ca2e-c294-4f79-9405-d858faad8759",
   "metadata": {},
   "outputs": [
    {
     "name": "stdin",
     "output_type": "stream",
     "text": [
      "Enter the phrase: There are many cases in this city\n",
      "Enter the word to be removed: many\n"
     ]
    },
    {
     "name": "stdout",
     "output_type": "stream",
     "text": [
      "There are cases in this city\n"
     ]
    }
   ],
   "source": [
    "# 29. Remove a specific word from a string.\n",
    "st_rem_wrd = input(\"Enter the phrase:\")\n",
    "rem_wrd = input(\"Enter the word to be removed:\")\n",
    "print(st_rem_wrd.replace(rem_wrd+\" \", \"\"))"
   ]
  },
  {
   "cell_type": "code",
   "execution_count": 21,
   "id": "5db5b21a-18d3-4011-b64c-2545b2958402",
   "metadata": {},
   "outputs": [
    {
     "name": "stdin",
     "output_type": "stream",
     "text": [
      "Enter your email ID: shushant@gmail@com\n"
     ]
    },
    {
     "name": "stdout",
     "output_type": "stream",
     "text": [
      "invalid\n"
     ]
    }
   ],
   "source": [
    "# 30. Check if a string is a valid email address.\n",
    "st_email = input(\"Enter your email ID:\")\n",
    "special_characters = \"<>,?/\\\"'|\\+:;\"\n",
    "for i in st_email:\n",
    "    if i in special_characters:\n",
    "        print(\"Please remove '{}' and trry again.\".format(special_characters))\n",
    "if \"@\" in st_email:\n",
    "    e_mail = st_email.split(\"@\")\n",
    "    if \".\" in e_mail[1]:\n",
    "        point = e_mail[1].split(\".\")\n",
    "        if st_email == (e_mail[0]+\"@\"+point[0]+\".\"+point[1]):\n",
    "            print(\"This is a valid email id.\")\n",
    "        else:\n",
    "            print(\"invalid email id.\")\n",
    "    else:\n",
    "        print(\"invalid email id.\")\n",
    "else:\n",
    "    print(\"invalid email id.\")"
   ]
  },
  {
   "cell_type": "code",
   "execution_count": 40,
   "id": "fbb39d29-7cd9-45c9-b661-731f84a11a62",
   "metadata": {},
   "outputs": [
    {
     "name": "stdin",
     "output_type": "stream",
     "text": [
      "Enter the email id: sahil07@gmail.com\n"
     ]
    },
    {
     "name": "stdout",
     "output_type": "stream",
     "text": [
      "the username is: sahil07\n"
     ]
    }
   ],
   "source": [
    "# 31. Extract the username from an email address string.\n",
    "email_id = input(\"Enter the email id:\")\n",
    "special_character = \"<>,?/\\\"'|\\+:;\"\n",
    "for i in email_id:\n",
    "    if i in special_character:\n",
    "        print(\"Please remove '{}' and trry again.\".format(special_character))\n",
    "if \"@\" in email_id:\n",
    "    e_mail_user = email_id.split(\"@\")\n",
    "    print(\"the username is:\",e_mail_user[0])"
   ]
  },
  {
   "cell_type": "code",
   "execution_count": 42,
   "id": "6367b5ae-44d7-437a-b30b-daea62c4ba29",
   "metadata": {},
   "outputs": [
    {
     "name": "stdin",
     "output_type": "stream",
     "text": [
      "Enter the email id: sahil07@gmail.com\n"
     ]
    },
    {
     "name": "stdout",
     "output_type": "stream",
     "text": [
      "the domain name is: gmail.com\n"
     ]
    }
   ],
   "source": [
    "# 32. Extract the domain name from an email address string.\n",
    "email_ID = input(\"Enter the email id:\")\n",
    "specials = \"<>,?/\\\"'|\\+:;\"\n",
    "for i in email_ID:\n",
    "    if i in specials:\n",
    "        print(\"Please remove '{}' and trry again.\".format(specials))\n",
    "if \"@\" in email_ID:\n",
    "    e_mail_domain = email_ID.split(\"@\")\n",
    "    print(\"the domain name is:\", e_mail_user[1])"
   ]
  },
  {
   "cell_type": "code",
   "execution_count": 43,
   "id": "e3e75ad4-f2bb-4ff2-8cbf-254874268042",
   "metadata": {},
   "outputs": [
    {
     "name": "stdin",
     "output_type": "stream",
     "text": [
      "Enter the phrase: there     are com\n"
     ]
    },
    {
     "data": {
      "text/plain": [
       "'there are com'"
      ]
     },
     "execution_count": 43,
     "metadata": {},
     "output_type": "execute_result"
    }
   ],
   "source": [
    "# 33. Replace multiple spaces in a string with a single space.\n",
    "st_ms = input(\"Enter the phrase:\")\n",
    "st_ms = \" \".join(st_ms.split())\n",
    "st_ms"
   ]
  },
  {
   "cell_type": "code",
   "execution_count": 17,
   "id": "8db24427-4a85-478b-b52e-1b57c8f5ea98",
   "metadata": {},
   "outputs": [
    {
     "name": "stdin",
     "output_type": "stream",
     "text": [
      "Enter the url: http://www.sas.com\n"
     ]
    },
    {
     "data": {
      "application/javascript": [
       "\n",
       "        if (window._pyforest_update_imports_cell) { window._pyforest_update_imports_cell('import re'); }\n",
       "    "
      ],
      "text/plain": [
       "<IPython.core.display.Javascript object>"
      ]
     },
     "metadata": {},
     "output_type": "display_data"
    },
    {
     "name": "stdout",
     "output_type": "stream",
     "text": [
      "The URL is valid\n"
     ]
    }
   ],
   "source": [
    "# 34. Check if a string is a valid URL.\n",
    "\n",
    "# Exhaused after brainstorming for this code as I am just a beginner! Be kind! :-)\n",
    "st_url = input(\"Enter the url:\")\n",
    "if \" \" in st_url:\n",
    "    print(\"The URL is invalid\")\n",
    "elif \"://\" in st_url:\n",
    "    protocol = (st_url.split(\"://\"))\n",
    "    if protocol[0] in (\"http\", \"https\"):\n",
    "        if \".\" in protocol[1]:\n",
    "            valid_hostname_part = re.compile(r'^[a-zA-Z0-9_-]+$')\n",
    "            for part in protocol[1]:\n",
    "                if not valid_hostname_part.match(part):\n",
    "                    break\n",
    "                else:\n",
    "                    hostname = (protocol[1].split(\".\"))\n",
    "            if len(hostname) == 2:\n",
    "                if \"www\" or \"ww\" in hostname[0]:\n",
    "                    print(\"The URL is invalid\")\n",
    "                elif hostname[1] == \"com\":\n",
    "                    if st_url == f\"{protocol[0]}://{hostname[0]}.{hostname[1]}\":\n",
    "                        print(\"The URL is valid\")\n",
    "                    else:\n",
    "                        print(\"The URL is invalid\")\n",
    "                else:\n",
    "                    print(\"The URL is invalid\")\n",
    "            elif len(hostname) == 3:\n",
    "                if st_url == f\"{protocol[0]}://{hostname[0]}.{hostname[1]}.{hostname[2]}\":\n",
    "                    print(\"The URL is valid\")\n",
    "                else:\n",
    "                    print(\"The URL is invalid\")\n",
    "            else:\n",
    "                print(\"The URL is invalid\")\n",
    "        else:\n",
    "            print(\"The URL is invalid\")\n",
    "    else:\n",
    "        print(\"The URL is invalid\")\n",
    "else:\n",
    "    print(\"The URL is invalid\")\n",
    "    \n",
    "\n",
    "## This is how much I can do for now!!   ;-)"
   ]
  },
  {
   "cell_type": "code",
   "execution_count": 21,
   "id": "3b341c07-031d-4800-afd1-a887dc6cecec",
   "metadata": {},
   "outputs": [
    {
     "name": "stdin",
     "output_type": "stream",
     "text": [
      "Enter the url: https://www.sas.com\n"
     ]
    },
    {
     "name": "stdout",
     "output_type": "stream",
     "text": [
      "The protocol for this url is:'https'\n"
     ]
    }
   ],
   "source": [
    "# 35. Extract the protocol (http or https) from a URL string.\n",
    "st_URL = input(\"Enter the url:\")\n",
    "if \"://\" in st_URL:\n",
    "    protocol_URL = (st_URL.split(\"://\"))\n",
    "    if protocol_URL[0] == \"http\" or protocol_URL[0] == \"https\":\n",
    "        print(\"The protocol for this url is:'{}'\".format(protocol_URL[0]))\n",
    "    else:\n",
    "        print(\"Enter valid url\")"
   ]
  },
  {
   "cell_type": "code",
   "execution_count": 24,
   "id": "930eaeff-0ac8-4c39-8245-1b6eb9ce3349",
   "metadata": {},
   "outputs": [
    {
     "name": "stdin",
     "output_type": "stream",
     "text": [
      " three three\n"
     ]
    },
    {
     "name": "stdout",
     "output_type": "stream",
     "text": [
      "Count of all characters in st_2 is :\n",
      " {'t': 2, 'h': 2, 'r': 2, 'e': 4}\n"
     ]
    }
   ],
   "source": [
    "# 36. Find the frequency of each character in a string.\n",
    "st_fre = input()\n",
    "a = st_fre.replace(\" \",\"\")\n",
    "list_5 = {}\n",
    "for i in a:\n",
    "    if i in list_5:\n",
    "        list_5[i] += 1\n",
    "    else:\n",
    "        list_5[i] = 1\n",
    "print(\"Count of all characters in st_2 is :\\n \"+ str(list_5))"
   ]
  },
  {
   "cell_type": "code",
   "execution_count": 18,
   "id": "ed85b23f-179d-4994-b925-a7040b56105f",
   "metadata": {},
   "outputs": [
    {
     "name": "stdin",
     "output_type": "stream",
     "text": [
      " a<s,D.d>a?A/s's\"d;D:a]s[A{S}d\\D|a!s@d#\n"
     ]
    },
    {
     "name": "stdout",
     "output_type": "stream",
     "text": [
      "asDdaAssdDasASdDasd\n"
     ]
    }
   ],
   "source": [
    "# 37. Remove all punctuation from a string.\n",
    "st_pun = input()\n",
    "punct = \"!\\\"#$%&'()*+,-./:;<=>?@[\\]^_`{|}~\"\n",
    "a=[]\n",
    "for i in st_pun:\n",
    "    if i not in punct:\n",
    "        a.append(i)\n",
    "print(\"\".join(a))\n"
   ]
  },
  {
   "cell_type": "code",
   "execution_count": 23,
   "id": "c4ba54a5-e757-4d24-9680-253999ad581b",
   "metadata": {},
   "outputs": [
    {
     "name": "stdin",
     "output_type": "stream",
     "text": [
      "Enter the phrase: 123\n"
     ]
    },
    {
     "name": "stdout",
     "output_type": "stream",
     "text": [
      "Yes. The input string only contains digits.\n"
     ]
    }
   ],
   "source": [
    "# 38. Check if a string contains only digits.\n",
    "in_dig = input(\"Enter the phrase:\")\n",
    "if in_dig.isdigit() == True:\n",
    "    print(\"Yes. The input string only contains digits.\")\n",
    "else:\n",
    "    print(\"No. The input string does not only contains digits.\")"
   ]
  },
  {
   "cell_type": "code",
   "execution_count": 25,
   "id": "4d606ccf-40e2-414f-a201-5a337f5f946b",
   "metadata": {},
   "outputs": [
    {
     "name": "stdin",
     "output_type": "stream",
     "text": [
      "Enter the phrase: asd\n"
     ]
    },
    {
     "name": "stdout",
     "output_type": "stream",
     "text": [
      "Yes. The input string only contain alphabets.\n"
     ]
    }
   ],
   "source": [
    "# 39. Check if a string contains only alphabets.\n",
    "in_alp = input(\"Enter the phrase:\")\n",
    "if in_alp.isalpha() == True:\n",
    "    print(\"Yes. The input string only contain alphabets.\")\n",
    "else:\n",
    "    print(\"No. The input string does not only contain alphabets.\")"
   ]
  },
  {
   "cell_type": "code",
   "execution_count": 31,
   "id": "277fb7b8-938a-4edc-89fa-55e70ca30e67",
   "metadata": {},
   "outputs": [
    {
     "name": "stdin",
     "output_type": "stream",
     "text": [
      "Enter the phrase: there are three\n"
     ]
    },
    {
     "name": "stdout",
     "output_type": "stream",
     "text": [
      "['t', 'h', 'e', 'r', 'e', 'a', 'r', 'e', 't', 'h', 'r', 'e', 'e']\n"
     ]
    }
   ],
   "source": [
    "# 40. Convert a string to a list of characters.\n",
    "st_l = input(\"Enter the phrase:\")\n",
    "print(list(st_l.replace(\" \",\"\")))"
   ]
  },
  {
   "cell_type": "code",
   "execution_count": 43,
   "id": "3eaa013a-e311-4618-a31b-5e56c3e3d6a8",
   "metadata": {},
   "outputs": [
    {
     "name": "stdin",
     "output_type": "stream",
     "text": [
      " there\n",
      " three\n"
     ]
    },
    {
     "name": "stdout",
     "output_type": "stream",
     "text": [
      "Yes both strings are anagrams\n"
     ]
    }
   ],
   "source": [
    "# 41. Check if two strings are anagrams.\n",
    "st_ana = input()\n",
    "st_gram = input()\n",
    "\n",
    "if (sorted(st_ana) == sorted(st_gram)) :\n",
    "    print(\"Yes both strings are anagrams\")\n",
    "else:\n",
    "    print(\"No both strings are not anagrams\")"
   ]
  },
  {
   "cell_type": "code",
   "execution_count": 60,
   "id": "556698ab-449e-4df8-ae37-8d6a1b3189a8",
   "metadata": {},
   "outputs": [
    {
     "name": "stdin",
     "output_type": "stream",
     "text": [
      "Enter the phrase: mon\n",
      "Enter the shift required: 1\n"
     ]
    },
    {
     "name": "stdout",
     "output_type": "stream",
     "text": [
      "Plain txt : mon\n",
      "Shift pattern : 1\n",
      "Cipher: npo\n"
     ]
    }
   ],
   "source": [
    "# 42. Encode a string using a Caesar cipher.\n",
    "def encrypt_fun(text, shift):\n",
    "    password = \"\"\n",
    "    \n",
    "    for i in range(len(text)):\n",
    "        char = text[i]\n",
    "        if (char.isupper()):  \n",
    "            password += chr((ord(char) + shift - 65) % 26 + 65)  \n",
    "        else:  \n",
    "            password += chr((ord(char) + shift - 97) % 26 + 97)\n",
    "    return password \n",
    "        \n",
    "        \n",
    "text = input(\"Enter the phrase:\")\n",
    "shift = int(input(\"Enter the shift required:\"))\n",
    "\n",
    "print(\"Plain txt : \" + text)  \n",
    "print(\"Shift pattern : \" + str(shift))  \n",
    "print(\"Cipher: \" + encrypt_fun(text, shift)) "
   ]
  },
  {
   "cell_type": "code",
   "execution_count": 61,
   "id": "c8809bea-99ae-4d9d-9a1f-5fe8c18042f2",
   "metadata": {},
   "outputs": [
    {
     "name": "stdin",
     "output_type": "stream",
     "text": [
      "Enter text : npo\n",
      "Enter Shift:  1\n"
     ]
    },
    {
     "name": "stdout",
     "output_type": "stream",
     "text": [
      "Plain txt : npo\n",
      "Shift pattern : 1\n",
      "Cipher: mon\n"
     ]
    }
   ],
   "source": [
    "# 43. Decode a Caesar cipher encoded string.\n",
    "def decrypt_func(text, shift):\n",
    "    pass_word = \"\"\n",
    "    \n",
    "    for i in range(len(text)):\n",
    "        char = text[i]\n",
    "        if (char.isupper()):\n",
    "            pass_word += chr((ord(char) - shift - 65) % 26 + 65)\n",
    "        else:\n",
    "            pass_word += chr((ord(char) - shift - 97) % 26 + 97)\n",
    "    return pass_word\n",
    "\n",
    "text = input(\"Enter text :\")  \n",
    "shift = int(input(\"Enter Shift: \"))\n",
    "print(\"Plain txt : \" + text)  \n",
    "print(\"Shift pattern : \" + str(shift))  \n",
    "print(\"Cipher: \" + decrypt_func(text, shift)) "
   ]
  },
  {
   "cell_type": "code",
   "execution_count": 74,
   "id": "fae031dc-364c-4436-b855-ff448f4159d7",
   "metadata": {},
   "outputs": [
    {
     "name": "stdin",
     "output_type": "stream",
     "text": [
      "Enter the phrase: this is hte first time that this type of things in this city is taking place at this time\n"
     ]
    },
    {
     "name": "stdout",
     "output_type": "stream",
     "text": [
      "Most frequent word in the input string is: 'this'\n"
     ]
    }
   ],
   "source": [
    "# 44. Find the most frequent word in a string.\n",
    "st_fre_wrd = input(\"Enter the phrase:\")\n",
    "list_st = st_fre_wrd.split(\" \")\n",
    "list_c = {}\n",
    "count = 0\n",
    "for i in list_st:\n",
    "    if i in list_c:\n",
    "        list_c[i] += 1\n",
    "    else:\n",
    "        list_c[i] =1\n",
    "print(\"Most frequent word in the input string is: '{}'\".format(max(list_c, key=list_c.get)))"
   ]
  },
  {
   "cell_type": "code",
   "execution_count": 76,
   "id": "f7fb03bc-b4f7-4e16-81f2-6f6c0c0e07aa",
   "metadata": {},
   "outputs": [
    {
     "name": "stdin",
     "output_type": "stream",
     "text": [
      "Enter the phrase: this is hte first time that this type of things in this city is taking place at this time\n"
     ]
    },
    {
     "name": "stdout",
     "output_type": "stream",
     "text": [
      "List of unique words in the input phrase is: {'first', 'is', 'place', 'in', 'things', 'city', 'of', 'time', 'hte', 'this', 'that', 'type', 'at', 'taking'}"
     ]
    }
   ],
   "source": [
    "# 45. Find all unique words in a string.\n",
    "st_unique = input(\"Enter the phrase:\")\n",
    "unique = list(st_unique.split(\" \"))\n",
    "print(\"List of unique words in the input phrase is:\",set(unique), end = \"\")"
   ]
  },
  {
   "cell_type": "code",
   "execution_count": 80,
   "id": "9619258e-7573-4403-a287-4b1e4f1db1e5",
   "metadata": {},
   "outputs": [
    {
     "name": "stdin",
     "output_type": "stream",
     "text": [
      "Enter the phrase: there are 8 kids\n"
     ]
    },
    {
     "name": "stdout",
     "output_type": "stream",
     "text": [
      "Number of syllables in the input phrase are: 13\n"
     ]
    }
   ],
   "source": [
    "# 46. Count the number of syllables in a string.\n",
    "st_syll = input(\"Enter the phrase:\")\n",
    "l_syll = []\n",
    "for i in st_syll:\n",
    "    if i.isalnum() == True:\n",
    "        l_syll.append(i)\n",
    "print(\"Number of syllables in the input phrase are:\",len(l_syll))"
   ]
  },
  {
   "cell_type": "code",
   "execution_count": 90,
   "id": "82b3ddbf-57a5-471b-b2ca-873b0743f2f6",
   "metadata": {},
   "outputs": [
    {
     "name": "stdin",
     "output_type": "stream",
     "text": [
      "Enter the phrase: there!\n"
     ]
    },
    {
     "name": "stdout",
     "output_type": "stream",
     "text": [
      "Yes there is a special character in the input string.\n"
     ]
    }
   ],
   "source": [
    "# 47. Check if a string contains any special characters.\n",
    "st_spc = input(\"Enter the phrase:\")\n",
    "st_spc.split()\n",
    "spc = \"!\\\"#$%&'()*+,-./:;<=>?@[\\]^_`{|}~\"\n",
    "c = 0\n",
    "for i in range(len(st_spc)):\n",
    "    if st_spc[i] in spc:\n",
    "        c += 1\n",
    "if c > 0:\n",
    "    print(\"Yes there is a special character in the input string.\")\n",
    "else:\n",
    "    print(\"No there is no special character in the input string.\")"
   ]
  },
  {
   "cell_type": "code",
   "execution_count": 101,
   "id": "5151e03b-2f6c-4132-9c64-00e9aec8488f",
   "metadata": {},
   "outputs": [
    {
     "name": "stdin",
     "output_type": "stream",
     "text": [
      "Enter the phrase the face is cute\n",
      "Enter the number of word to be removed: 1\n"
     ]
    },
    {
     "name": "stdout",
     "output_type": "stream",
     "text": [
      "face is cute\n"
     ]
    }
   ],
   "source": [
    "# 48. Remove the nth word from a string.\n",
    "string_n = input(\"Enter the phrase\")\n",
    "nt = string_n.split(\" \")\n",
    "nth = int(input(\"Enter the number of word to be removed:\"))\n",
    "nt_r = nt.remove(nt[nth-1])\n",
    "print(\" \".join(nt))"
   ]
  },
  {
   "cell_type": "code",
   "execution_count": 106,
   "id": "d7699613-1a67-442f-82bb-847a22d411bf",
   "metadata": {},
   "outputs": [
    {
     "name": "stdin",
     "output_type": "stream",
     "text": [
      "Enter the phrase there is apple\n",
      "Enter the word to be added: an\n",
      "At which position it is to be inserted? : 3\n"
     ]
    },
    {
     "name": "stdout",
     "output_type": "stream",
     "text": [
      "there is an apple\n"
     ]
    }
   ],
   "source": [
    "# 49. Insert a word at the nth position in a string.\n",
    "string_add = input(\"Enter the phrase:\")\n",
    "add_nt = string_add.split(\" \")\n",
    "add_word = input(\"Enter the word to be added:\")\n",
    "add_nth = int(input(\"At which position it is to be inserted? :\"))\n",
    "add_ntr = add_nt.insert((add_nth-1), add_word)\n",
    "print(\" \".join(add_nt))"
   ]
  },
  {
   "cell_type": "code",
   "execution_count": 113,
   "id": "ae5b2f2b-3d91-4200-9e83-028e04ee04d1",
   "metadata": {},
   "outputs": [
    {
     "name": "stdout",
     "output_type": "stream",
     "text": [
      "           series  episodes          actors\n",
      "0            TBBT       278      Jim Parson\n",
      "1  Peaky blinders        36  Cillian Murphy\n",
      "2         Witcher        50    Henry Cavill\n"
     ]
    }
   ],
   "source": [
    "# 50. Convert a CSV string to a list of lists.\n",
    "import pandas as pd\n",
    "  \n",
    "# Creating Dictionary\n",
    "dict = {\n",
    "    'series': ['TBBT', 'Peaky blinders', 'Witcher'],\n",
    "    'episodes': [278, 36, 50],\n",
    "    'actors': ['Jim Parson', 'Cillian Murphy', 'Henry Cavill']\n",
    "}\n",
    "  \n",
    "# Creating Dataframe\n",
    "df = pd.DataFrame(dict)\n",
    "print(df)"
   ]
  },
  {
   "cell_type": "markdown",
   "id": "fde70556-83dd-46f7-be62-a985332ae7b9",
   "metadata": {},
   "source": [
    "# 2. List Based Practice Problem"
   ]
  },
  {
   "cell_type": "code",
   "execution_count": 4,
   "id": "c8f84171-5fb6-42d3-9d4c-25efa6aaa9fc",
   "metadata": {},
   "outputs": [
    {
     "data": {
      "text/plain": [
       "[1, 2, 3, 4, 5, 6, 7, 8, 9, 10]"
      ]
     },
     "execution_count": 4,
     "metadata": {},
     "output_type": "execute_result"
    }
   ],
   "source": [
    "# 1. Create a list with integers from 1 to 10.\n",
    "l = list(range(1,11))\n",
    "l"
   ]
  },
  {
   "cell_type": "code",
   "execution_count": 26,
   "id": "4b3d04d4-712f-4c9d-9cdc-a7b4b5185293",
   "metadata": {},
   "outputs": [
    {
     "name": "stdout",
     "output_type": "stream",
     "text": [
      "The length of the list is: 10\n"
     ]
    }
   ],
   "source": [
    "# 2. Find the length of a list without using the `len()` function.\n",
    "l1 = list(range(1,11))\n",
    "count = 0\n",
    "for i in l1:\n",
    "    count += 1\n",
    "print(\"The length of the list is:\", count)    "
   ]
  },
  {
   "cell_type": "code",
   "execution_count": 13,
   "id": "c1d789a5-d24c-41e6-8fb8-fc6623239de4",
   "metadata": {},
   "outputs": [
    {
     "data": {
      "text/plain": [
       "[1, 2, 3, 4, 5, 6]"
      ]
     },
     "execution_count": 13,
     "metadata": {},
     "output_type": "execute_result"
    }
   ],
   "source": [
    "# 3. Append an element to the end of a list.\n",
    "l2 = [1,2,3,4,5]\n",
    "l2.append(6)\n",
    "l2"
   ]
  },
  {
   "cell_type": "code",
   "execution_count": 14,
   "id": "351927ca-2cfa-4f49-8d32-552da3f3a6ee",
   "metadata": {},
   "outputs": [
    {
     "data": {
      "text/plain": [
       "[1, 2, 3, 4, 5]"
      ]
     },
     "execution_count": 14,
     "metadata": {},
     "output_type": "execute_result"
    }
   ],
   "source": [
    "# 4. Insert an element at a specific index in a list.\n",
    "l3 = [1,2,4,5]\n",
    "l3.insert(2,3)\n",
    "l3"
   ]
  },
  {
   "cell_type": "code",
   "execution_count": 16,
   "id": "7ddbbd4e-aed1-4bf1-8f95-8e3715c350b9",
   "metadata": {},
   "outputs": [
    {
     "data": {
      "text/plain": [
       "[1, 2, 3, 4, 5, 6, 7, 8, 9, 10]"
      ]
     },
     "execution_count": 16,
     "metadata": {},
     "output_type": "execute_result"
    }
   ],
   "source": [
    "# 5. Remove an element from a list by its value.\n",
    "l4 = [1,2,3,4,5,6,11,7,8,9,10]\n",
    "l4.remove(11)\n",
    "l4"
   ]
  },
  {
   "cell_type": "code",
   "execution_count": 17,
   "id": "8340faf6-8e2a-49e7-96e5-ada72195a7e6",
   "metadata": {},
   "outputs": [
    {
     "data": {
      "text/plain": [
       "[1, 2, 3, 4, 5, 6, 7, 8, 9, 10]"
      ]
     },
     "execution_count": 17,
     "metadata": {},
     "output_type": "execute_result"
    }
   ],
   "source": [
    "# 6. Remove an element from a list by its index.\n",
    "l5 = [1,2,3,4,5,6,7,8,8,9,10]\n",
    "l5.pop(8)\n",
    "l5"
   ]
  },
  {
   "cell_type": "code",
   "execution_count": 20,
   "id": "9e0e0cf9-f8bd-4915-9a23-3b65fcb53b3c",
   "metadata": {},
   "outputs": [
    {
     "name": "stdin",
     "output_type": "stream",
     "text": [
      "Enter the element: 5\n"
     ]
    },
    {
     "name": "stdout",
     "output_type": "stream",
     "text": [
      "Yes the element exist in the list.\n"
     ]
    }
   ],
   "source": [
    "# 7. Check if an element exists in a list.\n",
    "l6 = [1,2,3,4,5,6,7,8,9,10]\n",
    "el = int(input(\"Enter the element:\"))\n",
    "if el in l6:\n",
    "    print(\"Yes the element exist in the list.\")\n",
    "else:\n",
    "    print(\"No the element does not exist in the list.\")"
   ]
  },
  {
   "cell_type": "code",
   "execution_count": 25,
   "id": "5e83ac8e-28e6-4c71-8b03-9b9ce6b872ab",
   "metadata": {},
   "outputs": [
    {
     "name": "stdin",
     "output_type": "stream",
     "text": [
      "Enter the element: 5\n"
     ]
    },
    {
     "name": "stdout",
     "output_type": "stream",
     "text": [
      "4\n"
     ]
    }
   ],
   "source": [
    "# 8. Find the index of the first occurrence of an element in a list.\n",
    "l7 = [1,2,3,4,5,5,6,7,8,5]\n",
    "ele = int(input(\"Enter the element:\"))\n",
    "print(l7.index(ele))"
   ]
  },
  {
   "cell_type": "code",
   "execution_count": 30,
   "id": "312d1b83-5aa8-490c-9474-8b15fc58fd9e",
   "metadata": {},
   "outputs": [
    {
     "name": "stdin",
     "output_type": "stream",
     "text": [
      "Element to search: 2\n"
     ]
    },
    {
     "name": "stdout",
     "output_type": "stream",
     "text": [
      "Total number of occurance of the element '2' is: 3\n"
     ]
    }
   ],
   "source": [
    "# 9. Count the occurrences of an element in a list.\n",
    "l8 = [1,2,3,4,3,2,3,4,5,6,7,8,8,8,8,6,5,4,3,3,3,2,5,3,4,5,6,3]\n",
    "elm = int(input(\"Element to search:\"))\n",
    "count = 0\n",
    "for i in l8:\n",
    "    if elm == i:\n",
    "        count += 1\n",
    "print(\"Total number of occurance of the element '{}' is:\".format(elm), count)"
   ]
  },
  {
   "cell_type": "code",
   "execution_count": 33,
   "id": "c1890e90-7cf7-445b-a42b-222bfa6b6700",
   "metadata": {},
   "outputs": [
    {
     "name": "stdout",
     "output_type": "stream",
     "text": [
      "reverse list:  [10, 9, 8, 7, 6, 5, 2, 3, 4, 5, 5, 4, 3, 2, 1]\n"
     ]
    }
   ],
   "source": [
    "# 10. Reverse the order of elements in a list.\n",
    "l9 = [1,2,3,4,5,5,4,3,2,5,6,7,8,9,10]\n",
    "print(\"reverse list: \", l9[::-1])"
   ]
  },
  {
   "cell_type": "code",
   "execution_count": 37,
   "id": "68baa7ea-1242-4488-9984-03470d4619e5",
   "metadata": {},
   "outputs": [
    {
     "name": "stdout",
     "output_type": "stream",
     "text": [
      "[1, 2, 3, 4, 5, 6, 7, 8, 9]\n"
     ]
    }
   ],
   "source": [
    "# 11. Sort a list in ascending order.\n",
    "l10 = [3,6,5,2,4,1,7,9,8]\n",
    "l10.sort()\n",
    "print(l10)"
   ]
  },
  {
   "cell_type": "code",
   "execution_count": 40,
   "id": "49448d9a-5626-4a4f-b1bc-4bdc36ab9463",
   "metadata": {},
   "outputs": [
    {
     "name": "stdout",
     "output_type": "stream",
     "text": [
      "[89, 76, 64, 54, 32, 27, 12]\n"
     ]
    }
   ],
   "source": [
    "# 12. Sort a list in descending order.\n",
    "l11 = [12,32,54,76,89,27,64]\n",
    "l11.sort()\n",
    "print(l11[::-1])"
   ]
  },
  {
   "cell_type": "code",
   "execution_count": 42,
   "id": "e5fe3e31-c294-4bb3-b13b-9c07f3d3f6f2",
   "metadata": {},
   "outputs": [
    {
     "name": "stdout",
     "output_type": "stream",
     "text": [
      "[2, 4, 6, 8, 10, 12, 14, 16, 18, 20]\n"
     ]
    }
   ],
   "source": [
    "# 13. Create a list of even numbers from 1 to 20.\n",
    "l12 = list(range(1,21))\n",
    "l13 = []\n",
    "for i in l12:\n",
    "    if i%2==0:\n",
    "        l13.append(i)\n",
    "print(l13)"
   ]
  },
  {
   "cell_type": "code",
   "execution_count": 43,
   "id": "6487a15a-30aa-4cfe-a4a0-a69a318b845a",
   "metadata": {},
   "outputs": [
    {
     "name": "stdout",
     "output_type": "stream",
     "text": [
      "[1, 3, 5, 7, 9, 11, 13, 15, 17, 19]\n"
     ]
    }
   ],
   "source": [
    "# 14. Create a list of odd numbers from 1 to 20.\n",
    "l14 = list(range(1,21))\n",
    "l15 = []\n",
    "for i in l14:\n",
    "    if i%2!=0:\n",
    "        l15.append(i)\n",
    "print(l15)"
   ]
  },
  {
   "cell_type": "code",
   "execution_count": 45,
   "id": "d4146ae4-ae9d-45aa-ab74-b094faea10a6",
   "metadata": {},
   "outputs": [
    {
     "name": "stdout",
     "output_type": "stream",
     "text": [
      "155\n"
     ]
    }
   ],
   "source": [
    "# 15. Find the sum of all elements in a list.\n",
    "l16 = [1,3,65,3,4,56,23]\n",
    "sum_ele = 0\n",
    "for i in l16:\n",
    "    sum_ele = i+sum_ele\n",
    "print(sum_ele)"
   ]
  },
  {
   "cell_type": "code",
   "execution_count": 60,
   "id": "7b389591-1bad-40ef-8146-0f631d583c61",
   "metadata": {},
   "outputs": [
    {
     "name": "stdout",
     "output_type": "stream",
     "text": [
      "3331\n"
     ]
    }
   ],
   "source": [
    "# 16. Find the maximum value in a list.\n",
    "l17 = [24,65,278,756,2441,3331]\n",
    "l17.sort()\n",
    "print(l17[-1])"
   ]
  },
  {
   "cell_type": "code",
   "execution_count": 62,
   "id": "0497ab17-6cc6-42a4-9d31-f6b27ea03840",
   "metadata": {},
   "outputs": [
    {
     "name": "stdout",
     "output_type": "stream",
     "text": [
      "-244\n"
     ]
    }
   ],
   "source": [
    "# 17. Find the minimum value in a list.\n",
    "l18 = [1,-244,65,278,756,2441,31]\n",
    "l18.sort()\n",
    "print(l18[0])"
   ]
  },
  {
   "cell_type": "code",
   "execution_count": 63,
   "id": "41846e61-df9e-4ac6-9ef1-fd6ca4330ea5",
   "metadata": {},
   "outputs": [
    {
     "name": "stdout",
     "output_type": "stream",
     "text": [
      "[1, 4, 9, 16, 25, 36, 49, 64, 81, 100]\n"
     ]
    }
   ],
   "source": [
    "# 18. Create a list of squares of numbers from 1 to 10.\n",
    "l19 = list(range(1,11))\n",
    "l_sq = []\n",
    "for i in l19:\n",
    "    l_sq.append(i**2)\n",
    "print(l_sq)"
   ]
  },
  {
   "cell_type": "code",
   "execution_count": 66,
   "id": "e28a7cab-7fde-417f-8460-d0d23adcabdc",
   "metadata": {},
   "outputs": [
    {
     "name": "stdout",
     "output_type": "stream",
     "text": [
      "Random number list is : [2101, 336, 525, 4522, 4458, 2529, 1581, 4720, 1193, 2178]\n"
     ]
    }
   ],
   "source": [
    "# 19. Create a list of random numbers.\n",
    "import random\n",
    "res = random.sample(range(1, 5000), 10)\n",
    "print (\"Random number list is : \" +  str(res))"
   ]
  },
  {
   "cell_type": "code",
   "execution_count": 70,
   "id": "23cbb840-8645-470f-ac03-6561c45dd67a",
   "metadata": {},
   "outputs": [
    {
     "name": "stdout",
     "output_type": "stream",
     "text": [
      "[1, 2, 3, 4, 5, 6, 7, 67, 76, 54, 56]\n"
     ]
    }
   ],
   "source": [
    "# 20. Remove duplicates from a list.\n",
    "l20 = [1,2,3,3,2,2,2,3,4,5,6,7,7,7,76,5,54,56,67,7,5,4,4,3]\n",
    "print(list(set(l20)))"
   ]
  },
  {
   "cell_type": "code",
   "execution_count": 73,
   "id": "779ae446-abf9-4f3a-a74f-062931f05e95",
   "metadata": {},
   "outputs": [
    {
     "name": "stdout",
     "output_type": "stream",
     "text": [
      "[1, 4, 5, 8]\n"
     ]
    }
   ],
   "source": [
    "# 21. Find the common elements between two lists.\n",
    "l21 = [1,2,3,4,5,8]\n",
    "l22 = [4,5,6,7,8,1]\n",
    "l23 = []\n",
    "for i in l21:\n",
    "    if i in l22:\n",
    "        l23.append(i)\n",
    "print(l23)"
   ]
  },
  {
   "cell_type": "code",
   "execution_count": 81,
   "id": "f082619c-7e7e-4dcc-97aa-188ab27f1121",
   "metadata": {},
   "outputs": [
    {
     "name": "stdout",
     "output_type": "stream",
     "text": [
      "[1, 2, 3, 6, 7, 9]\n"
     ]
    }
   ],
   "source": [
    "# 22. Find the difference between two lists.\n",
    "l24 = [1,2,3,4,5,8]\n",
    "l25 = [4,5,6,7,8,9]\n",
    "l26 = [i for i in l24 if i not in l25]\n",
    "l26.extend(i for i in l25 if i not in l24)\n",
    "print(l26)"
   ]
  },
  {
   "cell_type": "code",
   "execution_count": 86,
   "id": "2c7534bb-076a-4228-a542-47c576d86157",
   "metadata": {},
   "outputs": [
    {
     "name": "stdout",
     "output_type": "stream",
     "text": [
      "Merged list: [1, 2, 3, 4, 5, 6, 7, 8]\n"
     ]
    }
   ],
   "source": [
    "# 23. Merge two lists.\n",
    "l27 = [1,2,3,4]\n",
    "l28 = [5,6,7,8]\n",
    "l27.extend(l28)\n",
    "print(\"Merged list:\", l27)"
   ]
  },
  {
   "cell_type": "code",
   "execution_count": 87,
   "id": "354da0a4-8ca0-4e66-bc9d-f8c790f527e6",
   "metadata": {},
   "outputs": [
    {
     "name": "stdout",
     "output_type": "stream",
     "text": [
      "[2, 4, 6, 8, 10]\n"
     ]
    }
   ],
   "source": [
    "# 24. Multiply all elements in a list by 2.\n",
    "l29 = [1,2,3,4,5]\n",
    "l_multi = []\n",
    "for i in l29:\n",
    "    l_multi.append(i*2)\n",
    "print(l_multi)"
   ]
  },
  {
   "cell_type": "code",
   "execution_count": 88,
   "id": "bfbf3a72-9e3c-427c-bcc5-d501d18180a0",
   "metadata": {},
   "outputs": [
    {
     "data": {
      "text/plain": [
       "[2, 4, 6, 8, 10]"
      ]
     },
     "execution_count": 88,
     "metadata": {},
     "output_type": "execute_result"
    }
   ],
   "source": [
    "# 25. Filter out all even numbers from a list.\n",
    "l30 = [1,2,3,4,5,6,7,8,9,10]\n",
    "even_list = [i for i in l30 if i%2 == 0]\n",
    "even_list"
   ]
  },
  {
   "cell_type": "code",
   "execution_count": 90,
   "id": "464ab069-b6e6-41f8-a261-a02cba00f2c8",
   "metadata": {},
   "outputs": [
    {
     "data": {
      "text/plain": [
       "[-3, 23, 5, 9, 6]"
      ]
     },
     "execution_count": 90,
     "metadata": {},
     "output_type": "execute_result"
    }
   ],
   "source": [
    "# 26. Convert a list of strings to a list of integers.\n",
    "l31 = [\"-3\",\"23\",\"5\",\"9\",\"6\"]\n",
    "l_int = [eval(i) for i in l31]\n",
    "l_int"
   ]
  },
  {
   "cell_type": "code",
   "execution_count": 96,
   "id": "41e054b8-3bd4-4e59-91bb-0503e1d06626",
   "metadata": {},
   "outputs": [
    {
     "name": "stdout",
     "output_type": "stream",
     "text": [
      "['1', '2', '3', '4', '5']\n"
     ]
    }
   ],
   "source": [
    "# 27. Convert a list of integers to a list of strings.\n",
    "l32 = [1,2,3,4,5]\n",
    "l_string = map(str, l32)\n",
    "print(list(l_string))"
   ]
  },
  {
   "cell_type": "code",
   "execution_count": 126,
   "id": "6783e891-02c6-41d2-9760-c0fcdf52c70c",
   "metadata": {},
   "outputs": [
    {
     "data": {
      "text/plain": [
       "[1, 2, 3, 4, 5, 6, 7, 8, 9, 10, 11, 12]"
      ]
     },
     "execution_count": 126,
     "metadata": {},
     "output_type": "execute_result"
    }
   ],
   "source": [
    "# 28. Flatten a nested list.\n",
    "l33 = [[1,2,3],[4,5,6],[7,8,9],[10,[11,12]]]\n",
    "output = []\n",
    "def remove_nestings(l):\n",
    "    for i in l:\n",
    "        if type(i) == list:\n",
    "            remove_nestings(i)\n",
    "        else:\n",
    "            output.append(i)\n",
    "    return output\n",
    "remove_nestings(l33)"
   ]
  },
  {
   "cell_type": "code",
   "execution_count": 70,
   "id": "f1644385-42bb-4c57-99fc-93dadd103b91",
   "metadata": {},
   "outputs": [
    {
     "name": "stdout",
     "output_type": "stream",
     "text": [
      "[0, 1, 1, 2, 3, 5, 8, 13, 21, 34, 55]\n"
     ]
    }
   ],
   "source": [
    "# 29. Create a list of the first 10 Fibonacci numbers.\n",
    "fibonacci_list = []\n",
    "a, b = 0, 1\n",
    "for i in range((10)+1):\n",
    "    fibonacci_list.append(a)\n",
    "    a, b = b, a + b\n",
    "print(fibonacci_list)"
   ]
  },
  {
   "cell_type": "code",
   "execution_count": 152,
   "id": "82ece058-8cb3-4c51-8f7f-877a4a9cb577",
   "metadata": {},
   "outputs": [
    {
     "name": "stdout",
     "output_type": "stream",
     "text": [
      "No the list is not sorted\n",
      "[1, 2, 3, 4, 5, 1]\n"
     ]
    }
   ],
   "source": [
    "# 30. Check if a list is sorted.\n",
    "l34 = [1,2,3,4,5,1]\n",
    "if l34 == sorted(l34):\n",
    "    print(\"Yes the list is sorted\")\n",
    "else:\n",
    "    print(\"No the list is not sorted\")\n",
    "print(l34)"
   ]
  },
  {
   "cell_type": "code",
   "execution_count": 160,
   "id": "e949aef7-7d15-4eca-bfa3-a94bf405c54d",
   "metadata": {},
   "outputs": [
    {
     "name": "stdin",
     "output_type": "stream",
     "text": [
      "Enter the shift: 3\n"
     ]
    },
    {
     "data": {
      "text/plain": [
       "[4, 5, 1, 2, 3]"
      ]
     },
     "execution_count": 160,
     "metadata": {},
     "output_type": "execute_result"
    }
   ],
   "source": [
    "# 31. Rotate a list to the left by `n` positions.\n",
    "l_r = [1,2,3,4,5]\n",
    "n = int(input(\"Enter the shift:\"))\n",
    "l_rotate = l_r[n:]+l_r[:n]\n",
    "l_rotate"
   ]
  },
  {
   "cell_type": "code",
   "execution_count": 162,
   "id": "0f903858-ff88-44e1-8401-12666f512c14",
   "metadata": {},
   "outputs": [
    {
     "name": "stdin",
     "output_type": "stream",
     "text": [
      "Enter the shift: 3\n"
     ]
    },
    {
     "data": {
      "text/plain": [
       "[3, 4, 5, 1, 2]"
      ]
     },
     "execution_count": 162,
     "metadata": {},
     "output_type": "execute_result"
    }
   ],
   "source": [
    "# 32. Rotate a list to the right by `n` positions.\n",
    "l_ro = [1,2,3,4,5]\n",
    "n = int(input(\"Enter the shift:\"))\n",
    "l_rot = l_r[-n:]+l_r[:-n]\n",
    "l_rot"
   ]
  },
  {
   "cell_type": "code",
   "execution_count": 165,
   "id": "440c337a-535b-40fb-b302-ee8fbdb3f628",
   "metadata": {},
   "outputs": [
    {
     "data": {
      "text/plain": [
       "[2, 3, 5, 7, 11, 13, 17, 19, 23, 29, 31, 37, 41, 43, 47]"
      ]
     },
     "execution_count": 165,
     "metadata": {},
     "output_type": "execute_result"
    }
   ],
   "source": [
    "# 33. Create a list of prime numbers up to 50.\n",
    "def prime(x, y):\n",
    "    prime_list = []\n",
    "    for i in range(x, y):\n",
    "        if i == 0 or i == 1:\n",
    "            continue\n",
    "        else:\n",
    "            for j in range(2, int(i/2)+1):\n",
    "                if i % j == 0:\n",
    "                    break\n",
    "            else:\n",
    "                prime_list.append(i)\n",
    "    return prime_list\n",
    "prime(1,51)"
   ]
  },
  {
   "cell_type": "code",
   "execution_count": 168,
   "id": "622a72aa-005f-42cd-85ae-3608b85fe367",
   "metadata": {},
   "outputs": [
    {
     "name": "stdin",
     "output_type": "stream",
     "text": [
      "Enter step: 3\n"
     ]
    },
    {
     "name": "stdout",
     "output_type": "stream",
     "text": [
      "[1, 2, 3]\n",
      "[4, 5, 6]\n",
      "[7, 8, 9]\n"
     ]
    }
   ],
   "source": [
    "# 34. Split a list into chunks of size `n`.\n",
    "l_full = [1,2,3,4,5,6,7,8,9]\n",
    "start = 0\n",
    "end = len(l_full)\n",
    "step = int(input(\"Enter step:\"))\n",
    "for i in range(start, end, step):\n",
    "    x = i\n",
    "    print(l_full[x:x+step])\n",
    "    "
   ]
  },
  {
   "cell_type": "code",
   "execution_count": 170,
   "id": "8f2a972d-46f4-42f4-81b0-462f90d68e07",
   "metadata": {},
   "outputs": [
    {
     "name": "stdout",
     "output_type": "stream",
     "text": [
      "Second largest number in the list is:  5\n"
     ]
    }
   ],
   "source": [
    "# 35. Find the second largest number in a list.\n",
    "l35 = [1,2,3,44,5]\n",
    "l35.sort()\n",
    "print(\"Second largest number in the list is: \",l35[-2])"
   ]
  },
  {
   "cell_type": "code",
   "execution_count": 196,
   "id": "0c5aac4c-04d0-43f4-8a3b-a31525200183",
   "metadata": {},
   "outputs": [
    {
     "name": "stdout",
     "output_type": "stream",
     "text": [
      "[1, 4, 9, 16, 25, 81]\n"
     ]
    }
   ],
   "source": [
    "# 36. Replace every element in a list with its square.\n",
    "def square_list(list1):\n",
    "    for i in range(len(list1)):\n",
    "        list1[i] = list1[i]**2\n",
    "    print(list1)\n",
    "\n",
    "l36 = [1,2,3,4,5,9]\n",
    "square_list(l36)"
   ]
  },
  {
   "cell_type": "code",
   "execution_count": 26,
   "id": "f518e6a1-afb3-4e45-8f0b-69cc37d5b911",
   "metadata": {},
   "outputs": [
    {
     "data": {
      "text/plain": [
       "{0: 1, 1: 3, 2: 6, 3: 7, 4: 9, 5: 2}"
      ]
     },
     "execution_count": 26,
     "metadata": {},
     "output_type": "execute_result"
    }
   ],
   "source": [
    "# 37. Convert a list to a dictionary where list elements become keys and their indices become values.\n",
    "def dict_l(x):\n",
    "    dic_l = {}\n",
    "    for i in range(len(x)):\n",
    "        dic_l[i] = x[i]\n",
    "    return dic_l\n",
    "x = [1,3,6,7,9,2]\n",
    "dict_l(x)"
   ]
  },
  {
   "cell_type": "code",
   "execution_count": 33,
   "id": "5ed82139-abfb-4a04-8b11-9c6187cdc896",
   "metadata": {},
   "outputs": [
    {
     "name": "stdout",
     "output_type": "stream",
     "text": [
      "Original list: [1, 2, 3, 4, 5, 6, 7, 8, 9, 10]\n",
      "Shuffled list: [3, 10, 7, 9, 8, 4, 2, 5, 6, 1]\n"
     ]
    }
   ],
   "source": [
    "# 38. Shuffle the elements of a list randomly.\n",
    "import random\n",
    " \n",
    "my_list = [1,2,3,4,5,6,7,8,9,10]\n",
    " \n",
    "shuffled_list = sorted(my_list, key = lambda x: random.random())\n",
    " \n",
    "print(\"Original list:\", my_list)\n",
    "print(\"Shuffled list:\", shuffled_list)"
   ]
  },
  {
   "cell_type": "code",
   "execution_count": 37,
   "id": "377abf37-a0a1-4d9b-a48d-89b8add07688",
   "metadata": {},
   "outputs": [
    {
     "name": "stdout",
     "output_type": "stream",
     "text": [
      "[1, 2, 6, 24, 120, 720, 5040, 40320, 362880, 3628800]\n"
     ]
    }
   ],
   "source": [
    "# 39. Create a list of the first 10 factorial numbers.\n",
    "def factorial(n):\n",
    "    if n == 0:\n",
    "        return 1\n",
    "    result = 1\n",
    "    for i in range(1, n + 1):\n",
    "        result *= i\n",
    "    return result\n",
    "\n",
    "factorial_numbers = [factorial(n) for n in range(1, 11)]\n",
    "print(factorial_numbers)"
   ]
  },
  {
   "cell_type": "code",
   "execution_count": 71,
   "id": "ad732e2a-50b5-442c-8f84-4c2817530aeb",
   "metadata": {},
   "outputs": [
    {
     "name": "stdout",
     "output_type": "stream",
     "text": [
      "Yes there are common elements in these lists.\n"
     ]
    }
   ],
   "source": [
    "# 40. Check if two lists have at least one element in common.\n",
    "l37 = [1,2,3,4,5]\n",
    "l38 = [6,7,8,1]\n",
    "result = False\n",
    "for i in l37:\n",
    "    if i in l38:\n",
    "        result = True\n",
    "for i in l38:\n",
    "    if i in l37:\n",
    "        result =  True\n",
    "if result == True:\n",
    "    print(\"Yes there are common elements in these lists.\")\n",
    "else:\n",
    "    print(\"No there are no common elements in these lists.\")\n"
   ]
  },
  {
   "cell_type": "code",
   "execution_count": 72,
   "id": "9ca35dcd-7f52-4fed-8b52-a8a26b572c02",
   "metadata": {},
   "outputs": [
    {
     "data": {
      "text/plain": [
       "[]"
      ]
     },
     "execution_count": 72,
     "metadata": {},
     "output_type": "execute_result"
    }
   ],
   "source": [
    "# 41. Remove all elements from a list.\n",
    "l39 = [1,2,3,4,5]\n",
    "l39.clear()\n",
    "l39"
   ]
  },
  {
   "cell_type": "code",
   "execution_count": 77,
   "id": "63c7cbc8-20db-4b74-bf38-6a6f823c3e94",
   "metadata": {},
   "outputs": [
    {
     "name": "stdout",
     "output_type": "stream",
     "text": [
      "[10, 0, 30, 0, 50, 0]\n"
     ]
    }
   ],
   "source": [
    "# 42. Replace negative numbers in a list with 0.\n",
    "l40 = [10,-20,30,-40,50,-60]\n",
    "for i in range(len(l40)):\n",
    "    if l40[i]<0:\n",
    "        l40[i] = 0\n",
    "print(l40)"
   ]
  },
  {
   "cell_type": "code",
   "execution_count": 79,
   "id": "a7d02526-c34a-42dd-9cb4-0c7be7e01d53",
   "metadata": {},
   "outputs": [
    {
     "data": {
      "text/plain": [
       "['These', 'cats', 'are', 'so', 'furry.']"
      ]
     },
     "execution_count": 79,
     "metadata": {},
     "output_type": "execute_result"
    }
   ],
   "source": [
    "# 43. Convert a string into a list of words.\n",
    "string_wrd = \"These cats are so furry.\"\n",
    "lst_wrd = list(string_wrd.split(\" \"))\n",
    "lst_wrd"
   ]
  },
  {
   "cell_type": "code",
   "execution_count": 81,
   "id": "e190bfe5-27e8-4be7-b568-b9ed519d83be",
   "metadata": {},
   "outputs": [
    {
     "data": {
      "text/plain": [
       "'These cats are so furry.'"
      ]
     },
     "execution_count": 81,
     "metadata": {},
     "output_type": "execute_result"
    }
   ],
   "source": [
    "# 44. Convert a list of words into a string.\n",
    "lst_word = ['These', 'cats', 'are', 'so', 'furry.']\n",
    "string_word = \" \".join(lst_word)\n",
    "string_word"
   ]
  },
  {
   "cell_type": "code",
   "execution_count": 87,
   "id": "227f6558-86b4-4faf-a58d-ffd90fbf3eb1",
   "metadata": {},
   "outputs": [
    {
     "name": "stdin",
     "output_type": "stream",
     "text": [
      "Enter the power: 8\n"
     ]
    },
    {
     "data": {
      "text/plain": [
       "[1, 2, 4, 8, 16, 32, 64, 128, 256]"
      ]
     },
     "execution_count": 87,
     "metadata": {},
     "output_type": "execute_result"
    }
   ],
   "source": [
    "# 45. Create a list of the first `n` powers of 2.\n",
    "def lis_n(n):\n",
    "    list_n =[]\n",
    "    for i in range(0, n+1):\n",
    "        list_n.append(2**i)\n",
    "    return list_n\n",
    "number_power = int(input(\"Enter the power:\"))\n",
    "lis_n(number_power)"
   ]
  },
  {
   "cell_type": "code",
   "execution_count": 4,
   "id": "705829a6-c4bb-4bd9-b022-69a12d4b9ad5",
   "metadata": {},
   "outputs": [
    {
     "name": "stdout",
     "output_type": "stream",
     "text": [
      "The longest string in the list is:  recent\n"
     ]
    }
   ],
   "source": [
    "# 46. Find the longest string in a list of strings.\n",
    "l_long = [\"This\",\"is\",\"most\",\"recent\"]\n",
    "r = max(l_long, key =len)\n",
    "print(\"The longest string in the list is: \", r)"
   ]
  },
  {
   "cell_type": "code",
   "execution_count": 5,
   "id": "8b174b91-06df-4675-b4a3-e982a8a7c804",
   "metadata": {},
   "outputs": [
    {
     "name": "stdout",
     "output_type": "stream",
     "text": [
      "The shortest string in the list is:  is\n"
     ]
    }
   ],
   "source": [
    "# 47. Find the shortest string in a list of strings.\n",
    "l_short = [\"This\",\"is\",\"most\",\"recent\"]\n",
    "r = min(l_short, key =len)\n",
    "print(\"The shortest string in the list is: \", r)"
   ]
  },
  {
   "cell_type": "code",
   "execution_count": 14,
   "id": "401e0985-8237-44c0-a771-55dbb3e0800e",
   "metadata": {},
   "outputs": [
    {
     "name": "stdin",
     "output_type": "stream",
     "text": [
      "Enter the number: 5\n"
     ]
    },
    {
     "name": "stdout",
     "output_type": "stream",
     "text": [
      "1 3 6 10 15 "
     ]
    }
   ],
   "source": [
    "# 48. Create a list of the first `n` triangular numbers.\n",
    "\n",
    "def triangular_series( n ):\n",
    "    for i in range(1, n + 1):\n",
    "         print( i*(i+1)//2,end=' ')\n",
    "n = int(input(\"Enter the number:\"))\n",
    "triangular_series(n)"
   ]
  },
  {
   "cell_type": "code",
   "execution_count": 38,
   "id": "3a16c842-50ec-4717-98e9-c7a4a35871b9",
   "metadata": {},
   "outputs": [
    {
     "name": "stdout",
     "output_type": "stream",
     "text": [
      "The list contains a another list as a subsequence\n"
     ]
    }
   ],
   "source": [
    "# 49. Check if a list contains another list as a subsequence.\n",
    "list_sub = [1,2,3,[4,5,6],7,8,9]\n",
    "for i in list_sub:\n",
    "    if type(i)==list:\n",
    "        print(\"The list contains a another list as a subsequence\")"
   ]
  },
  {
   "cell_type": "code",
   "execution_count": 42,
   "id": "d8e00953-4103-44b2-8227-fa0b33bc0b45",
   "metadata": {},
   "outputs": [
    {
     "name": "stdin",
     "output_type": "stream",
     "text": [
      "Enter first idex: 0\n",
      "Enter second idex: 4\n"
     ]
    },
    {
     "data": {
      "text/plain": [
       "[5, 2, 3, 4, 1, 6]"
      ]
     },
     "execution_count": 42,
     "metadata": {},
     "output_type": "execute_result"
    }
   ],
   "source": [
    "# 50. Swap two elements in a list by their indices.\n",
    "\n",
    "def swap(l_swap, l_1_index, l_2_index):\n",
    "    l_swap[l_1_index], l_swap[l_2_index] = l_swap[l_2_index], l_swap[l_1_index]\n",
    "    return l_swap\n",
    "l_swap = [1,2,3,4,5,6]\n",
    "l_1_index = int(input(\"Enter first idex:\"))\n",
    "l_2_index = int(input(\"Enter second idex:\"))\n",
    "swap(l_swap, l_1_index, l_2_index)"
   ]
  },
  {
   "cell_type": "markdown",
   "id": "3b4f0118-4040-47a6-a942-72b88353a713",
   "metadata": {},
   "source": [
    "# 3. Tuple Based Practice Problem"
   ]
  },
  {
   "cell_type": "code",
   "execution_count": 43,
   "id": "975adc1d-75fe-494d-8950-36c95523c95b",
   "metadata": {},
   "outputs": [
    {
     "data": {
      "text/plain": [
       "(1, 2, 3, 4, 5)"
      ]
     },
     "execution_count": 43,
     "metadata": {},
     "output_type": "execute_result"
    }
   ],
   "source": [
    "# 1. Create a tuple with integers from 1 to 5.\n",
    "t1 = tuple(range(1,6))\n",
    "t1"
   ]
  },
  {
   "cell_type": "code",
   "execution_count": 46,
   "id": "be32ff19-1942-4d53-816d-57fd29e0aedf",
   "metadata": {},
   "outputs": [
    {
     "name": "stdout",
     "output_type": "stream",
     "text": [
      "Third element in tuple is:  3\n"
     ]
    }
   ],
   "source": [
    "# 2. Access the third element of a tuple.\n",
    "t2 = (1,2,3,4,5,6)\n",
    "print(\"Third element in tuple is: \", t2[2])"
   ]
  },
  {
   "cell_type": "code",
   "execution_count": 3,
   "id": "fbdbaec7-fab4-4856-987e-cfba27569783",
   "metadata": {},
   "outputs": [
    {
     "name": "stdout",
     "output_type": "stream",
     "text": [
      "5\n"
     ]
    }
   ],
   "source": [
    "# 3. Find the length of a tuple without using the `len()` function.\n",
    "t_length = (1,2,3,4,5)\n",
    "length = 0\n",
    "for i in t_length:\n",
    "    length += 1\n",
    "print(length)"
   ]
  },
  {
   "cell_type": "code",
   "execution_count": 10,
   "id": "3a56de1c-cd88-458b-8e24-92dbb3699eb4",
   "metadata": {},
   "outputs": [
    {
     "name": "stdin",
     "output_type": "stream",
     "text": [
      "Enter the number:  2\n"
     ]
    },
    {
     "name": "stdout",
     "output_type": "stream",
     "text": [
      "Number of occurence for '2' in tuple is: 6\n"
     ]
    }
   ],
   "source": [
    "# 4. Count the occurrences of an element in a tuple.\n",
    "t_occ = (1,2,3,2,3,22,2,2,24,5,6,4,2,2)\n",
    "occurence = int(input(\"Enter the number: \"))\n",
    "print(\"Number of occurence for '{}' in tuple is:\".format(occurence),t_occ.count(occurence))\n"
   ]
  },
  {
   "cell_type": "code",
   "execution_count": 16,
   "id": "4b3fd027-e838-4379-b9bd-7af3923ee8c7",
   "metadata": {},
   "outputs": [
    {
     "name": "stdin",
     "output_type": "stream",
     "text": [
      "Enter the element: 7\n"
     ]
    },
    {
     "name": "stdout",
     "output_type": "stream",
     "text": [
      "First occurence of element '7' in tuple is:  6\n"
     ]
    }
   ],
   "source": [
    "# 5. Find the index of the first occurrence of an element in a tuple.\n",
    "t_ind = (1,2,2,3,4,5,7,2,9,3,4,7,5,9,8)\n",
    "num_ind = int(input(\"Enter the element:\"))\n",
    "print(f\"First occurence of element '{num_ind}' in tuple is: \", t_ind.index(num_ind))"
   ]
  },
  {
   "cell_type": "code",
   "execution_count": 23,
   "id": "9d7932ae-28af-4549-b8e1-acc3bc679aff",
   "metadata": {},
   "outputs": [
    {
     "name": "stdin",
     "output_type": "stream",
     "text": [
      "Enter the element to find: 6\n"
     ]
    },
    {
     "name": "stdout",
     "output_type": "stream",
     "text": [
      "The element does not exist in the tuple.\n"
     ]
    }
   ],
   "source": [
    "# 6. Check if an element exists in a tuple.\n",
    "t3 = (1,2,3,4,5)\n",
    "fin_ele = int(input(\"Enter the element to find:\"))\n",
    "if fin_ele in t3:\n",
    "    print(\"The element exists in the tuple.\")\n",
    "else:\n",
    "    print(\"The element does not exist in the tuple.\")"
   ]
  },
  {
   "cell_type": "code",
   "execution_count": 24,
   "id": "fb26b714-86cc-49fe-b58a-9ea703232897",
   "metadata": {},
   "outputs": [
    {
     "name": "stdout",
     "output_type": "stream",
     "text": [
      "[1, 2, 3, 4, 5]\n"
     ]
    }
   ],
   "source": [
    "# 7. Convert a tuple to a list.\n",
    "t4 = (1,2,3,4,5)\n",
    "print(list(t4))"
   ]
  },
  {
   "cell_type": "code",
   "execution_count": 25,
   "id": "375c8e4a-874d-4faa-a681-99bb7abb5ea2",
   "metadata": {},
   "outputs": [
    {
     "name": "stdout",
     "output_type": "stream",
     "text": [
      "(1, 2, 3, 4, 5)\n"
     ]
    }
   ],
   "source": [
    "# 8. Convert a list to a tuple.\n",
    "l_tup = [1, 2, 3, 4, 5]\n",
    "print(tuple(l_tup))"
   ]
  },
  {
   "cell_type": "code",
   "execution_count": 32,
   "id": "0a9d34ef-7f8f-4121-8322-cd648291871b",
   "metadata": {},
   "outputs": [
    {
     "name": "stdout",
     "output_type": "stream",
     "text": [
      "GTU\n",
      "50\n",
      "5000\n"
     ]
    }
   ],
   "source": [
    "# 9. Unpack the elements of a tuple into variables.\n",
    "university = (\"GTU\", 50 ,5000)\n",
    "(Name, Colleges_affiliated, Number_of_students) = university\n",
    "print(Name)\n",
    "print(Colleges_affiliated)\n",
    "print(Number_of_students)"
   ]
  },
  {
   "cell_type": "code",
   "execution_count": 35,
   "id": "44244e88-c970-40f7-ae13-cb9118053177",
   "metadata": {},
   "outputs": [
    {
     "name": "stdout",
     "output_type": "stream",
     "text": [
      "(2, 4, 6, 8, 10)\n"
     ]
    }
   ],
   "source": [
    "# 10. Create a tuple of even numbers from 1 to 10.\n",
    "t5 = tuple(i for i in range(1,11) if i%2 == 0)\n",
    "print(t5)"
   ]
  },
  {
   "cell_type": "code",
   "execution_count": 36,
   "id": "ae539f96-28c9-4e6b-8755-0766b8d9a3d6",
   "metadata": {},
   "outputs": [
    {
     "name": "stdout",
     "output_type": "stream",
     "text": [
      "(1, 3, 5, 7, 9)\n"
     ]
    }
   ],
   "source": [
    "# 11. Create a tuple of odd numbers from 1 to 10.\n",
    "t6 = tuple(i for i in range(1,11) if i%2 != 0)\n",
    "print(t6)"
   ]
  },
  {
   "cell_type": "code",
   "execution_count": 39,
   "id": "a900cfe4-5ac6-47c8-90af-00a8b5226a16",
   "metadata": {},
   "outputs": [
    {
     "name": "stdout",
     "output_type": "stream",
     "text": [
      "Concatenated tuple is: (1, 2, 3, 4, 5)\n"
     ]
    }
   ],
   "source": [
    "# 12. Concatenate two tuples.\n",
    "t7 = (1,2,3)\n",
    "t8 = (4,5)\n",
    "print(\"Concatenated tuple is:\", t7+t8)"
   ]
  },
  {
   "cell_type": "code",
   "execution_count": 44,
   "id": "0f1cb110-26a1-4772-b90c-71d0e0754570",
   "metadata": {},
   "outputs": [
    {
     "name": "stdout",
     "output_type": "stream",
     "text": [
      "((10, 20, 30), (10, 20, 30), (10, 20, 30))\n"
     ]
    }
   ],
   "source": [
    "# 13. Repeat a tuple three times.\n",
    "t9 = (10,20,30)\n",
    "triple_tuple = ((t9, )*3)\n",
    "print(triple_tuple)"
   ]
  },
  {
   "cell_type": "code",
   "execution_count": 9,
   "id": "a6bf96c4-db02-4788-a04e-02b85cc53613",
   "metadata": {},
   "outputs": [
    {
     "name": "stdout",
     "output_type": "stream",
     "text": [
      "list is empty\n"
     ]
    }
   ],
   "source": [
    "# 14. Check if a tuple is empty.\n",
    "t10 = ()\n",
    "if len(t10) == 0:\n",
    "    print(\"list is empty\")\n",
    "else:\n",
    "    print(\"List has elements in it.\")"
   ]
  },
  {
   "cell_type": "code",
   "execution_count": 12,
   "id": "5fc7e7da-5d27-4d46-8b0c-aa93aff24267",
   "metadata": {},
   "outputs": [
    {
     "name": "stdout",
     "output_type": "stream",
     "text": [
      "(1, 2, 3, (4, 5))\n"
     ]
    }
   ],
   "source": [
    "# 15. Create a nested tuple.\n",
    "t11 = (1,2,3)\n",
    "t12 = (4,5)\n",
    "print((t11)+(t12,))"
   ]
  },
  {
   "cell_type": "code",
   "execution_count": 16,
   "id": "fb92a696-e4c2-4da4-8874-eef4b54dd140",
   "metadata": {},
   "outputs": [
    {
     "name": "stdout",
     "output_type": "stream",
     "text": [
      "(1, 2, 3)\n"
     ]
    }
   ],
   "source": [
    "# 16. Access the first element of a nested tuple.\n",
    "t13 = (1,2,3)\n",
    "t14 = (4,5)\n",
    "t15 = ((t11,)+(t12,))\n",
    "print(t15[0])"
   ]
  },
  {
   "cell_type": "code",
   "execution_count": 18,
   "id": "220157c0-e2f7-4073-8259-5310d42684b1",
   "metadata": {},
   "outputs": [
    {
     "data": {
      "text/plain": [
       "tuple"
      ]
     },
     "execution_count": 18,
     "metadata": {},
     "output_type": "execute_result"
    }
   ],
   "source": [
    "# 17. Create a tuple with a single element.\n",
    "t16 = (1,)\n",
    "type(t16)"
   ]
  },
  {
   "cell_type": "code",
   "execution_count": 2,
   "id": "82554235-5b5e-4ad7-9f72-5de91420afe5",
   "metadata": {},
   "outputs": [
    {
     "name": "stdout",
     "output_type": "stream",
     "text": [
      "Are all elements in second tuple greater than first ? : False\n"
     ]
    }
   ],
   "source": [
    "# 18. Compare two tuples.\n",
    "t17 = (1,2,3)\n",
    "t18 = (4,1,6)\n",
    "res = all(x < y for x, y in zip(t17, t18))\n",
    "print(\"Are all elements in second tuple greater than first ? : \" + str(res))"
   ]
  },
  {
   "cell_type": "code",
   "execution_count": 8,
   "id": "004d6581-bc08-4038-b2d9-e521983eb424",
   "metadata": {},
   "outputs": [
    {
     "ename": "NameError",
     "evalue": "name 't19' is not defined",
     "output_type": "error",
     "traceback": [
      "\u001b[1;31m---------------------------------------------------------------------------\u001b[0m",
      "\u001b[1;31mNameError\u001b[0m                                 Traceback (most recent call last)",
      "Input \u001b[1;32mIn [8]\u001b[0m, in \u001b[0;36m<cell line: 4>\u001b[1;34m()\u001b[0m\n\u001b[0;32m      2\u001b[0m t19 \u001b[38;5;241m=\u001b[39m (\u001b[38;5;241m5\u001b[39m,\u001b[38;5;241m6\u001b[39m,\u001b[38;5;241m7\u001b[39m,\u001b[38;5;241m8\u001b[39m,\u001b[38;5;241m9\u001b[39m)\n\u001b[0;32m      3\u001b[0m \u001b[38;5;28;01mdel\u001b[39;00m(t19)\n\u001b[1;32m----> 4\u001b[0m \u001b[38;5;28mprint\u001b[39m(\u001b[43mt19\u001b[49m)\n",
      "\u001b[1;31mNameError\u001b[0m: name 't19' is not defined"
     ]
    }
   ],
   "source": [
    "# 19. Delete a tuple.\n",
    "t19 = (5,6,7,8,9)\n",
    "del(t19)\n",
    "print(t19)"
   ]
  },
  {
   "cell_type": "code",
   "execution_count": 13,
   "id": "35388168-8a5a-4801-9024-a9f580b504be",
   "metadata": {},
   "outputs": [
    {
     "name": "stdout",
     "output_type": "stream",
     "text": [
      "(5, 6, 7)\n"
     ]
    }
   ],
   "source": [
    "# 20. Slice a tuple.\n",
    "t20 = (3,4,5,6,7,8,9)\n",
    "print(t20[2:5])"
   ]
  },
  {
   "cell_type": "code",
   "execution_count": 15,
   "id": "ed60a3cb-5949-46f9-a986-02801c1c7464",
   "metadata": {},
   "outputs": [
    {
     "name": "stdout",
     "output_type": "stream",
     "text": [
      "The maximum value element in tuple is:  9\n"
     ]
    }
   ],
   "source": [
    "# 21. Find the maximum value in a tuple.\n",
    "t21 = (5,8,7,9,3,5,6,8,1)\n",
    "print(\"The maximum value element in tuple is: \",max(t21))"
   ]
  },
  {
   "cell_type": "code",
   "execution_count": 16,
   "id": "2c4f248e-a0bc-4a01-812b-ce95af6130e2",
   "metadata": {},
   "outputs": [
    {
     "name": "stdout",
     "output_type": "stream",
     "text": [
      "The minimum value element in tuple is:  1\n"
     ]
    }
   ],
   "source": [
    "# 22. Find the minimum value in a tuple.\n",
    "t22 = (6,6,7,98,2,3,4,6,9,1,4,9,5)\n",
    "print(\"The minimum value element in tuple is: \", min(t21))"
   ]
  },
  {
   "cell_type": "code",
   "execution_count": 17,
   "id": "e9cc0001-a7b3-4dbe-a9da-fdd01179d28b",
   "metadata": {},
   "outputs": [
    {
     "name": "stdout",
     "output_type": "stream",
     "text": [
      "('T', 'H', 'R', 'E', 'E')\n"
     ]
    }
   ],
   "source": [
    "# 23. Convert a string to a tuple of characters.\n",
    "string_t =\"THREE\"\n",
    "print(tuple(string_t))"
   ]
  },
  {
   "cell_type": "code",
   "execution_count": 19,
   "id": "eaf0f648-0a6b-4cbe-a712-53c7cefab772",
   "metadata": {},
   "outputs": [
    {
     "name": "stdout",
     "output_type": "stream",
     "text": [
      "FOUR\n"
     ]
    }
   ],
   "source": [
    "# 24. Convert a tuple of characters to a string.\n",
    "tuple_s = (\"F\",\"O\",\"U\",\"R\")\n",
    "print(\"\".join(tuple_s))"
   ]
  },
  {
   "cell_type": "code",
   "execution_count": 20,
   "id": "8664b0fb-fad0-47e3-98aa-857cebad157a",
   "metadata": {},
   "outputs": [
    {
     "name": "stdout",
     "output_type": "stream",
     "text": [
      "(1, 2.3, (2+3j), True, 'What?')\n"
     ]
    }
   ],
   "source": [
    "# 25. Create a tuple from multiple data types.\n",
    "t23 = (1, 2.3, 2+3j, True, \"What?\")\n",
    "print(t23)"
   ]
  },
  {
   "cell_type": "code",
   "execution_count": 25,
   "id": "b51ed613-3df8-46a6-9d64-c231ae4b9375",
   "metadata": {},
   "outputs": [
    {
     "name": "stdout",
     "output_type": "stream",
     "text": [
      "Are Both the tuples compared are identical ? : True\n"
     ]
    }
   ],
   "source": [
    "# 26. Check if two tuples are identical.\n",
    "t24 = (1,2,3)\n",
    "t25 = (1,2,3)\n",
    "res = all(x == y for x, y in zip(t24, t25))\n",
    "print(\"Are Both the tuples compared are identical ? : \" + str(res))"
   ]
  },
  {
   "cell_type": "code",
   "execution_count": 28,
   "id": "f0113373-31f4-4797-99f3-fb4652964a5d",
   "metadata": {},
   "outputs": [
    {
     "name": "stdout",
     "output_type": "stream",
     "text": [
      "Sorted tuple: [1, 2, 4, 4, 5, 6, 6, 6, 7, 8, 9, 9, 43, 85]\n"
     ]
    }
   ],
   "source": [
    "# 27. Sort the elements of a tuple.\n",
    "t26 = (6,4,9,85,6,7,8,43,1,2,6,4,5,9)\n",
    "print(\"Sorted tuple:\",sorted(t26))"
   ]
  },
  {
   "cell_type": "code",
   "execution_count": 31,
   "id": "064035f5-ad9d-4ed6-9d57-96930331d302",
   "metadata": {},
   "outputs": [
    {
     "name": "stdout",
     "output_type": "stream",
     "text": [
      "('1', '2', '3')\n"
     ]
    }
   ],
   "source": [
    "# 28. Convert a tuple of integers to a tuple of strings.\n",
    "t27 = (1,2,3)\n",
    "S_t = tuple(str(elements) for elements in t27)\n",
    "print(S_t)"
   ]
  },
  {
   "cell_type": "code",
   "execution_count": 33,
   "id": "14930095-6667-40eb-bfb9-4267f5a9b369",
   "metadata": {},
   "outputs": [
    {
     "name": "stdout",
     "output_type": "stream",
     "text": [
      "(4, 5, 6)\n"
     ]
    }
   ],
   "source": [
    "# 29. Convert a tuple of strings to a tuple of integers.\n",
    "t28 = (\"4\",\"5\",\"6\")\n",
    "T_s = tuple(eval(i) for i in t28)\n",
    "print(T_s)"
   ]
  },
  {
   "cell_type": "code",
   "execution_count": 34,
   "id": "3d83189b-c2ee-4aac-861c-640e1c2c7918",
   "metadata": {},
   "outputs": [
    {
     "name": "stdout",
     "output_type": "stream",
     "text": [
      "(61, 82, 53, 45, 16, 79)\n"
     ]
    }
   ],
   "source": [
    "# 30. Merge two tuples.\n",
    "t29 = (61,82,53)\n",
    "t30 = (45,16,79)\n",
    "t31 = t29 + t30\n",
    "print(t31)"
   ]
  },
  {
   "cell_type": "code",
   "execution_count": 63,
   "id": "a9be0b5f-1ea0-4992-aeb6-bb15ae416a78",
   "metadata": {},
   "outputs": [
    {
     "name": "stdout",
     "output_type": "stream",
     "text": [
      "Flattened tuple: (1, 2, 3, 4, 5, 6, 7, 8)\n"
     ]
    }
   ],
   "source": [
    "# 31. Flatten a nested tuple.\n",
    "def flatten_tuple(nested_tuple):\n",
    "    flattened = []\n",
    "    for item in nested_tuple:\n",
    "        if isinstance(item, tuple):\n",
    "            flattened.extend(flatten_tuple(item))\n",
    "        else:\n",
    "            flattened.append(item)\n",
    "    return flattened\n",
    "nested_tuple = ((1, 2), (3, 4, 5), (6, (7, 8)))\n",
    "flattened_tuple = tuple(flatten_tuple(nested_tuple))\n",
    "print(\"Flattened tuple:\", flattened_tuple)"
   ]
  },
  {
   "cell_type": "code",
   "execution_count": 43,
   "id": "a572e0d9-b161-4cb2-b6ce-3053de662863",
   "metadata": {},
   "outputs": [
    {
     "name": "stdout",
     "output_type": "stream",
     "text": [
      "(2, 3, 5, 7, 11)\n"
     ]
    }
   ],
   "source": [
    "# 32. Create a tuple of the first 5 prime numbers.\n",
    "def t_prime(n):\n",
    "    if n <= 1:\n",
    "        return False\n",
    "    for i in range(2, int(n ** 0.5)+1):\n",
    "        if n%i ==0:\n",
    "            return False\n",
    "    return True\n",
    "count = 0\n",
    "n = 2\n",
    "first_5_prime = ()\n",
    "while count < 5:\n",
    "    if t_prime(n):\n",
    "        first_5_prime += (n,)\n",
    "        count += 1\n",
    "    n += 1\n",
    "print(first_5_prime)"
   ]
  },
  {
   "cell_type": "code",
   "execution_count": 48,
   "id": "79023787-a5d3-48d3-85ff-da06b68416b4",
   "metadata": {},
   "outputs": [
    {
     "name": "stdout",
     "output_type": "stream",
     "text": [
      "The tuple is a pallindrome.\n"
     ]
    }
   ],
   "source": [
    "# 33. Check if a tuple is a palindrome.\n",
    "t32 = (1,2,3,2,1)\n",
    "if t32 == t32[::-1]:\n",
    "    print(\"The tuple is a pallindrome.\")\n",
    "else:\n",
    "    print(\"The tuple is not a pallindrome.\")"
   ]
  },
  {
   "cell_type": "code",
   "execution_count": 50,
   "id": "fb2a7a3c-5271-4958-8638-3742b2015244",
   "metadata": {},
   "outputs": [
    {
     "name": "stdout",
     "output_type": "stream",
     "text": [
      "(1, 4, 9, 16, 25)\n"
     ]
    }
   ],
   "source": [
    "# 34. Create a tuple of squares of numbers from 1 to 5.\n",
    "l_sq = [i**2 for i in range(1,6)]\n",
    "t_sq = tuple(l_sq)\n",
    "print(t_sq)"
   ]
  },
  {
   "cell_type": "code",
   "execution_count": 54,
   "id": "8f325d51-3045-41c0-bec7-03abdf00c068",
   "metadata": {},
   "outputs": [
    {
     "name": "stdout",
     "output_type": "stream",
     "text": [
      "Even numbers in tuples are: (2, 4, 6, 8)\n"
     ]
    }
   ],
   "source": [
    "# 35. Filter out all even numbers from a tuple.\n",
    "t33 = (1,2,3,4,5,6,7,8,9)\n",
    "t_even = tuple(i for i in t33 if i%2==0)\n",
    "print(\"Even numbers in tuples are:\", t_even)"
   ]
  },
  {
   "cell_type": "code",
   "execution_count": 56,
   "id": "4f25c240-824f-427e-aa6c-d007e68560e3",
   "metadata": {},
   "outputs": [
    {
     "name": "stdout",
     "output_type": "stream",
     "text": [
      "(20, 40, 60, 80)\n"
     ]
    }
   ],
   "source": [
    "# 36. Multiply all elements in a tuple by 2.\n",
    "t34 = (10,20,30,40)\n",
    "t_m = tuple(i*2 for i in t34)\n",
    "print(t_m)"
   ]
  },
  {
   "cell_type": "code",
   "execution_count": 58,
   "id": "bb949a39-58a9-46d1-b274-5a1db0fe8dab",
   "metadata": {},
   "outputs": [
    {
     "name": "stdout",
     "output_type": "stream",
     "text": [
      "(89, 38, 74, 26, 63)\n"
     ]
    }
   ],
   "source": [
    "# 37. Create a tuple of random numbers.\n",
    "import random\n",
    "\n",
    "t_random = tuple(random.randint(1, 100) for i in range(5))\n",
    "\n",
    "print(t_random)"
   ]
  },
  {
   "cell_type": "code",
   "execution_count": 66,
   "id": "7490b071-acb8-4292-9c72-877bba676971",
   "metadata": {},
   "outputs": [
    {
     "name": "stdout",
     "output_type": "stream",
     "text": [
      "The tuple is not sorted.\n",
      "(1, 6, 3, 4, 5)\n",
      "(1, 3, 4, 5, 6)\n"
     ]
    }
   ],
   "source": [
    "# 38. Check if a tuple is sorted.\n",
    "\n",
    "t35 = (1,6,3,4,5)\n",
    "if t35 == tuple(sorted(t35)):\n",
    "    print(\"The tuple is sorted.\")\n",
    "else:\n",
    "    print(\"The tuple is not sorted.\")\n",
    "print(t35)\n",
    "print(tuple(sorted(t35)))"
   ]
  },
  {
   "cell_type": "code",
   "execution_count": 68,
   "id": "fd0902c7-4f35-4cda-83dc-d9a14256a84a",
   "metadata": {},
   "outputs": [
    {
     "name": "stdin",
     "output_type": "stream",
     "text": [
      "Enter the shift: 3\n"
     ]
    },
    {
     "name": "stdout",
     "output_type": "stream",
     "text": [
      "(6, 7, 3, 4, 5)\n"
     ]
    }
   ],
   "source": [
    "# 39. Rotate a tuple to the left by `n` positions.\n",
    "t36 = (3,4,5,6,7)\n",
    "shift_t = int(input(\"Enter the shift:\"))\n",
    "t_shift = tuple(t36[shift_t:] + t36[:shift_t])\n",
    "print(t_shift)"
   ]
  },
  {
   "cell_type": "code",
   "execution_count": 69,
   "id": "85237840-0fb8-4bfa-9843-feda570627f8",
   "metadata": {},
   "outputs": [
    {
     "name": "stdin",
     "output_type": "stream",
     "text": [
      "Enter the shift: 3\n"
     ]
    },
    {
     "name": "stdout",
     "output_type": "stream",
     "text": [
      "(5, 6, 7, 3, 4)\n"
     ]
    }
   ],
   "source": [
    "# 40. Rotate a tuple to the right by `n` positions.\n",
    "t37 = (3,4,5,6,7)\n",
    "shift_t = int(input(\"Enter the shift:\"))\n",
    "t_shift = tuple(t36[-shift_t:] + t36[:-shift_t])\n",
    "print(t_shift)"
   ]
  },
  {
   "cell_type": "code",
   "execution_count": 29,
   "id": "a71d0b70-fa24-42fa-941a-f22c8ac5047f",
   "metadata": {},
   "outputs": [
    {
     "name": "stdout",
     "output_type": "stream",
     "text": [
      "(0, 1, 1, 2, 3)\n"
     ]
    }
   ],
   "source": [
    "# 41. Create a tuple of the first 5 Fibonacci numbers.\n",
    "def fibb(n):\n",
    "    fibonacci = [0, 1]\n",
    "    while len(fibonacci) < n:\n",
    "        nxt = fibonacci[-1] + fibonacci[-2]\n",
    "        fibonacci.append(nxt)\n",
    "    return tuple(fibonacci)\n",
    "\n",
    "fib_tuple = fibb(5)\n",
    "print(fib_tuple)"
   ]
  },
  {
   "cell_type": "code",
   "execution_count": 2,
   "id": "9d11396f-7aa5-4359-913b-60d187c167c7",
   "metadata": {},
   "outputs": [
    {
     "name": "stdin",
     "output_type": "stream",
     "text": [
      "Enter the elements: 1,2,3\n"
     ]
    },
    {
     "name": "stdout",
     "output_type": "stream",
     "text": [
      "('1', '2', '3')\n"
     ]
    }
   ],
   "source": [
    "# 42. Create a tuple from user input.\n",
    "in_tu = tuple(input(\"Enter the elements:\").split(\",\"))\n",
    "print(in_tu)"
   ]
  },
  {
   "cell_type": "code",
   "execution_count": 5,
   "id": "288e6c58-1c24-4c39-9691-09804d5bdfa2",
   "metadata": {},
   "outputs": [
    {
     "name": "stdout",
     "output_type": "stream",
     "text": [
      "(1, 3, 2, 4, 5)\n"
     ]
    }
   ],
   "source": [
    "# 43. Swap two elements in a tuple.\n",
    "t_swap = (1,2,3,4,5)\n",
    "l_swap = list(t_swap)\n",
    "l_swap[1], l_swap[2] = l_swap[2], l_swap[1]\n",
    "print(tuple(l_swap))"
   ]
  },
  {
   "cell_type": "code",
   "execution_count": 8,
   "id": "93ee1c74-ca00-47b1-bab0-90f96819ef86",
   "metadata": {},
   "outputs": [
    {
     "name": "stdout",
     "output_type": "stream",
     "text": [
      "Reversed tuple: (5, 4, 3, 2, 1)\n"
     ]
    }
   ],
   "source": [
    "# 44. Reverse the elements of a tuple.\n",
    "t_rev = (1,2,3,4,5)\n",
    "l_rev = list(t_rev)\n",
    "print(\"Reversed tuple:\", tuple(l_rev[::-1]))"
   ]
  },
  {
   "cell_type": "code",
   "execution_count": 11,
   "id": "a9da18ac-0244-4306-a38f-7921d1805983",
   "metadata": {},
   "outputs": [
    {
     "name": "stdin",
     "output_type": "stream",
     "text": [
      "Enter the number: 4\n"
     ]
    },
    {
     "name": "stdout",
     "output_type": "stream",
     "text": [
      "(1, 2, 4, 8, 16)\n"
     ]
    }
   ],
   "source": [
    "# 45. Create a tuple of the first `n` powers of 2.\n",
    "n = int(input(\"Enter the number:\"))\n",
    "t_npower = tuple(2**n for n in range(0,n+1))\n",
    "print(t_npower)"
   ]
  },
  {
   "cell_type": "code",
   "execution_count": 18,
   "id": "612bc844-84b5-41df-a0dd-995d96795dda",
   "metadata": {},
   "outputs": [
    {
     "name": "stdout",
     "output_type": "stream",
     "text": [
      "longest tuple element is: Fundamental\n"
     ]
    }
   ],
   "source": [
    "# 46. Find the longest string in a tuple of strings.\n",
    "t_lo = (\"School\",\"Business\",\"Truck\",\"Fundamental\")\n",
    "index = t_lo.index(max(t_lo, key = len))\n",
    "print(\"longest tuple element is:\", t_lo[index])"
   ]
  },
  {
   "cell_type": "code",
   "execution_count": 19,
   "id": "23306d66-afab-4855-90b3-5daccf3178b3",
   "metadata": {},
   "outputs": [
    {
     "name": "stdout",
     "output_type": "stream",
     "text": [
      "Shortest tuple element is: Truck\n"
     ]
    }
   ],
   "source": [
    "# 47. Find the shortest string in a tuple of strings.\n",
    "t_sho = (\"School\",\"Business\",\"Truck\",\"Fundamental\")\n",
    "index = t_sho.index(min(t_sho, key = len))\n",
    "print(\"Shortest tuple element is:\", t_sho[index])"
   ]
  },
  {
   "cell_type": "code",
   "execution_count": 23,
   "id": "cf66e46e-ec99-4406-a133-9c39f50e34d1",
   "metadata": {},
   "outputs": [
    {
     "name": "stdin",
     "output_type": "stream",
     "text": [
      "Enter the number: 3\n"
     ]
    },
    {
     "name": "stdout",
     "output_type": "stream",
     "text": [
      "First 3 triangular numbers are: (1, 3, 6)\n"
     ]
    }
   ],
   "source": [
    "# 48. Create a tuple of the first `n` triangular numbers.\n",
    "nt_tri = int(input(\"Enter the number:\"))\n",
    "tuple_tri = tuple((i*(i+1)//2) for i in range(1, nt_tri+1))\n",
    "print(\"First 3 triangular numbers are:\",tuple_tri)"
   ]
  },
  {
   "cell_type": "code",
   "execution_count": 5,
   "id": "8eaaacc6-4fe7-4557-ac39-ed2f70551eef",
   "metadata": {},
   "outputs": [
    {
     "name": "stdout",
     "output_type": "stream",
     "text": [
      "The list does not contain a another list as a subsequence\n"
     ]
    }
   ],
   "source": [
    "# 49. Check if a tuple contains another tuple as a subsequence.\n",
    "tup_nest = (1,2,3,(4,5,6),7,8,9)\n",
    "c = 0\n",
    "for i in tup_nest:\n",
    "    if type(i)==tuple:\n",
    "        c += 1\n",
    "if c>0:\n",
    "    print(\"The list contains a another list as a subsequence\")\n",
    "else:\n",
    "    print(\"The list does not contain a another list as a subsequence\")"
   ]
  },
  {
   "cell_type": "code",
   "execution_count": 6,
   "id": "f6967099-e67c-47a3-a37f-049f5d61e9c2",
   "metadata": {},
   "outputs": [
    {
     "name": "stdin",
     "output_type": "stream",
     "text": [
      "Enter the number:  10\n"
     ]
    },
    {
     "name": "stdout",
     "output_type": "stream",
     "text": [
      "(1, 0, 1, 0, 1, 0, 1, 0, 1, 0)\n"
     ]
    }
   ],
   "source": [
    "# 50. Create a tuple of alternating 1s and 0s of length `n`.\n",
    "n = int(input(\"Enter the number: \"))\n",
    "alter_tuple = tuple(1 if i % 2 == 0 else 0 for i in range(n))\n",
    "print(alter_tuple)"
   ]
  },
  {
   "cell_type": "markdown",
   "id": "7526ccd1-5b62-49b0-abae-7fa9ec97176a",
   "metadata": {},
   "source": [
    "# 4. Set Based Practice Problem :"
   ]
  },
  {
   "cell_type": "code",
   "execution_count": 9,
   "id": "27bdca57-fd6f-41f8-af35-0bc070fb5afd",
   "metadata": {},
   "outputs": [
    {
     "name": "stdout",
     "output_type": "stream",
     "text": [
      "set with integers from 1 to 5 is: {1, 2, 3, 4, 5}\n"
     ]
    }
   ],
   "source": [
    "# 1. Create a set with integers from 1 to 5.\n",
    "print(\"set with integers from 1 to 5 is:\",set(i for i in range(1,6)))"
   ]
  },
  {
   "cell_type": "code",
   "execution_count": 11,
   "id": "25d6ea3e-4d4c-4759-af9f-8a7ddaa2c4a7",
   "metadata": {},
   "outputs": [
    {
     "name": "stdout",
     "output_type": "stream",
     "text": [
      "{1, 2, 3, 4}\n"
     ]
    }
   ],
   "source": [
    "# 2. Add an element to a set.\n",
    "set1 = {1,2,3}\n",
    "set1.add(4)\n",
    "print(set1)"
   ]
  },
  {
   "cell_type": "code",
   "execution_count": 12,
   "id": "cce9e76d-0621-4669-b6e3-fb63ab2b08b5",
   "metadata": {},
   "outputs": [
    {
     "name": "stdout",
     "output_type": "stream",
     "text": [
      "{4, 5, 6, 8, 9}\n"
     ]
    }
   ],
   "source": [
    "# 3. Remove an element from a set.\n",
    "set2 = {4,5,6,7,8,9}\n",
    "set2.remove(7)\n",
    "print(set2)"
   ]
  },
  {
   "cell_type": "code",
   "execution_count": 15,
   "id": "60ea87b1-2a4d-4ec8-b38d-b529fa61079d",
   "metadata": {},
   "outputs": [
    {
     "name": "stdin",
     "output_type": "stream",
     "text": [
      "Enter the element to be searched: 8\n"
     ]
    },
    {
     "name": "stdout",
     "output_type": "stream",
     "text": [
      "The element does not exist in the set.\n"
     ]
    }
   ],
   "source": [
    "# 4. Check if an element exists in a set.\n",
    "set3 = {1,2,3,4,5,6}\n",
    "ele = int(input(\"Enter the element to be searched:\"))\n",
    "if ele in set3:\n",
    "    print(\"The element exists in the set.\")\n",
    "else:\n",
    "    print(\"The element does not exist in the set.\")"
   ]
  },
  {
   "cell_type": "code",
   "execution_count": 18,
   "id": "4704e562-6e93-43f1-ab62-46f5b4229ff6",
   "metadata": {},
   "outputs": [
    {
     "name": "stdout",
     "output_type": "stream",
     "text": [
      "Length of the set is: 4\n"
     ]
    }
   ],
   "source": [
    "# 5. Find the length of a set without using the `len()` function.\n",
    "set4 = {1,2,3,4}\n",
    "count = 0\n",
    "for i in set4:\n",
    "    count += 1\n",
    "print(\"Length of the set is:\", count)"
   ]
  },
  {
   "cell_type": "code",
   "execution_count": 19,
   "id": "415ca292-76fc-45ee-83ce-1ff592341614",
   "metadata": {},
   "outputs": [
    {
     "name": "stdout",
     "output_type": "stream",
     "text": [
      "set()\n"
     ]
    }
   ],
   "source": [
    "# 6. Clear all elements from a set.\n",
    "set5 = {1,2,3}\n",
    "set5.clear()\n",
    "print(set5)"
   ]
  },
  {
   "cell_type": "code",
   "execution_count": 4,
   "id": "674ac9cc-2cba-48c5-87bb-16bf96ce9d62",
   "metadata": {},
   "outputs": [
    {
     "name": "stdout",
     "output_type": "stream",
     "text": [
      "{2, 4, 6, 8, 10}\n"
     ]
    }
   ],
   "source": [
    "# 7. Create a set of even numbers from 1 to 10.\n",
    "s1 = set(i for i in range(1, 11) if i%2 == 0)\n",
    "print(s1)"
   ]
  },
  {
   "cell_type": "code",
   "execution_count": 5,
   "id": "efb1faaa-71f0-4a4b-8183-03b3ae61aa81",
   "metadata": {},
   "outputs": [
    {
     "name": "stdout",
     "output_type": "stream",
     "text": [
      "{1, 3, 5, 7, 9}\n"
     ]
    }
   ],
   "source": [
    "# 8. Create a set of odd numbers from 1 to 10.\n",
    "s2 = set(i for i in range(1, 11) if i%2 != 0)\n",
    "print(s2)"
   ]
  },
  {
   "cell_type": "code",
   "execution_count": 7,
   "id": "aad3a5e6-e4d7-40af-b610-293981552a7d",
   "metadata": {},
   "outputs": [
    {
     "name": "stdout",
     "output_type": "stream",
     "text": [
      "A U B : {1, 2, 3, 4, 5, 6, 7}\n"
     ]
    }
   ],
   "source": [
    "#  9. Find the union of two sets.\n",
    "\n",
    "a_set = {1,2,3,4,5}\n",
    "b_set = {4,5,6,2,7}\n",
    "print(\"A U B :\", a_set.union(b_set))"
   ]
  },
  {
   "cell_type": "code",
   "execution_count": 9,
   "id": "658ee337-f483-4ac1-b6a8-7afbad3c3d3a",
   "metadata": {},
   "outputs": [
    {
     "name": "stdout",
     "output_type": "stream",
     "text": [
      "A intersection B : {2, 4, 5}\n"
     ]
    }
   ],
   "source": [
    "# 10. Find the intersection of two sets.\n",
    "a_se = {1,2,3,4,5}\n",
    "b_se = {4,5,6,2,7}\n",
    "print(\"A intersection B :\", a_se.intersection(b_se))"
   ]
  },
  {
   "cell_type": "code",
   "execution_count": 12,
   "id": "9da7209a-4884-4b51-b90b-1f2c0ad54f50",
   "metadata": {},
   "outputs": [
    {
     "name": "stdout",
     "output_type": "stream",
     "text": [
      "A - B : {1, 3}\n",
      "B - A : {6, 7}\n"
     ]
    }
   ],
   "source": [
    "# 11. Find the difference between two sets.\n",
    "a_s = {1,2,3,4,5}\n",
    "b_s = {4,5,6,2,7}\n",
    "print(\"A - B :\", a_s.difference(b_s))\n",
    "print(\"B - A :\", b_s.difference(a_s))"
   ]
  },
  {
   "cell_type": "code",
   "execution_count": 17,
   "id": "43f0044f-185d-4e91-acd9-456e34d3f9b2",
   "metadata": {},
   "outputs": [
    {
     "name": "stdout",
     "output_type": "stream",
     "text": [
      "True\n"
     ]
    }
   ],
   "source": [
    "# 12. Check if a set is a subset of another set.\n",
    "s3 = {1,2,3}\n",
    "s4 = {1,2,3,4,5}\n",
    "print(s3.issubset(s4))"
   ]
  },
  {
   "cell_type": "code",
   "execution_count": 18,
   "id": "5943a711-6421-46ac-97dc-1a9650d9dd49",
   "metadata": {},
   "outputs": [
    {
     "name": "stdout",
     "output_type": "stream",
     "text": [
      "True\n"
     ]
    }
   ],
   "source": [
    "# 13. Check if a set is a superset of another set.\n",
    "s5 = {1,2,3,4,5}\n",
    "s6 = {1,2,3}\n",
    "print(s5.issuperset(s6))"
   ]
  },
  {
   "cell_type": "code",
   "execution_count": 20,
   "id": "95210c11-a02c-4a21-a191-102bf275d1e4",
   "metadata": {},
   "outputs": [
    {
     "name": "stdout",
     "output_type": "stream",
     "text": [
      "{1, 2, 3, 4, 5}\n"
     ]
    }
   ],
   "source": [
    "# 14. Create a set from a list.\n",
    "l_set = [1,2,3,4,5,5]\n",
    "print(set(l_set))"
   ]
  },
  {
   "cell_type": "code",
   "execution_count": 21,
   "id": "67dc8516-5db6-4cc4-bf3a-1ef955291895",
   "metadata": {},
   "outputs": [
    {
     "name": "stdout",
     "output_type": "stream",
     "text": [
      "[1, 2, 3, 4, 5]\n"
     ]
    }
   ],
   "source": [
    "# 15. Convert a set to a list.\n",
    "s7 = {1,2,3,4,5}\n",
    "print(list(s7))"
   ]
  },
  {
   "cell_type": "code",
   "execution_count": 31,
   "id": "89858f3e-e90f-43f2-9dca-32ea7524d689",
   "metadata": {},
   "outputs": [
    {
     "name": "stdout",
     "output_type": "stream",
     "text": [
      "Chosen random element: 6\n",
      "Updated set: {2, 3, 4, 5, 7, 8, 9}\n"
     ]
    }
   ],
   "source": [
    "# 16. Remove a random element from a set.\n",
    "import random\n",
    "s8 = {2,3,4,5,6,7,9,8}\n",
    "random_element = random.choice(list(s8))\n",
    "s8.remove(random_element)\n",
    "\n",
    "print(f\"Chosen random element: {random_element}\")\n",
    "print(f\"Updated set: {s8}\")"
   ]
  },
  {
   "cell_type": "code",
   "execution_count": 34,
   "id": "8c58317e-c434-4d99-8368-0a01f4ee319c",
   "metadata": {},
   "outputs": [
    {
     "name": "stdout",
     "output_type": "stream",
     "text": [
      "{2, 3, 4, 5}\n"
     ]
    }
   ],
   "source": [
    "# 17. Pop an element from a set.\n",
    "s9 = {1,2,3,4,5}\n",
    "s9.pop()\n",
    "print(s9)"
   ]
  },
  {
   "cell_type": "code",
   "execution_count": 45,
   "id": "1de6f0b9-16b9-4585-95fb-2a500baf31bb",
   "metadata": {},
   "outputs": [
    {
     "name": "stdout",
     "output_type": "stream",
     "text": [
      "There are no common elements in these sets.\n"
     ]
    }
   ],
   "source": [
    "# 18. Check if two sets have no elements in common.\n",
    "s10 = {1,2,3,4,5}\n",
    "s11 = {6,7,8,9,10}\n",
    "if s10.isdisjoint(s11):\n",
    "    print(\"There are no common elements in these sets.\")\n",
    "else:\n",
    "    print(\"There are common elements in these sets.\")"
   ]
  },
  {
   "cell_type": "code",
   "execution_count": 1,
   "id": "3118525e-41dc-4bdf-b72f-4c136daa7494",
   "metadata": {},
   "outputs": [
    {
     "name": "stdout",
     "output_type": "stream",
     "text": [
      "{1, 2, 3, 6, 7, 8}\n"
     ]
    }
   ],
   "source": [
    "# 19. Find the symmetric difference between two sets.\n",
    "\n",
    "s12 = {1,2,3,4,5}\n",
    "s13 = {4,5,6,7,8}\n",
    "print(s12.symmetric_difference(s13))"
   ]
  },
  {
   "cell_type": "code",
   "execution_count": 5,
   "id": "d3306a1a-f259-4973-94b5-a91228ca85ef",
   "metadata": {},
   "outputs": [
    {
     "name": "stdout",
     "output_type": "stream",
     "text": [
      "{1, 2, 3, 4, 5, 6, 7, 8, 9}\n"
     ]
    }
   ],
   "source": [
    "# 20. Update a set with elements from another set.\n",
    "\n",
    "s14 = {1,2,3,4,5,6}\n",
    "s15 = {5,6,7,8,9,1}\n",
    "s14.update(s15)\n",
    "print(s14)"
   ]
  },
  {
   "cell_type": "code",
   "execution_count": 9,
   "id": "42b90ed8-0462-4bd0-b5e2-5ce08d1c9bfb",
   "metadata": {},
   "outputs": [
    {
     "name": "stdout",
     "output_type": "stream",
     "text": [
      "{2, 3, 5, 7, 11}\n"
     ]
    }
   ],
   "source": [
    "# 21. Create a set of the first 5 prime numbers.\n",
    "def prime(n):\n",
    "    if n<=1:\n",
    "        return False\n",
    "    if n<= 3:\n",
    "        return True\n",
    "    if n%2 ==0 or n%3 == 0:\n",
    "        return False\n",
    "    i = 5\n",
    "    while i * i <= n:\n",
    "        if n % i == 0 or n % (i + 2) == 0:\n",
    "            return False\n",
    "        i += 6\n",
    "    return True\n",
    "\n",
    "prime_set = set()\n",
    "num = 2 \n",
    "\n",
    "while len(prime_set) < 5:\n",
    "    if prime(num):\n",
    "        prime_set.add(num)\n",
    "    num += 1\n",
    "\n",
    "print(prime_set)"
   ]
  },
  {
   "cell_type": "code",
   "execution_count": 11,
   "id": "3db8f514-ac55-4a4a-b524-fc316eaa6db9",
   "metadata": {},
   "outputs": [
    {
     "name": "stdout",
     "output_type": "stream",
     "text": [
      "Not identical\n"
     ]
    }
   ],
   "source": [
    "# 22. Check if two sets are identical.\n",
    "s16 = {1,2,3,4,5}\n",
    "s17 = {5,4,3,6,1}\n",
    "if s16 == s17:\n",
    "    print(\"Identical\")\n",
    "else:\n",
    "    print(\"Not identical\")\n",
    "# The sets are considered equal if they have the same elements, regardless of the order in which the elements appear"
   ]
  },
  {
   "cell_type": "code",
   "execution_count": 17,
   "id": "5cacd206-05ec-4e1c-9aa3-afe2b9b90265",
   "metadata": {},
   "outputs": [
    {
     "name": "stdout",
     "output_type": "stream",
     "text": [
      "True\n",
      "False\n"
     ]
    },
    {
     "ename": "AttributeError",
     "evalue": "'frozenset' object has no attribute 'append'",
     "output_type": "error",
     "traceback": [
      "\u001b[1;31m---------------------------------------------------------------------------\u001b[0m",
      "\u001b[1;31mAttributeError\u001b[0m                            Traceback (most recent call last)",
      "Cell \u001b[1;32mIn[17], line 6\u001b[0m\n\u001b[0;32m      4\u001b[0m \u001b[38;5;28mprint\u001b[39m(\u001b[38;5;124m\"\u001b[39m\u001b[38;5;124mToyota\u001b[39m\u001b[38;5;124m\"\u001b[39m \u001b[38;5;129;01min\u001b[39;00m cars)\n\u001b[0;32m      5\u001b[0m \u001b[38;5;28mprint\u001b[39m(\u001b[38;5;124m\"\u001b[39m\u001b[38;5;124mHonda\u001b[39m\u001b[38;5;124m\"\u001b[39m \u001b[38;5;129;01min\u001b[39;00m cars)\n\u001b[1;32m----> 6\u001b[0m \u001b[43mcars\u001b[49m\u001b[38;5;241;43m.\u001b[39;49m\u001b[43mappend\u001b[49m(\u001b[38;5;124m\"\u001b[39m\u001b[38;5;124mHonda\u001b[39m\u001b[38;5;124m\"\u001b[39m)\n",
      "\u001b[1;31mAttributeError\u001b[0m: 'frozenset' object has no attribute 'append'"
     ]
    }
   ],
   "source": [
    "# 23. Create a frozen set.\n",
    "\n",
    "cars = frozenset([\"Toyota\", \"Mercedes\", \"BMW\", \"Maruti Suzuki\", \"Kia\"])\n",
    "print(\"Toyota\" in cars)\n",
    "print(\"Honda\" in cars)\n",
    "cars.append(\"Honda\")"
   ]
  },
  {
   "cell_type": "code",
   "execution_count": 19,
   "id": "146982a4-e3e9-4689-96d8-09fbb5d98bec",
   "metadata": {},
   "outputs": [
    {
     "name": "stdout",
     "output_type": "stream",
     "text": [
      "False\n"
     ]
    }
   ],
   "source": [
    "# 24. Check if a set is disjoint with another set.\n",
    "s18 = {12,23,34,45}\n",
    "s19 = {45,56,67,78}\n",
    "print(s18.isdisjoint(s19))\n",
    "#Two sets are said to be disjoint when their intersection is null."
   ]
  },
  {
   "cell_type": "code",
   "execution_count": 22,
   "id": "94c37c06-6169-4c14-95df-ccf6e3fd75bf",
   "metadata": {},
   "outputs": [
    {
     "name": "stdout",
     "output_type": "stream",
     "text": [
      "{1, 4, 9, 16, 25}\n"
     ]
    }
   ],
   "source": [
    "# 25. Create a set of squares of numbers from 1 to 5.\n",
    "set_square = set(i**2 for i in range(1,6))\n",
    "print(set_square)"
   ]
  },
  {
   "cell_type": "code",
   "execution_count": 24,
   "id": "4a6af92c-690e-4230-8bf0-ddf8e18b94e1",
   "metadata": {},
   "outputs": [
    {
     "name": "stdout",
     "output_type": "stream",
     "text": [
      "{2, 4, 6, 8, 10}\n"
     ]
    }
   ],
   "source": [
    "# 26. Filter out all even numbers from a set.\n",
    "s20 = {1,2,3,4,5,6,7,8,9,10}\n",
    "print(set(i for i in s20 if i%2 == 0))"
   ]
  },
  {
   "cell_type": "code",
   "execution_count": 26,
   "id": "3209d706-1d5d-4245-adfb-cb9efc1d11bb",
   "metadata": {},
   "outputs": [
    {
     "name": "stdout",
     "output_type": "stream",
     "text": [
      "{2, 4, 6, 8, 10}\n"
     ]
    }
   ],
   "source": [
    "# 27. Multiply all elements in a set by 2.\n",
    "s21 = {1,2,3,4,5}\n",
    "print(set(i*2 for i in s21))"
   ]
  },
  {
   "cell_type": "code",
   "execution_count": 30,
   "id": "92966872-cc59-4d13-af1e-e71454d5eaae",
   "metadata": {},
   "outputs": [
    {
     "name": "stdout",
     "output_type": "stream",
     "text": [
      "{32, 128, 194, 70, 43, 16, 179, 181, 183, 124, 29, 95}\n"
     ]
    }
   ],
   "source": [
    "# 28. Create a set of random numbers.\n",
    "import random\n",
    "\n",
    "start = 1\n",
    "end = 200\n",
    "num_ = 10\n",
    "\n",
    "random_set = set()\n",
    "\n",
    "while len(random_set) < num:\n",
    "    random_number = random.randint(start, end)\n",
    "    random_set.add(random_number)\n",
    "\n",
    "print(random_set)"
   ]
  },
  {
   "cell_type": "code",
   "execution_count": 40,
   "id": "52f338db-78bc-4db1-8761-cbee387b2586",
   "metadata": {},
   "outputs": [
    {
     "name": "stdout",
     "output_type": "stream",
     "text": [
      "Empty set\n"
     ]
    }
   ],
   "source": [
    "# 29. Check if a set is empty.\n",
    "s22 = {}\n",
    "if len(s22) == 0:\n",
    "    print(\"Empty set\")\n",
    "else:\n",
    "    print(\"Not an empty set\")"
   ]
  },
  {
   "cell_type": "code",
   "execution_count": 44,
   "id": "58c7d406-ae36-4d7b-ae19-49fd1fc319fb",
   "metadata": {},
   "outputs": [
    {
     "name": "stdout",
     "output_type": "stream",
     "text": [
      "{frozenset({1, 2, 3}), frozenset({5, 6, 7}), frozenset({3, 4, 5})}\n"
     ]
    }
   ],
   "source": [
    "# 30. Create a nested set (hint: use frozenset).\n",
    "s23 = frozenset({1,2,3})\n",
    "s24 = frozenset({3,4,5})\n",
    "s25 = frozenset({5,6,7})\n",
    "nested_set = {s23, s24, s25}\n",
    "print(nested_set)"
   ]
  },
  {
   "cell_type": "code",
   "execution_count": 47,
   "id": "2c449b44-bc3c-4de3-86b2-0b1d68bbb580",
   "metadata": {},
   "outputs": [
    {
     "name": "stdout",
     "output_type": "stream",
     "text": [
      "{40, 10, 30}\n"
     ]
    }
   ],
   "source": [
    "# 31. Remove an element from a set using the discard method.\n",
    "s26 = {10, 20, 30, 40}\n",
    "s26.discard(20)\n",
    "print(s26)"
   ]
  },
  {
   "cell_type": "code",
   "execution_count": 62,
   "id": "b0622cab-2e85-4e39-976d-33be60b85cfc",
   "metadata": {},
   "outputs": [
    {
     "name": "stdout",
     "output_type": "stream",
     "text": [
      "Set 1: {1, 2, 3, 4, 5, 6}\n",
      "Set 2: {1, 2, 3, 4}\n",
      "Sets are ot identical\n",
      "Is set1 a subset of set2? False\n",
      "Is set2 a subset of set1? True\n",
      "Intersection: {1, 2, 3, 4}\n",
      "Union: {1, 2, 3, 4, 5, 6}\n",
      "Elements in set1 but not in set2: {5, 6}\n",
      "Elements in set2 but not in set1: set()\n"
     ]
    }
   ],
   "source": [
    "# 32. Compare two sets.\n",
    "s27 = {1,2,3,4,5,6}\n",
    "s28 = {3,2,1,4}\n",
    "\n",
    "print(\"Set 1:\", s27)\n",
    "print(\"Set 2:\", s28)\n",
    "\n",
    "identical = s27 == s28\n",
    "if identical:\n",
    "    print(\"Sets are identical.\")\n",
    "else:\n",
    "    print(\"Sets are ot identical\")\n",
    "    \n",
    "subset = s27.issubset(s28)\n",
    "print(\"Is set1 a subset of set2?\", subset)\n",
    "\n",
    "superset = s27.issuperset(s28)\n",
    "print(\"Is set2 a subset of set1?\", superset)\n",
    "\n",
    "intersection = s27.intersection(s28)\n",
    "print(\"Intersection:\", intersection)\n",
    "\n",
    "union = s27.union(s28)\n",
    "print(\"Union:\", union)\n",
    "\n",
    "difference1 = s27.difference(s28)\n",
    "print(\"Elements in set1 but not in set2:\", difference1)\n",
    "\n",
    "difference2 = s28.difference(s27)\n",
    "print(\"Elements in set2 but not in set1:\", difference2)\n"
   ]
  },
  {
   "cell_type": "code",
   "execution_count": 57,
   "id": "191e3921-0b34-472a-9d01-3d06c718cf8f",
   "metadata": {},
   "outputs": [
    {
     "data": {
      "text/plain": [
       "{'S', 'e', 'r', 't'}"
      ]
     },
     "execution_count": 57,
     "metadata": {},
     "output_type": "execute_result"
    }
   ],
   "source": [
    "# 33. Create a set from a string.\n",
    "st_set = \"Street\"\n",
    "l_st_set = list(st_set)\n",
    "l_st_set\n",
    "set_string = set(l_st_set)\n",
    "set_string"
   ]
  },
  {
   "cell_type": "code",
   "execution_count": 2,
   "id": "859b5559-9803-4168-9d2f-ba5a3f7194b4",
   "metadata": {},
   "outputs": [
    {
     "data": {
      "text/plain": [
       "{1, 2, 3, 4, 5}"
      ]
     },
     "execution_count": 2,
     "metadata": {},
     "output_type": "execute_result"
    }
   ],
   "source": [
    "# 34. Convert a set of strings to a set of integers.\n",
    "s29 = {\"1\",\"2\",\"3\",\"4\",\"5\"}\n",
    "l_int = [eval(i) for i in list(s29)]\n",
    "set(l_int)"
   ]
  },
  {
   "cell_type": "code",
   "execution_count": 3,
   "id": "3cfc2edd-297d-472c-982b-3345194d9138",
   "metadata": {},
   "outputs": [
    {
     "data": {
      "text/plain": [
       "{'1', '2', '3', '4', '5'}"
      ]
     },
     "execution_count": 3,
     "metadata": {},
     "output_type": "execute_result"
    }
   ],
   "source": [
    "# 35. Convert a set of integers to a set of strings.\n",
    "s30 = {1,2,3,4,5}\n",
    "str_set = {str(i) for i in s30}\n",
    "str_set"
   ]
  },
  {
   "cell_type": "code",
   "execution_count": 5,
   "id": "06adbb28-7c90-4d5d-94ab-fa66363ae6f7",
   "metadata": {},
   "outputs": [
    {
     "data": {
      "text/plain": [
       "{1, 2, 3, 4, 5}"
      ]
     },
     "execution_count": 5,
     "metadata": {},
     "output_type": "execute_result"
    }
   ],
   "source": [
    "# 36. Create a set from a tuple.\n",
    "tup = (1,2,3,4,5,5)\n",
    "set_tup = set(tup)\n",
    "set_tup"
   ]
  },
  {
   "cell_type": "code",
   "execution_count": 6,
   "id": "f60136d8-7465-404b-aee9-bc43ef13e2ea",
   "metadata": {},
   "outputs": [
    {
     "name": "stdout",
     "output_type": "stream",
     "text": [
      "(1, 2, 3, 4, 5)\n"
     ]
    }
   ],
   "source": [
    "# 37. Convert a set to a tuple.\n",
    "s31 = {1,2,3,4,5}\n",
    "tup_set = tuple(s31)\n",
    "print(tup_set)"
   ]
  },
  {
   "cell_type": "code",
   "execution_count": 7,
   "id": "f8cf403b-f97f-474f-8d92-1bca6d4ae37e",
   "metadata": {},
   "outputs": [
    {
     "name": "stdout",
     "output_type": "stream",
     "text": [
      "6\n"
     ]
    }
   ],
   "source": [
    "# 38. Find the maximum value in a set.\n",
    "s32 = {1,2,3,4,5,6}\n",
    "print(max(s32))"
   ]
  },
  {
   "cell_type": "code",
   "execution_count": 8,
   "id": "8bf170c4-ae6f-453c-88be-2a47ed53042a",
   "metadata": {},
   "outputs": [
    {
     "name": "stdout",
     "output_type": "stream",
     "text": [
      "1\n"
     ]
    }
   ],
   "source": [
    "# 39. Find the minimum value in a set.\n",
    "s33 = {1,2,3,4,5,6}\n",
    "print(min(s33))"
   ]
  },
  {
   "cell_type": "code",
   "execution_count": 11,
   "id": "08545862-1a8e-4ce6-bb09-fb3aa865fff6",
   "metadata": {},
   "outputs": [
    {
     "name": "stdin",
     "output_type": "stream",
     "text": [
      "Enter the input: set,tuple,integer,float,string\n"
     ]
    },
    {
     "data": {
      "text/plain": [
       "{'float', 'integer', 'set', 'string', 'tuple'}"
      ]
     },
     "execution_count": 11,
     "metadata": {},
     "output_type": "execute_result"
    }
   ],
   "source": [
    "# 40. Create a set from user input.\n",
    "s34 = input(\"Enter the input:\").split(\",\")\n",
    "set(s34)"
   ]
  },
  {
   "cell_type": "code",
   "execution_count": 16,
   "id": "b45b0386-bd3f-4a14-b241-6f4581afcd1f",
   "metadata": {},
   "outputs": [
    {
     "name": "stdout",
     "output_type": "stream",
     "text": [
      "Not an empty set\n"
     ]
    }
   ],
   "source": [
    "# 41. Check if the intersection of two sets is empty.\n",
    "s35 = {1,2,3,4,5}\n",
    "s36 = {5,6,7,8,9}\n",
    "empty = s35.isdisjoint(s36)\n",
    "    \n",
    "if empty:\n",
    "    print(\"Empty set\")\n",
    "else:\n",
    "    print(\"Not an empty set\")"
   ]
  },
  {
   "cell_type": "code",
   "execution_count": 30,
   "id": "fd00056f-e557-4e3f-82ce-f1ec0783dccd",
   "metadata": {},
   "outputs": [
    {
     "name": "stdout",
     "output_type": "stream",
     "text": [
      "{0, 1, 2, 3}\n"
     ]
    }
   ],
   "source": [
    "# 42. Create a set of the first 5 Fibonacci numbers.\n",
    "def fibb(n):\n",
    "    fibonacci = [0,1]\n",
    "    while len(fibonacci) < n:\n",
    "        next_number = fibonacci[-1] + fibonacci[-2]\n",
    "        fibonacci.append(next_number)\n",
    "    return set(fibonacci)\n",
    "\n",
    "# Call the generate_fibonacci function to create a tuple of the first 5 Fibonacci numbers\n",
    "fibonacci_set = fibb(5)\n",
    "\n",
    "# Print the resulting tuple\n",
    "print(fibonacci_set)"
   ]
  },
  {
   "cell_type": "code",
   "execution_count": 31,
   "id": "a6fd4397-aa9e-4a26-a658-b7d67f9019be",
   "metadata": {},
   "outputs": [
    {
     "name": "stdout",
     "output_type": "stream",
     "text": [
      "List without duplicates is: [1, 2, 3, 4, 5, 6, 7, 8]\n"
     ]
    }
   ],
   "source": [
    "# 43. Remove duplicates from a list using sets.\n",
    "l_dup = [1,1,1,2,3,3,4,5,6,6,7,7,7,7,8]\n",
    "s_dup = set(l_dup)\n",
    "print(\"List without duplicates is:\", list(s_dup))"
   ]
  },
  {
   "cell_type": "code",
   "execution_count": 34,
   "id": "4342daa5-3edb-474a-95a4-fff63c473392",
   "metadata": {},
   "outputs": [
    {
     "name": "stdout",
     "output_type": "stream",
     "text": [
      "Both sets have the same elements\n"
     ]
    }
   ],
   "source": [
    "# 44. Check if two sets have the same elements, regardless of their count.\n",
    "s37 = {1,2,3,4,5}\n",
    "s38 = {5,4,3,2,1}\n",
    "if s37 == s38:\n",
    "    print(\"Both sets have the same elements\")\n",
    "else:\n",
    "    print(\"Two sets do not have the same elements\")"
   ]
  },
  {
   "cell_type": "code",
   "execution_count": 43,
   "id": "4fe09172-7ca0-4764-8bed-2251b6f7eee3",
   "metadata": {
    "tags": []
   },
   "outputs": [
    {
     "name": "stdin",
     "output_type": "stream",
     "text": [
      " 10\n"
     ]
    },
    {
     "name": "stdout",
     "output_type": "stream",
     "text": [
      "Set containing 2's power upto 10: [2, 4, 8, 16, 32, 64, 128, 256, 512, 1024]\n"
     ]
    }
   ],
   "source": [
    "# 45. Create a set of the first `n` powers of 2.\n",
    "n = int(input())\n",
    "set_power_2 = sorted(set(2**n for n in range(1, n+1)))\n",
    "print(f\"Set containing 2's power upto {n}:\",set_power_2)"
   ]
  },
  {
   "cell_type": "code",
   "execution_count": 45,
   "id": "c655dca3-84c6-4c6f-89cd-c98ab967a8aa",
   "metadata": {
    "tags": []
   },
   "outputs": [
    {
     "name": "stdout",
     "output_type": "stream",
     "text": [
      "Common elements in set & list: {1, 2, 3}\n"
     ]
    }
   ],
   "source": [
    "# 46. Find the common elements between a set and a list.\n",
    "\n",
    "s39 = {1,2,3,4,5,6}\n",
    "l_comp = [1,2,3,7,8,9]\n",
    "\n",
    "print(\"Common elements in set & list:\", s39.intersection(l_comp))"
   ]
  },
  {
   "cell_type": "code",
   "execution_count": 46,
   "id": "0aae8292-8b21-4ffa-bb21-138766489d52",
   "metadata": {
    "tags": []
   },
   "outputs": [
    {
     "name": "stdin",
     "output_type": "stream",
     "text": [
      "Enter the number: 3\n"
     ]
    },
    {
     "name": "stdout",
     "output_type": "stream",
     "text": [
      "First 3 triangular numbers are: {1, 3, 6}\n"
     ]
    }
   ],
   "source": [
    "# 47. Create a set of the first `n` triangular numbers.\n",
    "ns_tri = int(input(\"Enter the number:\"))\n",
    "set_tri = set((i*(i+1)//2) for i in range(1, ns_tri+1))\n",
    "print(\"First 3 triangular numbers are:\",set_tri)"
   ]
  },
  {
   "cell_type": "code",
   "execution_count": 49,
   "id": "c9a41c1e-452f-4ebb-9bb1-075c63638cf7",
   "metadata": {
    "tags": []
   },
   "outputs": [
    {
     "name": "stdout",
     "output_type": "stream",
     "text": [
      "Yes\n"
     ]
    }
   ],
   "source": [
    "# 48. Check if a set contains another set as a subset.\n",
    "s40 = {1,2,3,4,5}\n",
    "s41 = {1,2,3,4}\n",
    "subset = s41.issubset(s40)\n",
    "if subset:\n",
    "    print(\"Yes\")\n",
    "else:\n",
    "    print(\"No\")"
   ]
  },
  {
   "cell_type": "code",
   "execution_count": 50,
   "id": "e9fcfc31-b9f6-4270-9271-38ed682aef05",
   "metadata": {
    "tags": []
   },
   "outputs": [
    {
     "name": "stdin",
     "output_type": "stream",
     "text": [
      "Enter the number:  10\n"
     ]
    },
    {
     "name": "stdout",
     "output_type": "stream",
     "text": [
      "{0, 1}\n"
     ]
    }
   ],
   "source": [
    "# 49. Create a set of alternating 1s and 0s of length `n`.\n",
    "n = int(input(\"Enter the number: \"))\n",
    "alter_set = set(1 if i % 2 == 0 else 0 for i in range(n))\n",
    "print(alter_set)"
   ]
  },
  {
   "cell_type": "code",
   "execution_count": 54,
   "id": "2905bd5c-5ec0-46b8-ae71-4b00ab558de8",
   "metadata": {
    "tags": []
   },
   "outputs": [
    {
     "name": "stdout",
     "output_type": "stream",
     "text": [
      "Merged Set: {1, 2, 3, 4, 5, 6, 7, 8, 9}\n"
     ]
    }
   ],
   "source": [
    "# 50. Merge multiple sets into one.\n",
    "s42 = {1,2,3}\n",
    "s43 = {4,5,6}\n",
    "s44 = {7,8,9}\n",
    "merged_set = s42.union(s43,s44)\n",
    "print(\"Merged Set:\", merged_set)"
   ]
  }
 ],
 "metadata": {
  "kernelspec": {
   "display_name": "Python 3 (ipykernel)",
   "language": "python",
   "name": "python3"
  },
  "language_info": {
   "codemirror_mode": {
    "name": "ipython",
    "version": 3
   },
   "file_extension": ".py",
   "mimetype": "text/x-python",
   "name": "python",
   "nbconvert_exporter": "python",
   "pygments_lexer": "ipython3",
   "version": "3.9.18"
  }
 },
 "nbformat": 4,
 "nbformat_minor": 5
}
