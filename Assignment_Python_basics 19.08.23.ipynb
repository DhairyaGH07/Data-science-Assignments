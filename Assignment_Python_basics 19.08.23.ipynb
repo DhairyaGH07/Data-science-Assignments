{
 "cells": [
  {
   "cell_type": "markdown",
   "id": "21eff5ac-dd4d-455c-bf60-016cac0569f2",
   "metadata": {},
   "source": [
    "# Assignent_Python_Basics"
   ]
  },
  {
   "cell_type": "markdown",
   "id": "c6c9b75a-f18e-4856-8296-d5880721eeee",
   "metadata": {},
   "source": [
    "## Python Basics Variable"
   ]
  },
  {
   "cell_type": "code",
   "execution_count": 19,
   "id": "02381c57-0317-4bb2-8391-86746c32e852",
   "metadata": {},
   "outputs": [
    {
     "name": "stdout",
     "output_type": "stream",
     "text": [
      "After Swapping: x = 30  y = 10\n"
     ]
    }
   ],
   "source": [
    "# 1. Declare two variables, `x` and `y`, and assign them integer values. Swap the values of these variables without using any temporary variable.\n",
    "\n",
    "x = 10\n",
    "y = 30\n",
    "\n",
    "# Code to swap 'x' and 'y' \n",
    "x = x + y  # Adding values of both the variables. The new value will be stored as x variable.\n",
    "y = x - y  # y is substracted from the new value of x(sum of both the variables). The new value will be stored as y variable.\n",
    "x = x - y  # Again new value of y variable is substracted from the new value of x variable. In this way, we can swap the value of x.\n",
    "\n",
    "print(\"After Swapping: x =\", x, \" y =\", y)"
   ]
  },
  {
   "cell_type": "code",
   "execution_count": 23,
   "id": "0488f0f3-9f96-47c8-8479-48bc7db41386",
   "metadata": {},
   "outputs": [
    {
     "name": "stdin",
     "output_type": "stream",
     "text": [
      "Length 4\n",
      "Width 5\n"
     ]
    },
    {
     "name": "stdout",
     "output_type": "stream",
     "text": [
      "The area of Rectangular is 20\n"
     ]
    }
   ],
   "source": [
    "# 2. Create a program that calculates the area of a rectangle. Take the length and width as inputs from the user and store them in variables. Calculate and display the area.\n",
    "\n",
    "Length = int(input(\"Length\"))  # To take input from the user which will be stored in Length variable.\n",
    "Width = int(input(\"Width\"))    # To take input from the user which will be stored in Width variable.\n",
    "Area = Length*Width            # Mathematical operation of muptiplying Length with Width to calculate the Area of the Rectangular.\n",
    "print(\"The area of Rectangular is {}\".format(Area)) # Printing the value of Area of Rectangular as an Output."
   ]
  },
  {
   "cell_type": "code",
   "execution_count": 25,
   "id": "e9bad810-857a-45c6-96ac-36779b7f0c3b",
   "metadata": {},
   "outputs": [
    {
     "name": "stdin",
     "output_type": "stream",
     "text": [
      "Temperature Celsius 32\n"
     ]
    },
    {
     "name": "stdout",
     "output_type": "stream",
     "text": [
      "89.6\n"
     ]
    }
   ],
   "source": [
    "# 3. Write a Python program that converts temperature from Celsius to Fahrenheit. Take the temperature in Celsius as input, store it in a variable, convert it to Fahrenheit, and display the result.\n",
    "\n",
    "Celsius = int(input(\"Temperature Celsius\")) # Typecasting the input value taken from user for Integer type and storing in Celcius variable. \n",
    "Fahrenheit = Celsius*(9/5)+32  # Arithmetic operation to get the value of Fahrenheit for respective input value of Celsius.\n",
    "print(Fahrenheit) # Printing value of Fahrenheit"
   ]
  },
  {
   "cell_type": "markdown",
   "id": "208cfbe2-bf75-4076-a580-7c4c734a19e7",
   "metadata": {},
   "source": [
    "## String Based Questions"
   ]
  },
  {
   "cell_type": "code",
   "execution_count": 3,
   "id": "718b8b30-1f53-4990-a8a6-71c89b252d9e",
   "metadata": {},
   "outputs": [
    {
     "name": "stdin",
     "output_type": "stream",
     "text": [
      " Welcome to Python programming.\n"
     ]
    },
    {
     "data": {
      "text/plain": [
       "30"
      ]
     },
     "execution_count": 3,
     "metadata": {},
     "output_type": "execute_result"
    }
   ],
   "source": [
    "# 1. Write a Python program that takes a string as input and prints the length of the string.\n",
    "\n",
    "string3 = input()  # To take input from the user which will be stored in string3 variable.\n",
    "len(string3)       # This function gives the length of the string given as input by the user and stored inside string3."
   ]
  },
  {
   "cell_type": "code",
   "execution_count": 3,
   "id": "44747f40-2070-45fe-8996-cf32746e7efb",
   "metadata": {},
   "outputs": [
    {
     "name": "stdin",
     "output_type": "stream",
     "text": [
      "Insert a phrase: this is a very serious business.\n"
     ]
    },
    {
     "name": "stdout",
     "output_type": "stream",
     "text": [
      "Total number of vowel occurence in this phrase is 11.\n"
     ]
    }
   ],
   "source": [
    "# 2. Create a program that takes a sentence from the user and counts the number of vowels (a, e, i, o, u) in the string.\n",
    "\n",
    "Phrase = input(\"Insert a phrase:\")          # To take input from the user which will be stored in Phrase variable.\n",
    "vowels = \"aeiouAEIOU\"     # To declare the vowels.\n",
    "count = sum(Phrase.count(vowel) for vowel in vowels)  # To calculate number of occurence of the vowels are in the input.\n",
    "print(\"Total number of vowel occurence in this phrase is {}.\".format(count))              # To print the number of the vowels in the input given by user and stored in Phrase."
   ]
  },
  {
   "cell_type": "code",
   "execution_count": 5,
   "id": "2d3b643b-2dd3-43c3-aba3-49fbab815cda",
   "metadata": {},
   "outputs": [
    {
     "name": "stdin",
     "output_type": "stream",
     "text": [
      " Wonderland\n"
     ]
    },
    {
     "name": "stdout",
     "output_type": "stream",
     "text": [
      "dnalrednoW\n"
     ]
    }
   ],
   "source": [
    "# 3. Given a string, reverse the order of characters using string slicing and print the reversed string.\n",
    "\n",
    "string1 = input()         # To take input from the user which can be stored in string1.\n",
    "string2 = string1[::-1]   # To reverse the order of characters of string1\n",
    "print(string2)"
   ]
  },
  {
   "cell_type": "code",
   "execution_count": 15,
   "id": "28fdf589-edfe-41e4-b545-3f291b3c8d66",
   "metadata": {},
   "outputs": [
    {
     "name": "stdin",
     "output_type": "stream",
     "text": [
      "Enter here: 123\n"
     ]
    },
    {
     "name": "stdout",
     "output_type": "stream",
     "text": [
      "Sorry, It is not a palindrome. Please try another value.\n"
     ]
    }
   ],
   "source": [
    "# 4. Write a program that takes a string as input and checks if it is a palindrome.\n",
    "\n",
    "string3 = input(\"Enter here:\")# To take input from the user which can be stored in string3.\n",
    "string3 = string3.lower()  # To remove case sensitive attribute of the word entered as input.\n",
    "string4 = string3[::-1]   # To reverse the order of characters of string3 \n",
    "if string3 == string4:  # To check whether the string1 and the reversed string of string3 which is string4 are same or not.\n",
    "    print(\"It is a palindrome!\")   # If string3 and string4 are same then program prints this.\n",
    "else:\n",
    "    print(\"Sorry, It is not a palindrome. Please try another value.\")   # if string3 and string4 are not same then program prints this."
   ]
  },
  {
   "cell_type": "code",
   "execution_count": 4,
   "id": "5f13e855-6f04-4a52-b089-a52842923ec4",
   "metadata": {},
   "outputs": [
    {
     "name": "stdin",
     "output_type": "stream",
     "text": [
      "Insert a phrase: there is no issue at all\n"
     ]
    },
    {
     "name": "stdout",
     "output_type": "stream",
     "text": [
      "thereisnoissueatall\n"
     ]
    }
   ],
   "source": [
    "# 5. Create a program that takes a string as input and removes all the spaces from it. Print the modified string without spaces.\n",
    "\n",
    "string5 = input(\"Insert a phrase:\")              # To take input from the user which can be stored in string5.\n",
    "print(string5.replace(\" \",\"\")) # This will print the input stored in string5 while replacing spaces with no space between characters."
   ]
  },
  {
   "cell_type": "code",
   "execution_count": null,
   "id": "8530bae8-47fb-462f-8c8d-ad81ae3b0e2c",
   "metadata": {},
   "outputs": [],
   "source": []
  }
 ],
 "metadata": {
  "kernelspec": {
   "display_name": "Python 3 (ipykernel)",
   "language": "python",
   "name": "python3"
  },
  "language_info": {
   "codemirror_mode": {
    "name": "ipython",
    "version": 3
   },
   "file_extension": ".py",
   "mimetype": "text/x-python",
   "name": "python",
   "nbconvert_exporter": "python",
   "pygments_lexer": "ipython3",
   "version": "3.10.8"
  }
 },
 "nbformat": 4,
 "nbformat_minor": 5
}
